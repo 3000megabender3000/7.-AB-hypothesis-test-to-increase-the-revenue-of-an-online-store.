{
 "cells": [
  {
   "cell_type": "markdown",
   "metadata": {},
   "source": [
    "<p>Описание проекта.<p>\n",
    "<p><b>Контекст: </b>\n",
    "Вы — аналитик крупного интернет-магазина. Вместе с отделом маркетинга вы подготовили список гипотез для увеличения выручки. Приоритизируйте гипотезы, запустите A/B-тест и проанализируйте результаты."
   ]
  },
  {
   "cell_type": "markdown",
   "metadata": {},
   "source": [
    "<p>Часть 1. Приоритизация гипотез.</p>\n",
    "<p>В файле /datasets/hypothesis.csv 9 гипотез по увеличению выручки интернет-магазина с указанными параметрами Reach, Impact, Confidence, Effort.</p>\n",
    "<b>Задача:</b>\n",
    "<li>Примените фреймворк ICE для приоритизации гипотез. Отсортируйте их по убыванию приоритета.\n",
    "<li>Примените фреймворк RICE для приоритизации гипотез. Отсортируйте их по убыванию приоритета.\n",
    "<li>Укажите, как изменилась приоритизация гипотез при применении RICE вместо ICE. Объясните, почему так произошло.</p>"
   ]
  },
  {
   "cell_type": "code",
   "execution_count": 109,
   "metadata": {},
   "outputs": [],
   "source": [
    "import sys\n",
    "if not sys.warnoptions:\n",
    "    import warnings\n",
    "    warnings.simplefilter(\"ignore\")\n",
    "import pandas as pd\n",
    "import datetime as dt\n",
    "import numpy as np\n",
    "import matplotlib.pyplot as plt\n",
    "import scipy.stats as stats\n",
    "import sys"
   ]
  },
  {
   "cell_type": "code",
   "execution_count": 110,
   "metadata": {},
   "outputs": [],
   "source": [
    "hypothesis = pd.read_csv('https://code.s3.yandex.net/datasets/hypothesis.csv')"
   ]
  },
  {
   "cell_type": "markdown",
   "metadata": {},
   "source": [
    "<p>Описание данных.</p>\n",
    "<li>Hypothesis — краткое описание гипотезы;\n",
    "<li>Reach — охват пользователей по 10-балльной шкале;\n",
    "<li>Impact — влияние на пользователей по 10-балльной шкале;\n",
    "<li>Confidence — уверенность в гипотезе по 10-балльной шкале;\n",
    "<li>Efforts — затраты ресурсов на проверку гипотезы по 10-балльной шкале. Чем больше значение Efforts, тем дороже проверка гипотезы."
   ]
  },
  {
   "cell_type": "code",
   "execution_count": 111,
   "metadata": {},
   "outputs": [
    {
     "data": {
      "text/html": [
       "<div>\n",
       "<style scoped>\n",
       "    .dataframe tbody tr th:only-of-type {\n",
       "        vertical-align: middle;\n",
       "    }\n",
       "\n",
       "    .dataframe tbody tr th {\n",
       "        vertical-align: top;\n",
       "    }\n",
       "\n",
       "    .dataframe thead th {\n",
       "        text-align: right;\n",
       "    }\n",
       "</style>\n",
       "<table border=\"1\" class=\"dataframe\">\n",
       "  <thead>\n",
       "    <tr style=\"text-align: right;\">\n",
       "      <th></th>\n",
       "      <th>Hypothesis</th>\n",
       "      <th>Reach</th>\n",
       "      <th>Impact</th>\n",
       "      <th>Confidence</th>\n",
       "      <th>Efforts</th>\n",
       "    </tr>\n",
       "  </thead>\n",
       "  <tbody>\n",
       "    <tr>\n",
       "      <td>0</td>\n",
       "      <td>Добавить два новых канала привлечения трафика,...</td>\n",
       "      <td>3</td>\n",
       "      <td>10</td>\n",
       "      <td>8</td>\n",
       "      <td>6</td>\n",
       "    </tr>\n",
       "    <tr>\n",
       "      <td>1</td>\n",
       "      <td>Запустить собственную службу доставки, что сок...</td>\n",
       "      <td>2</td>\n",
       "      <td>5</td>\n",
       "      <td>4</td>\n",
       "      <td>10</td>\n",
       "    </tr>\n",
       "    <tr>\n",
       "      <td>2</td>\n",
       "      <td>Добавить блоки рекомендаций товаров на сайт ин...</td>\n",
       "      <td>8</td>\n",
       "      <td>3</td>\n",
       "      <td>7</td>\n",
       "      <td>3</td>\n",
       "    </tr>\n",
       "    <tr>\n",
       "      <td>3</td>\n",
       "      <td>Изменить структура категорий, что увеличит кон...</td>\n",
       "      <td>8</td>\n",
       "      <td>3</td>\n",
       "      <td>3</td>\n",
       "      <td>8</td>\n",
       "    </tr>\n",
       "    <tr>\n",
       "      <td>4</td>\n",
       "      <td>Изменить цвет фона главной страницы, чтобы уве...</td>\n",
       "      <td>3</td>\n",
       "      <td>1</td>\n",
       "      <td>1</td>\n",
       "      <td>1</td>\n",
       "    </tr>\n",
       "    <tr>\n",
       "      <td>5</td>\n",
       "      <td>Добавить страницу отзывов клиентов о магазине,...</td>\n",
       "      <td>3</td>\n",
       "      <td>2</td>\n",
       "      <td>2</td>\n",
       "      <td>3</td>\n",
       "    </tr>\n",
       "    <tr>\n",
       "      <td>6</td>\n",
       "      <td>Показать на главной странице баннеры с актуаль...</td>\n",
       "      <td>5</td>\n",
       "      <td>3</td>\n",
       "      <td>8</td>\n",
       "      <td>3</td>\n",
       "    </tr>\n",
       "    <tr>\n",
       "      <td>7</td>\n",
       "      <td>Добавить форму подписки на все основные страни...</td>\n",
       "      <td>10</td>\n",
       "      <td>7</td>\n",
       "      <td>8</td>\n",
       "      <td>5</td>\n",
       "    </tr>\n",
       "    <tr>\n",
       "      <td>8</td>\n",
       "      <td>Запустить акцию, дающую скидку на товар в день...</td>\n",
       "      <td>1</td>\n",
       "      <td>9</td>\n",
       "      <td>9</td>\n",
       "      <td>5</td>\n",
       "    </tr>\n",
       "  </tbody>\n",
       "</table>\n",
       "</div>"
      ],
      "text/plain": [
       "                                          Hypothesis  Reach  Impact  \\\n",
       "0  Добавить два новых канала привлечения трафика,...      3      10   \n",
       "1  Запустить собственную службу доставки, что сок...      2       5   \n",
       "2  Добавить блоки рекомендаций товаров на сайт ин...      8       3   \n",
       "3  Изменить структура категорий, что увеличит кон...      8       3   \n",
       "4  Изменить цвет фона главной страницы, чтобы уве...      3       1   \n",
       "5  Добавить страницу отзывов клиентов о магазине,...      3       2   \n",
       "6  Показать на главной странице баннеры с актуаль...      5       3   \n",
       "7  Добавить форму подписки на все основные страни...     10       7   \n",
       "8  Запустить акцию, дающую скидку на товар в день...      1       9   \n",
       "\n",
       "   Confidence  Efforts  \n",
       "0           8        6  \n",
       "1           4       10  \n",
       "2           7        3  \n",
       "3           3        8  \n",
       "4           1        1  \n",
       "5           2        3  \n",
       "6           8        3  \n",
       "7           8        5  \n",
       "8           9        5  "
      ]
     },
     "execution_count": 111,
     "metadata": {},
     "output_type": "execute_result"
    }
   ],
   "source": [
    "hypothesis"
   ]
  },
  {
   "cell_type": "code",
   "execution_count": 112,
   "metadata": {},
   "outputs": [
    {
     "data": {
      "text/plain": [
       "array(['Добавить два новых канала привлечения трафика, что позволит привлекать на 30% больше пользователей',\n",
       "       'Запустить собственную службу доставки, что сократит срок доставки заказов',\n",
       "       'Добавить блоки рекомендаций товаров на сайт интернет магазина, чтобы повысить конверсию и средний чек заказа',\n",
       "       'Изменить структура категорий, что увеличит конверсию, т.к. пользователи быстрее найдут нужный товар',\n",
       "       'Изменить цвет фона главной страницы, чтобы увеличить вовлеченность пользователей',\n",
       "       'Добавить страницу отзывов клиентов о магазине, что позволит увеличить количество заказов',\n",
       "       'Показать на главной странице баннеры с актуальными акциями и распродажами, чтобы увеличить конверсию',\n",
       "       'Добавить форму подписки на все основные страницы, чтобы собрать базу клиентов для email-рассылок',\n",
       "       'Запустить акцию, дающую скидку на товар в день рождения'],\n",
       "      dtype=object)"
      ]
     },
     "execution_count": 112,
     "metadata": {},
     "output_type": "execute_result"
    }
   ],
   "source": [
    "hypothesis.Hypothesis.unique()"
   ]
  },
  {
   "cell_type": "code",
   "execution_count": 113,
   "metadata": {},
   "outputs": [],
   "source": [
    "hypothesis['ICE'] = (hypothesis['Impact'] * hypothesis['Confidence']) / hypothesis['Efforts']"
   ]
  },
  {
   "cell_type": "code",
   "execution_count": 114,
   "metadata": {},
   "outputs": [
    {
     "data": {
      "text/html": [
       "<div>\n",
       "<style scoped>\n",
       "    .dataframe tbody tr th:only-of-type {\n",
       "        vertical-align: middle;\n",
       "    }\n",
       "\n",
       "    .dataframe tbody tr th {\n",
       "        vertical-align: top;\n",
       "    }\n",
       "\n",
       "    .dataframe thead th {\n",
       "        text-align: right;\n",
       "    }\n",
       "</style>\n",
       "<table border=\"1\" class=\"dataframe\">\n",
       "  <thead>\n",
       "    <tr style=\"text-align: right;\">\n",
       "      <th></th>\n",
       "      <th>Hypothesis</th>\n",
       "      <th>Reach</th>\n",
       "      <th>Impact</th>\n",
       "      <th>Confidence</th>\n",
       "      <th>Efforts</th>\n",
       "      <th>ICE</th>\n",
       "    </tr>\n",
       "  </thead>\n",
       "  <tbody>\n",
       "    <tr>\n",
       "      <td>4</td>\n",
       "      <td>Изменить цвет фона главной страницы, чтобы уве...</td>\n",
       "      <td>3</td>\n",
       "      <td>1</td>\n",
       "      <td>1</td>\n",
       "      <td>1</td>\n",
       "      <td>1.000000</td>\n",
       "    </tr>\n",
       "    <tr>\n",
       "      <td>3</td>\n",
       "      <td>Изменить структура категорий, что увеличит кон...</td>\n",
       "      <td>8</td>\n",
       "      <td>3</td>\n",
       "      <td>3</td>\n",
       "      <td>8</td>\n",
       "      <td>1.125000</td>\n",
       "    </tr>\n",
       "    <tr>\n",
       "      <td>5</td>\n",
       "      <td>Добавить страницу отзывов клиентов о магазине,...</td>\n",
       "      <td>3</td>\n",
       "      <td>2</td>\n",
       "      <td>2</td>\n",
       "      <td>3</td>\n",
       "      <td>1.333333</td>\n",
       "    </tr>\n",
       "    <tr>\n",
       "      <td>1</td>\n",
       "      <td>Запустить собственную службу доставки, что сок...</td>\n",
       "      <td>2</td>\n",
       "      <td>5</td>\n",
       "      <td>4</td>\n",
       "      <td>10</td>\n",
       "      <td>2.000000</td>\n",
       "    </tr>\n",
       "    <tr>\n",
       "      <td>2</td>\n",
       "      <td>Добавить блоки рекомендаций товаров на сайт ин...</td>\n",
       "      <td>8</td>\n",
       "      <td>3</td>\n",
       "      <td>7</td>\n",
       "      <td>3</td>\n",
       "      <td>7.000000</td>\n",
       "    </tr>\n",
       "    <tr>\n",
       "      <td>6</td>\n",
       "      <td>Показать на главной странице баннеры с актуаль...</td>\n",
       "      <td>5</td>\n",
       "      <td>3</td>\n",
       "      <td>8</td>\n",
       "      <td>3</td>\n",
       "      <td>8.000000</td>\n",
       "    </tr>\n",
       "    <tr>\n",
       "      <td>7</td>\n",
       "      <td>Добавить форму подписки на все основные страни...</td>\n",
       "      <td>10</td>\n",
       "      <td>7</td>\n",
       "      <td>8</td>\n",
       "      <td>5</td>\n",
       "      <td>11.200000</td>\n",
       "    </tr>\n",
       "    <tr>\n",
       "      <td>0</td>\n",
       "      <td>Добавить два новых канала привлечения трафика,...</td>\n",
       "      <td>3</td>\n",
       "      <td>10</td>\n",
       "      <td>8</td>\n",
       "      <td>6</td>\n",
       "      <td>13.333333</td>\n",
       "    </tr>\n",
       "    <tr>\n",
       "      <td>8</td>\n",
       "      <td>Запустить акцию, дающую скидку на товар в день...</td>\n",
       "      <td>1</td>\n",
       "      <td>9</td>\n",
       "      <td>9</td>\n",
       "      <td>5</td>\n",
       "      <td>16.200000</td>\n",
       "    </tr>\n",
       "  </tbody>\n",
       "</table>\n",
       "</div>"
      ],
      "text/plain": [
       "                                          Hypothesis  Reach  Impact  \\\n",
       "4  Изменить цвет фона главной страницы, чтобы уве...      3       1   \n",
       "3  Изменить структура категорий, что увеличит кон...      8       3   \n",
       "5  Добавить страницу отзывов клиентов о магазине,...      3       2   \n",
       "1  Запустить собственную службу доставки, что сок...      2       5   \n",
       "2  Добавить блоки рекомендаций товаров на сайт ин...      8       3   \n",
       "6  Показать на главной странице баннеры с актуаль...      5       3   \n",
       "7  Добавить форму подписки на все основные страни...     10       7   \n",
       "0  Добавить два новых канала привлечения трафика,...      3      10   \n",
       "8  Запустить акцию, дающую скидку на товар в день...      1       9   \n",
       "\n",
       "   Confidence  Efforts        ICE  \n",
       "4           1        1   1.000000  \n",
       "3           3        8   1.125000  \n",
       "5           2        3   1.333333  \n",
       "1           4       10   2.000000  \n",
       "2           7        3   7.000000  \n",
       "6           8        3   8.000000  \n",
       "7           8        5  11.200000  \n",
       "0           8        6  13.333333  \n",
       "8           9        5  16.200000  "
      ]
     },
     "execution_count": 114,
     "metadata": {},
     "output_type": "execute_result"
    }
   ],
   "source": [
    "hypothesis.sort_values(by='ICE')"
   ]
  },
  {
   "cell_type": "markdown",
   "metadata": {},
   "source": [
    "Гипотезы 1, 3, 4, 5 имеют самый низкий приоритет. Предложенное изменение не сильно повлияет на поведение пользователей, а затраты на 1 и 3 гипотезу достаточно велики. Гипотезы 7, 8, 0 имеют высокий приоритет: предлагаемые изменения должны сильно изменить поведение пользователлей, а затраты будут средними."
   ]
  },
  {
   "cell_type": "code",
   "execution_count": 115,
   "metadata": {},
   "outputs": [],
   "source": [
    "hypothesis['RICE'] = (hypothesis['Impact'] * hypothesis['Confidence'] * hypothesis['Reach']) / hypothesis['Efforts']"
   ]
  },
  {
   "cell_type": "code",
   "execution_count": 116,
   "metadata": {},
   "outputs": [
    {
     "data": {
      "text/html": [
       "<div>\n",
       "<style scoped>\n",
       "    .dataframe tbody tr th:only-of-type {\n",
       "        vertical-align: middle;\n",
       "    }\n",
       "\n",
       "    .dataframe tbody tr th {\n",
       "        vertical-align: top;\n",
       "    }\n",
       "\n",
       "    .dataframe thead th {\n",
       "        text-align: right;\n",
       "    }\n",
       "</style>\n",
       "<table border=\"1\" class=\"dataframe\">\n",
       "  <thead>\n",
       "    <tr style=\"text-align: right;\">\n",
       "      <th></th>\n",
       "      <th>Hypothesis</th>\n",
       "      <th>Reach</th>\n",
       "      <th>Impact</th>\n",
       "      <th>Confidence</th>\n",
       "      <th>Efforts</th>\n",
       "      <th>ICE</th>\n",
       "      <th>RICE</th>\n",
       "    </tr>\n",
       "  </thead>\n",
       "  <tbody>\n",
       "    <tr>\n",
       "      <td>4</td>\n",
       "      <td>Изменить цвет фона главной страницы, чтобы уве...</td>\n",
       "      <td>3</td>\n",
       "      <td>1</td>\n",
       "      <td>1</td>\n",
       "      <td>1</td>\n",
       "      <td>1.000000</td>\n",
       "      <td>3.0</td>\n",
       "    </tr>\n",
       "    <tr>\n",
       "      <td>1</td>\n",
       "      <td>Запустить собственную службу доставки, что сок...</td>\n",
       "      <td>2</td>\n",
       "      <td>5</td>\n",
       "      <td>4</td>\n",
       "      <td>10</td>\n",
       "      <td>2.000000</td>\n",
       "      <td>4.0</td>\n",
       "    </tr>\n",
       "    <tr>\n",
       "      <td>5</td>\n",
       "      <td>Добавить страницу отзывов клиентов о магазине,...</td>\n",
       "      <td>3</td>\n",
       "      <td>2</td>\n",
       "      <td>2</td>\n",
       "      <td>3</td>\n",
       "      <td>1.333333</td>\n",
       "      <td>4.0</td>\n",
       "    </tr>\n",
       "    <tr>\n",
       "      <td>3</td>\n",
       "      <td>Изменить структура категорий, что увеличит кон...</td>\n",
       "      <td>8</td>\n",
       "      <td>3</td>\n",
       "      <td>3</td>\n",
       "      <td>8</td>\n",
       "      <td>1.125000</td>\n",
       "      <td>9.0</td>\n",
       "    </tr>\n",
       "    <tr>\n",
       "      <td>8</td>\n",
       "      <td>Запустить акцию, дающую скидку на товар в день...</td>\n",
       "      <td>1</td>\n",
       "      <td>9</td>\n",
       "      <td>9</td>\n",
       "      <td>5</td>\n",
       "      <td>16.200000</td>\n",
       "      <td>16.2</td>\n",
       "    </tr>\n",
       "    <tr>\n",
       "      <td>0</td>\n",
       "      <td>Добавить два новых канала привлечения трафика,...</td>\n",
       "      <td>3</td>\n",
       "      <td>10</td>\n",
       "      <td>8</td>\n",
       "      <td>6</td>\n",
       "      <td>13.333333</td>\n",
       "      <td>40.0</td>\n",
       "    </tr>\n",
       "    <tr>\n",
       "      <td>6</td>\n",
       "      <td>Показать на главной странице баннеры с актуаль...</td>\n",
       "      <td>5</td>\n",
       "      <td>3</td>\n",
       "      <td>8</td>\n",
       "      <td>3</td>\n",
       "      <td>8.000000</td>\n",
       "      <td>40.0</td>\n",
       "    </tr>\n",
       "    <tr>\n",
       "      <td>2</td>\n",
       "      <td>Добавить блоки рекомендаций товаров на сайт ин...</td>\n",
       "      <td>8</td>\n",
       "      <td>3</td>\n",
       "      <td>7</td>\n",
       "      <td>3</td>\n",
       "      <td>7.000000</td>\n",
       "      <td>56.0</td>\n",
       "    </tr>\n",
       "    <tr>\n",
       "      <td>7</td>\n",
       "      <td>Добавить форму подписки на все основные страни...</td>\n",
       "      <td>10</td>\n",
       "      <td>7</td>\n",
       "      <td>8</td>\n",
       "      <td>5</td>\n",
       "      <td>11.200000</td>\n",
       "      <td>112.0</td>\n",
       "    </tr>\n",
       "  </tbody>\n",
       "</table>\n",
       "</div>"
      ],
      "text/plain": [
       "                                          Hypothesis  Reach  Impact  \\\n",
       "4  Изменить цвет фона главной страницы, чтобы уве...      3       1   \n",
       "1  Запустить собственную службу доставки, что сок...      2       5   \n",
       "5  Добавить страницу отзывов клиентов о магазине,...      3       2   \n",
       "3  Изменить структура категорий, что увеличит кон...      8       3   \n",
       "8  Запустить акцию, дающую скидку на товар в день...      1       9   \n",
       "0  Добавить два новых канала привлечения трафика,...      3      10   \n",
       "6  Показать на главной странице баннеры с актуаль...      5       3   \n",
       "2  Добавить блоки рекомендаций товаров на сайт ин...      8       3   \n",
       "7  Добавить форму подписки на все основные страни...     10       7   \n",
       "\n",
       "   Confidence  Efforts        ICE   RICE  \n",
       "4           1        1   1.000000    3.0  \n",
       "1           4       10   2.000000    4.0  \n",
       "5           2        3   1.333333    4.0  \n",
       "3           3        8   1.125000    9.0  \n",
       "8           9        5  16.200000   16.2  \n",
       "0           8        6  13.333333   40.0  \n",
       "6           8        3   8.000000   40.0  \n",
       "2           7        3   7.000000   56.0  \n",
       "7           8        5  11.200000  112.0  "
      ]
     },
     "execution_count": 116,
     "metadata": {},
     "output_type": "execute_result"
    }
   ],
   "source": [
    "hypothesis.sort_values(by='RICE')"
   ]
  },
  {
   "cell_type": "markdown",
   "metadata": {},
   "source": [
    "Построим график для наглядного представления различия в приоритизации гипотез для разных способов."
   ]
  },
  {
   "cell_type": "code",
   "execution_count": 117,
   "metadata": {},
   "outputs": [
    {
     "data": {
      "text/plain": [
       "RangeIndex(start=0, stop=9, step=1)"
      ]
     },
     "execution_count": 117,
     "metadata": {},
     "output_type": "execute_result"
    }
   ],
   "source": [
    "hypothesis.index"
   ]
  },
  {
   "cell_type": "code",
   "execution_count": 118,
   "metadata": {},
   "outputs": [
    {
     "data": {
      "image/png": "[encoded data removed]",
      "text/plain": [
       "<Figure size 864x432 with 1 Axes>"
      ]
     },
     "metadata": {
      "needs_background": "light"
     },
     "output_type": "display_data"
    }
   ],
   "source": [
    "plt.figure(figsize=(12,6))\n",
    "plt.bar(height = hypothesis['ICE'], x=hypothesis.index, label='ICE')\n",
    "plt.bar(height = hypothesis['RICE'], x=hypothesis.index, label='RICE', alpha=0.6)\n",
    "plt.xlabel('Номер гипотезы')\n",
    "plt.ylabel('Значение приоритизации')\n",
    "plt.xticks(hypothesis.index)\n",
    "plt.legend()\n",
    "plt.title('Графики приоритизации гипотез разными способами')\n",
    "plt.show()"
   ]
  },
  {
   "cell_type": "markdown",
   "metadata": {},
   "source": [
    "Рассчитывая приоритезацию гипотез методом RICE первое место заняла 7 гипотеза. Её введение охватит всю аудиторию и заставит пользователей сильно изменить своё поведение, при том, что затраты будут средними. Приоритет этой гипотезы по ICE был не максимальным, т.к. не учитывал параметр охвата (Reach), но даже без этого был выше среднего. 8 гипотеза опустилась на средние позиции т.к. её введение захватит минимальную часть пользователей, хотя и изменит это поведение очень сильно. То же можно отнести и к 0 гипотизе. 1,3,4,5 гипотезы практически не изменили свой приоритет, их введение не даст ощутимую пользу сервису и поэтому их введение можно не рассматривать. Гипотезы 2 и 6 занимают 2 и 3 место по значимости. Они привлекают небольшими затратами на введение. 2 гипотеза имеет более широкий охват аудитории, но у обеих небольшое влияние на действия пользователей."
   ]
  },
  {
   "cell_type": "markdown",
   "metadata": {},
   "source": [
    "<b>Общий вывод:</b> Гипотеза о добавлении формы подписки на все основные страницы, чтобы собрать базу клиентов для email-рассылок является самой значительной среди остальных гипотез. Она охватит всех пользователей и должна изменить их поведение в нужную сторону. Затраты на её внедрение будут средними."
   ]
  },
  {
   "cell_type": "markdown",
   "metadata": {},
   "source": [
    "<p>Часть 2. Анализ A/B-теста.</p>\n",
    "Вы провели A/B-тест и получили результаты, которые описаны в файлах /datasets/orders.csv и /datasets/visitors.csv.\n",
    "<p><b>Задача:</b></p>\n",
    "Проанализируйте A/B-тест:\n",
    "<li>Постройте график кумулятивной выручки по группам. Сделайте выводы и предположения.\n",
    "<li>Постройте график кумулятивного среднего чека по группам. Сделайте выводы и предположения.\n",
    "<li>Постройте график относительного изменения кумулятивного среднего чека группы B к группе A. Сделайте выводы и предположения.\n",
    "<li>Постройте график кумулятивной конверсии по группам. Сделайте выводы и предположения.\n",
    "<li>Постройте график относительного изменения кумулятивной конверсии группы B к группе A. Сделайте выводы и предположения.\n",
    "<li>Постройте точечный график количества заказов по пользователям. Сделайте выводы и предположения.\n",
    "<li>Посчитайте 95-й и 99-й перцентили количества заказов на пользователя. Выберите границу для определения аномальных пользователей.\n",
    "<li>Постройте точечный график стоимостей заказов. Сделайте выводы и предположения.\n",
    "<li>Посчитайте 95-й и 99-й перцентили стоимости заказов. Выберите границу для определения аномальных заказов.\n",
    "<li>Посчитайте статистическую значимость различий в конверсии между группами по «сырым» данным. Сделайте выводы и предположения.\n",
    "<li>Посчитайте статистическую значимость различий в среднем чеке заказа между группами по «сырым» данным. Сделайте выводы и предположения.\n",
    "<li>Посчитайте статистическую значимость различий в конверсии между группами по «очищенным» данным. Сделайте выводы и предположения.\n",
    "<li>Посчитайте статистическую значимость различий в среднем чеке заказа между группами по «очищенным» данным. Сделайте выводы и предположения.\n",
    "<li>Примите решение по результатам теста и объясните его. Варианты решений: 1. Остановить тест, зафиксировать победу одной из групп. 2. Остановить тест, зафиксировать отсутствие различий между группами. 3. Продолжить тест."
   ]
  },
  {
   "cell_type": "code",
   "execution_count": 119,
   "metadata": {},
   "outputs": [],
   "source": [
    "orders = pd.read_csv('https://code.s3.yandex.net/datasets/orders.csv')\n",
    "visitors = pd.read_csv('https://code.s3.yandex.net/datasets/visitors.csv')"
   ]
  },
  {
   "cell_type": "code",
   "execution_count": 120,
   "metadata": {},
   "outputs": [
    {
     "data": {
      "text/html": [
       "<div>\n",
       "<style scoped>\n",
       "    .dataframe tbody tr th:only-of-type {\n",
       "        vertical-align: middle;\n",
       "    }\n",
       "\n",
       "    .dataframe tbody tr th {\n",
       "        vertical-align: top;\n",
       "    }\n",
       "\n",
       "    .dataframe thead th {\n",
       "        text-align: right;\n",
       "    }\n",
       "</style>\n",
       "<table border=\"1\" class=\"dataframe\">\n",
       "  <thead>\n",
       "    <tr style=\"text-align: right;\">\n",
       "      <th></th>\n",
       "      <th>transactionId</th>\n",
       "      <th>visitorId</th>\n",
       "      <th>date</th>\n",
       "      <th>revenue</th>\n",
       "      <th>group</th>\n",
       "    </tr>\n",
       "  </thead>\n",
       "  <tbody>\n",
       "    <tr>\n",
       "      <td>0</td>\n",
       "      <td>3667963787</td>\n",
       "      <td>3312258926</td>\n",
       "      <td>2019-08-15</td>\n",
       "      <td>1650</td>\n",
       "      <td>B</td>\n",
       "    </tr>\n",
       "    <tr>\n",
       "      <td>1</td>\n",
       "      <td>2804400009</td>\n",
       "      <td>3642806036</td>\n",
       "      <td>2019-08-15</td>\n",
       "      <td>730</td>\n",
       "      <td>B</td>\n",
       "    </tr>\n",
       "    <tr>\n",
       "      <td>2</td>\n",
       "      <td>2961555356</td>\n",
       "      <td>4069496402</td>\n",
       "      <td>2019-08-15</td>\n",
       "      <td>400</td>\n",
       "      <td>A</td>\n",
       "    </tr>\n",
       "    <tr>\n",
       "      <td>3</td>\n",
       "      <td>3797467345</td>\n",
       "      <td>1196621759</td>\n",
       "      <td>2019-08-15</td>\n",
       "      <td>9759</td>\n",
       "      <td>B</td>\n",
       "    </tr>\n",
       "    <tr>\n",
       "      <td>4</td>\n",
       "      <td>2282983706</td>\n",
       "      <td>2322279887</td>\n",
       "      <td>2019-08-15</td>\n",
       "      <td>2308</td>\n",
       "      <td>B</td>\n",
       "    </tr>\n",
       "  </tbody>\n",
       "</table>\n",
       "</div>"
      ],
      "text/plain": [
       "   transactionId   visitorId        date  revenue group\n",
       "0     3667963787  3312258926  2019-08-15     1650     B\n",
       "1     2804400009  3642806036  2019-08-15      730     B\n",
       "2     2961555356  4069496402  2019-08-15      400     A\n",
       "3     3797467345  1196621759  2019-08-15     9759     B\n",
       "4     2282983706  2322279887  2019-08-15     2308     B"
      ]
     },
     "execution_count": 120,
     "metadata": {},
     "output_type": "execute_result"
    }
   ],
   "source": [
    "orders.head()"
   ]
  },
  {
   "cell_type": "markdown",
   "metadata": {},
   "source": [
    "<p>Описание данных.</p>\n",
    "<li>transactionId — идентификатор заказа;\n",
    "<li>visitorId — идентификатор пользователя, совершившего заказ;\n",
    "<li>date — дата, когда был совершён заказ;\n",
    "<li>revenue — выручка заказа;\n",
    "<li>group — группа A/B-теста, в которую попал заказ."
   ]
  },
  {
   "cell_type": "code",
   "execution_count": 121,
   "metadata": {},
   "outputs": [
    {
     "data": {
      "text/html": [
       "<div>\n",
       "<style scoped>\n",
       "    .dataframe tbody tr th:only-of-type {\n",
       "        vertical-align: middle;\n",
       "    }\n",
       "\n",
       "    .dataframe tbody tr th {\n",
       "        vertical-align: top;\n",
       "    }\n",
       "\n",
       "    .dataframe thead th {\n",
       "        text-align: right;\n",
       "    }\n",
       "</style>\n",
       "<table border=\"1\" class=\"dataframe\">\n",
       "  <thead>\n",
       "    <tr style=\"text-align: right;\">\n",
       "      <th></th>\n",
       "      <th>date</th>\n",
       "      <th>group</th>\n",
       "      <th>visitors</th>\n",
       "    </tr>\n",
       "  </thead>\n",
       "  <tbody>\n",
       "    <tr>\n",
       "      <td>0</td>\n",
       "      <td>2019-08-01</td>\n",
       "      <td>A</td>\n",
       "      <td>719</td>\n",
       "    </tr>\n",
       "    <tr>\n",
       "      <td>1</td>\n",
       "      <td>2019-08-02</td>\n",
       "      <td>A</td>\n",
       "      <td>619</td>\n",
       "    </tr>\n",
       "    <tr>\n",
       "      <td>2</td>\n",
       "      <td>2019-08-03</td>\n",
       "      <td>A</td>\n",
       "      <td>507</td>\n",
       "    </tr>\n",
       "    <tr>\n",
       "      <td>3</td>\n",
       "      <td>2019-08-04</td>\n",
       "      <td>A</td>\n",
       "      <td>717</td>\n",
       "    </tr>\n",
       "    <tr>\n",
       "      <td>4</td>\n",
       "      <td>2019-08-05</td>\n",
       "      <td>A</td>\n",
       "      <td>756</td>\n",
       "    </tr>\n",
       "  </tbody>\n",
       "</table>\n",
       "</div>"
      ],
      "text/plain": [
       "         date group  visitors\n",
       "0  2019-08-01     A       719\n",
       "1  2019-08-02     A       619\n",
       "2  2019-08-03     A       507\n",
       "3  2019-08-04     A       717\n",
       "4  2019-08-05     A       756"
      ]
     },
     "execution_count": 121,
     "metadata": {},
     "output_type": "execute_result"
    }
   ],
   "source": [
    "visitors.head()"
   ]
  },
  {
   "cell_type": "markdown",
   "metadata": {},
   "source": [
    "<p>Описание данных.</p>\n",
    "<li>date — дата;\n",
    "<li>group — группа A/B-теста;\n",
    "<li>visitors — количество пользователей в указанную дату в указанной группе A/B-теста"
   ]
  },
  {
   "cell_type": "code",
   "execution_count": 122,
   "metadata": {},
   "outputs": [
    {
     "data": {
      "text/plain": [
       "transactionId    0\n",
       "visitorId        0\n",
       "date             0\n",
       "revenue          0\n",
       "group            0\n",
       "dtype: int64"
      ]
     },
     "execution_count": 122,
     "metadata": {},
     "output_type": "execute_result"
    }
   ],
   "source": [
    "orders.isna().sum()"
   ]
  },
  {
   "cell_type": "code",
   "execution_count": 123,
   "metadata": {},
   "outputs": [
    {
     "data": {
      "text/plain": [
       "date        0\n",
       "group       0\n",
       "visitors    0\n",
       "dtype: int64"
      ]
     },
     "execution_count": 123,
     "metadata": {},
     "output_type": "execute_result"
    }
   ],
   "source": [
    "visitors.isna().sum()"
   ]
  },
  {
   "cell_type": "markdown",
   "metadata": {},
   "source": [
    "Пропусков в данных нет."
   ]
  },
  {
   "cell_type": "code",
   "execution_count": 124,
   "metadata": {},
   "outputs": [
    {
     "data": {
      "text/plain": [
       "0"
      ]
     },
     "execution_count": 124,
     "metadata": {},
     "output_type": "execute_result"
    }
   ],
   "source": [
    "orders.duplicated().sum()"
   ]
  },
  {
   "cell_type": "code",
   "execution_count": 125,
   "metadata": {},
   "outputs": [
    {
     "data": {
      "text/plain": [
       "0"
      ]
     },
     "execution_count": 125,
     "metadata": {},
     "output_type": "execute_result"
    }
   ],
   "source": [
    "visitors.duplicated().sum()"
   ]
  },
  {
   "cell_type": "markdown",
   "metadata": {},
   "source": [
    "Дубликатов в данных нет."
   ]
  },
  {
   "cell_type": "code",
   "execution_count": 126,
   "metadata": {},
   "outputs": [
    {
     "data": {
      "text/plain": [
       "transactionId     int64\n",
       "visitorId         int64\n",
       "date             object\n",
       "revenue           int64\n",
       "group            object\n",
       "dtype: object"
      ]
     },
     "execution_count": 126,
     "metadata": {},
     "output_type": "execute_result"
    }
   ],
   "source": [
    "orders.dtypes"
   ]
  },
  {
   "cell_type": "code",
   "execution_count": 127,
   "metadata": {},
   "outputs": [
    {
     "data": {
      "text/plain": [
       "date        object\n",
       "group       object\n",
       "visitors     int64\n",
       "dtype: object"
      ]
     },
     "execution_count": 127,
     "metadata": {},
     "output_type": "execute_result"
    }
   ],
   "source": [
    "visitors.dtypes"
   ]
  },
  {
   "cell_type": "markdown",
   "metadata": {},
   "source": [
    "В столбцах date обоих таблиц типы данных надо исправить на datetime."
   ]
  },
  {
   "cell_type": "markdown",
   "metadata": {},
   "source": [
    "<div style=\"border-radius: 15px; border: 3px solid indigo; padding: 15px;\">\n",
    "Постройте график кумулятивной выручки по группам. Сделайте выводы и предположения."
   ]
  },
  {
   "cell_type": "markdown",
   "metadata": {},
   "source": [
    "Приведём значения столбцов date к типу datetime."
   ]
  },
  {
   "cell_type": "code",
   "execution_count": 128,
   "metadata": {},
   "outputs": [],
   "source": [
    "orders['date'] = orders['date'].map(lambda x: dt.datetime.strptime(x, '%Y-%m-%d'))"
   ]
  },
  {
   "cell_type": "code",
   "execution_count": 129,
   "metadata": {},
   "outputs": [],
   "source": [
    "visitors['date'] = visitors['date'].map(lambda x: dt.datetime.strptime(x, '%Y-%m-%d'))"
   ]
  },
  {
   "cell_type": "markdown",
   "metadata": {},
   "source": [
    "Проверим, есть ли пользователи, принадлежащие к обеим группам."
   ]
  },
  {
   "cell_type": "code",
   "execution_count": 130,
   "metadata": {},
   "outputs": [
    {
     "data": {
      "text/html": [
       "<div>\n",
       "<style scoped>\n",
       "    .dataframe tbody tr th:only-of-type {\n",
       "        vertical-align: middle;\n",
       "    }\n",
       "\n",
       "    .dataframe tbody tr th {\n",
       "        vertical-align: top;\n",
       "    }\n",
       "\n",
       "    .dataframe thead th {\n",
       "        text-align: right;\n",
       "    }\n",
       "</style>\n",
       "<table border=\"1\" class=\"dataframe\">\n",
       "  <thead>\n",
       "    <tr style=\"text-align: right;\">\n",
       "      <th></th>\n",
       "      <th>visitorId</th>\n",
       "      <th>group</th>\n",
       "    </tr>\n",
       "  </thead>\n",
       "  <tbody>\n",
       "    <tr>\n",
       "      <td>703</td>\n",
       "      <td>8300375</td>\n",
       "      <td>A</td>\n",
       "    </tr>\n",
       "    <tr>\n",
       "      <td>823</td>\n",
       "      <td>199603092</td>\n",
       "      <td>A</td>\n",
       "    </tr>\n",
       "    <tr>\n",
       "      <td>246</td>\n",
       "      <td>199603092</td>\n",
       "      <td>B</td>\n",
       "    </tr>\n",
       "    <tr>\n",
       "      <td>1102</td>\n",
       "      <td>199603092</td>\n",
       "      <td>A</td>\n",
       "    </tr>\n",
       "    <tr>\n",
       "      <td>134</td>\n",
       "      <td>199603092</td>\n",
       "      <td>A</td>\n",
       "    </tr>\n",
       "  </tbody>\n",
       "</table>\n",
       "</div>"
      ],
      "text/plain": [
       "      visitorId group\n",
       "703     8300375     A\n",
       "823   199603092     A\n",
       "246   199603092     B\n",
       "1102  199603092     A\n",
       "134   199603092     A"
      ]
     },
     "execution_count": 130,
     "metadata": {},
     "output_type": "execute_result"
    }
   ],
   "source": [
    "df = orders[['visitorId', 'group']]\n",
    "df = df.query('visitorId.duplicated()').sort_values(by='visitorId')\n",
    "df.head()"
   ]
  },
  {
   "cell_type": "code",
   "execution_count": 131,
   "metadata": {},
   "outputs": [
    {
     "data": {
      "text/html": [
       "<div>\n",
       "<style scoped>\n",
       "    .dataframe tbody tr th:only-of-type {\n",
       "        vertical-align: middle;\n",
       "    }\n",
       "\n",
       "    .dataframe tbody tr th {\n",
       "        vertical-align: top;\n",
       "    }\n",
       "\n",
       "    .dataframe thead th {\n",
       "        text-align: right;\n",
       "    }\n",
       "</style>\n",
       "<table border=\"1\" class=\"dataframe\">\n",
       "  <thead>\n",
       "    <tr style=\"text-align: right;\">\n",
       "      <th></th>\n",
       "      <th>visitorId</th>\n",
       "      <th>group</th>\n",
       "    </tr>\n",
       "  </thead>\n",
       "  <tbody>\n",
       "    <tr>\n",
       "      <td>0</td>\n",
       "      <td>8300375</td>\n",
       "      <td>1</td>\n",
       "    </tr>\n",
       "    <tr>\n",
       "      <td>1</td>\n",
       "      <td>199603092</td>\n",
       "      <td>2</td>\n",
       "    </tr>\n",
       "    <tr>\n",
       "      <td>2</td>\n",
       "      <td>232979603</td>\n",
       "      <td>1</td>\n",
       "    </tr>\n",
       "    <tr>\n",
       "      <td>3</td>\n",
       "      <td>237748145</td>\n",
       "      <td>1</td>\n",
       "    </tr>\n",
       "    <tr>\n",
       "      <td>4</td>\n",
       "      <td>249864742</td>\n",
       "      <td>1</td>\n",
       "    </tr>\n",
       "  </tbody>\n",
       "</table>\n",
       "</div>"
      ],
      "text/plain": [
       "   visitorId  group\n",
       "0    8300375      1\n",
       "1  199603092      2\n",
       "2  232979603      1\n",
       "3  237748145      1\n",
       "4  249864742      1"
      ]
     },
     "execution_count": 131,
     "metadata": {},
     "output_type": "execute_result"
    }
   ],
   "source": [
    "df = df.groupby('visitorId').agg({'group':'nunique'}).reset_index()\n",
    "df.head()"
   ]
  },
  {
   "cell_type": "code",
   "execution_count": 132,
   "metadata": {},
   "outputs": [
    {
     "name": "stdout",
     "output_type": "stream",
     "text": [
      "Количество пользователей, попавших в две исследуемые группы:  15\n",
      "Доля таких пользователей из общего числа: 1.25%\n"
     ]
    }
   ],
   "source": [
    "print('Количество пользователей, попавших в две исследуемые группы: ', len(df.query('group != 1')))\n",
    "print('Доля таких пользователей из общего числа: {:.2%}'. format(15/1197))"
   ]
  },
  {
   "cell_type": "markdown",
   "metadata": {},
   "source": [
    "1.25% пользователей попали в обе исследуемые группы. Исследование можно продолжить, но необходимо сообщить об этом разработчикам."
   ]
  },
  {
   "cell_type": "markdown",
   "metadata": {},
   "source": [
    "Создадим массив уникальных пар значений дат и групп путём удаления дубликатов."
   ]
  },
  {
   "cell_type": "code",
   "execution_count": 133,
   "metadata": {},
   "outputs": [],
   "source": [
    "datesGroups = orders[['date', 'group']].drop_duplicates()"
   ]
  },
  {
   "cell_type": "code",
   "execution_count": 134,
   "metadata": {},
   "outputs": [
    {
     "data": {
      "text/html": [
       "<div>\n",
       "<style scoped>\n",
       "    .dataframe tbody tr th:only-of-type {\n",
       "        vertical-align: middle;\n",
       "    }\n",
       "\n",
       "    .dataframe tbody tr th {\n",
       "        vertical-align: top;\n",
       "    }\n",
       "\n",
       "    .dataframe thead th {\n",
       "        text-align: right;\n",
       "    }\n",
       "</style>\n",
       "<table border=\"1\" class=\"dataframe\">\n",
       "  <thead>\n",
       "    <tr style=\"text-align: right;\">\n",
       "      <th></th>\n",
       "      <th>date</th>\n",
       "      <th>group</th>\n",
       "    </tr>\n",
       "  </thead>\n",
       "  <tbody>\n",
       "    <tr>\n",
       "      <td>0</td>\n",
       "      <td>2019-08-15</td>\n",
       "      <td>B</td>\n",
       "    </tr>\n",
       "    <tr>\n",
       "      <td>2</td>\n",
       "      <td>2019-08-15</td>\n",
       "      <td>A</td>\n",
       "    </tr>\n",
       "    <tr>\n",
       "      <td>45</td>\n",
       "      <td>2019-08-16</td>\n",
       "      <td>A</td>\n",
       "    </tr>\n",
       "    <tr>\n",
       "      <td>47</td>\n",
       "      <td>2019-08-16</td>\n",
       "      <td>B</td>\n",
       "    </tr>\n",
       "    <tr>\n",
       "      <td>55</td>\n",
       "      <td>2019-08-01</td>\n",
       "      <td>A</td>\n",
       "    </tr>\n",
       "  </tbody>\n",
       "</table>\n",
       "</div>"
      ],
      "text/plain": [
       "         date group\n",
       "0  2019-08-15     B\n",
       "2  2019-08-15     A\n",
       "45 2019-08-16     A\n",
       "47 2019-08-16     B\n",
       "55 2019-08-01     A"
      ]
     },
     "execution_count": 134,
     "metadata": {},
     "output_type": "execute_result"
    }
   ],
   "source": [
    "datesGroups.head()"
   ]
  },
  {
   "cell_type": "markdown",
   "metadata": {},
   "source": [
    "Соберём агрегированные кумулятивные по дням данные о заказах в несколько действий. Получим строки таблицы orders, дата которых меньше или равна элементу из таблицы dateGroups, а группа теста была равна группе из dateGroups. Агрегируем значения и вычислим максимальную дату. Найдём число уникальных ID заказов и пользователей. Подсчитаем сумму средних чеков."
   ]
  },
  {
   "cell_type": "code",
   "execution_count": 135,
   "metadata": {},
   "outputs": [],
   "source": [
    "ordersAggregated = datesGroups.apply(lambda x: orders[np.logical_and(orders['date'] <= x['date'], orders['group'] == x['group'])]\\\n",
    ".agg({'date' : 'max', 'group' : 'max', 'transactionId' : pd.Series.nunique, 'visitorId' : pd.Series.nunique, 'revenue' : 'sum'}), axis=1).sort_values(by=['date','group'])"
   ]
  },
  {
   "cell_type": "code",
   "execution_count": 136,
   "metadata": {},
   "outputs": [
    {
     "data": {
      "text/html": [
       "<div>\n",
       "<style scoped>\n",
       "    .dataframe tbody tr th:only-of-type {\n",
       "        vertical-align: middle;\n",
       "    }\n",
       "\n",
       "    .dataframe tbody tr th {\n",
       "        vertical-align: top;\n",
       "    }\n",
       "\n",
       "    .dataframe thead th {\n",
       "        text-align: right;\n",
       "    }\n",
       "</style>\n",
       "<table border=\"1\" class=\"dataframe\">\n",
       "  <thead>\n",
       "    <tr style=\"text-align: right;\">\n",
       "      <th></th>\n",
       "      <th>date</th>\n",
       "      <th>group</th>\n",
       "      <th>transactionId</th>\n",
       "      <th>visitorId</th>\n",
       "      <th>revenue</th>\n",
       "    </tr>\n",
       "  </thead>\n",
       "  <tbody>\n",
       "    <tr>\n",
       "      <td>55</td>\n",
       "      <td>2019-08-01</td>\n",
       "      <td>A</td>\n",
       "      <td>24</td>\n",
       "      <td>20</td>\n",
       "      <td>148579</td>\n",
       "    </tr>\n",
       "    <tr>\n",
       "      <td>66</td>\n",
       "      <td>2019-08-01</td>\n",
       "      <td>B</td>\n",
       "      <td>21</td>\n",
       "      <td>20</td>\n",
       "      <td>101217</td>\n",
       "    </tr>\n",
       "    <tr>\n",
       "      <td>175</td>\n",
       "      <td>2019-08-02</td>\n",
       "      <td>A</td>\n",
       "      <td>44</td>\n",
       "      <td>38</td>\n",
       "      <td>242401</td>\n",
       "    </tr>\n",
       "    <tr>\n",
       "      <td>173</td>\n",
       "      <td>2019-08-02</td>\n",
       "      <td>B</td>\n",
       "      <td>45</td>\n",
       "      <td>43</td>\n",
       "      <td>266748</td>\n",
       "    </tr>\n",
       "    <tr>\n",
       "      <td>291</td>\n",
       "      <td>2019-08-03</td>\n",
       "      <td>A</td>\n",
       "      <td>68</td>\n",
       "      <td>62</td>\n",
       "      <td>354874</td>\n",
       "    </tr>\n",
       "  </tbody>\n",
       "</table>\n",
       "</div>"
      ],
      "text/plain": [
       "          date group  transactionId  visitorId  revenue\n",
       "55  2019-08-01     A             24         20   148579\n",
       "66  2019-08-01     B             21         20   101217\n",
       "175 2019-08-02     A             44         38   242401\n",
       "173 2019-08-02     B             45         43   266748\n",
       "291 2019-08-03     A             68         62   354874"
      ]
     },
     "execution_count": 136,
     "metadata": {},
     "output_type": "execute_result"
    }
   ],
   "source": [
    "ordersAggregated.head()"
   ]
  },
  {
   "cell_type": "markdown",
   "metadata": {},
   "source": [
    "Аналогично получим агрегированные кумулятивные по дням данные о посетителях."
   ]
  },
  {
   "cell_type": "code",
   "execution_count": 137,
   "metadata": {},
   "outputs": [],
   "source": [
    "visitorsAggregated = datesGroups.apply(lambda x: visitors[np.logical_and(visitors['date'] <= x['date'], visitors['group'] == x['group'])]\\\n",
    ".agg({'date' : 'max', 'group' : 'max', 'visitors' : 'sum'}), axis=1).sort_values(by=['date', 'group'])                                       "
   ]
  },
  {
   "cell_type": "code",
   "execution_count": 138,
   "metadata": {},
   "outputs": [
    {
     "data": {
      "text/html": [
       "<div>\n",
       "<style scoped>\n",
       "    .dataframe tbody tr th:only-of-type {\n",
       "        vertical-align: middle;\n",
       "    }\n",
       "\n",
       "    .dataframe tbody tr th {\n",
       "        vertical-align: top;\n",
       "    }\n",
       "\n",
       "    .dataframe thead th {\n",
       "        text-align: right;\n",
       "    }\n",
       "</style>\n",
       "<table border=\"1\" class=\"dataframe\">\n",
       "  <thead>\n",
       "    <tr style=\"text-align: right;\">\n",
       "      <th></th>\n",
       "      <th>date</th>\n",
       "      <th>group</th>\n",
       "      <th>visitors</th>\n",
       "    </tr>\n",
       "  </thead>\n",
       "  <tbody>\n",
       "    <tr>\n",
       "      <td>55</td>\n",
       "      <td>2019-08-01</td>\n",
       "      <td>A</td>\n",
       "      <td>719</td>\n",
       "    </tr>\n",
       "    <tr>\n",
       "      <td>66</td>\n",
       "      <td>2019-08-01</td>\n",
       "      <td>B</td>\n",
       "      <td>713</td>\n",
       "    </tr>\n",
       "    <tr>\n",
       "      <td>175</td>\n",
       "      <td>2019-08-02</td>\n",
       "      <td>A</td>\n",
       "      <td>1338</td>\n",
       "    </tr>\n",
       "    <tr>\n",
       "      <td>173</td>\n",
       "      <td>2019-08-02</td>\n",
       "      <td>B</td>\n",
       "      <td>1294</td>\n",
       "    </tr>\n",
       "    <tr>\n",
       "      <td>291</td>\n",
       "      <td>2019-08-03</td>\n",
       "      <td>A</td>\n",
       "      <td>1845</td>\n",
       "    </tr>\n",
       "  </tbody>\n",
       "</table>\n",
       "</div>"
      ],
      "text/plain": [
       "          date group  visitors\n",
       "55  2019-08-01     A       719\n",
       "66  2019-08-01     B       713\n",
       "175 2019-08-02     A      1338\n",
       "173 2019-08-02     B      1294\n",
       "291 2019-08-03     A      1845"
      ]
     },
     "execution_count": 138,
     "metadata": {},
     "output_type": "execute_result"
    }
   ],
   "source": [
    "visitorsAggregated.head()"
   ]
  },
  {
   "cell_type": "markdown",
   "metadata": {},
   "source": [
    "Объединим обе таблицы в одну."
   ]
  },
  {
   "cell_type": "code",
   "execution_count": 139,
   "metadata": {},
   "outputs": [],
   "source": [
    "cumulativeData = ordersAggregated.merge(visitorsAggregated, left_on = ['date', 'group'], right_on = ['date', 'group'])"
   ]
  },
  {
   "cell_type": "code",
   "execution_count": 140,
   "metadata": {},
   "outputs": [],
   "source": [
    "cumulativeData.columns = ['date', 'group', 'orders', 'buyers', 'revenue', 'visitors']"
   ]
  },
  {
   "cell_type": "code",
   "execution_count": 141,
   "metadata": {},
   "outputs": [
    {
     "data": {
      "text/html": [
       "<div>\n",
       "<style scoped>\n",
       "    .dataframe tbody tr th:only-of-type {\n",
       "        vertical-align: middle;\n",
       "    }\n",
       "\n",
       "    .dataframe tbody tr th {\n",
       "        vertical-align: top;\n",
       "    }\n",
       "\n",
       "    .dataframe thead th {\n",
       "        text-align: right;\n",
       "    }\n",
       "</style>\n",
       "<table border=\"1\" class=\"dataframe\">\n",
       "  <thead>\n",
       "    <tr style=\"text-align: right;\">\n",
       "      <th></th>\n",
       "      <th>date</th>\n",
       "      <th>group</th>\n",
       "      <th>orders</th>\n",
       "      <th>buyers</th>\n",
       "      <th>revenue</th>\n",
       "      <th>visitors</th>\n",
       "    </tr>\n",
       "  </thead>\n",
       "  <tbody>\n",
       "    <tr>\n",
       "      <td>0</td>\n",
       "      <td>2019-08-01</td>\n",
       "      <td>A</td>\n",
       "      <td>24</td>\n",
       "      <td>20</td>\n",
       "      <td>148579</td>\n",
       "      <td>719</td>\n",
       "    </tr>\n",
       "    <tr>\n",
       "      <td>1</td>\n",
       "      <td>2019-08-01</td>\n",
       "      <td>B</td>\n",
       "      <td>21</td>\n",
       "      <td>20</td>\n",
       "      <td>101217</td>\n",
       "      <td>713</td>\n",
       "    </tr>\n",
       "    <tr>\n",
       "      <td>2</td>\n",
       "      <td>2019-08-02</td>\n",
       "      <td>A</td>\n",
       "      <td>44</td>\n",
       "      <td>38</td>\n",
       "      <td>242401</td>\n",
       "      <td>1338</td>\n",
       "    </tr>\n",
       "    <tr>\n",
       "      <td>3</td>\n",
       "      <td>2019-08-02</td>\n",
       "      <td>B</td>\n",
       "      <td>45</td>\n",
       "      <td>43</td>\n",
       "      <td>266748</td>\n",
       "      <td>1294</td>\n",
       "    </tr>\n",
       "    <tr>\n",
       "      <td>4</td>\n",
       "      <td>2019-08-03</td>\n",
       "      <td>A</td>\n",
       "      <td>68</td>\n",
       "      <td>62</td>\n",
       "      <td>354874</td>\n",
       "      <td>1845</td>\n",
       "    </tr>\n",
       "  </tbody>\n",
       "</table>\n",
       "</div>"
      ],
      "text/plain": [
       "        date group  orders  buyers  revenue  visitors\n",
       "0 2019-08-01     A      24      20   148579       719\n",
       "1 2019-08-01     B      21      20   101217       713\n",
       "2 2019-08-02     A      44      38   242401      1338\n",
       "3 2019-08-02     B      45      43   266748      1294\n",
       "4 2019-08-03     A      68      62   354874      1845"
      ]
     },
     "execution_count": 141,
     "metadata": {},
     "output_type": "execute_result"
    }
   ],
   "source": [
    "cumulativeData.head()"
   ]
  },
  {
   "cell_type": "markdown",
   "metadata": {},
   "source": [
    "Построим графики кумулятивной выручки по дням и группам."
   ]
  },
  {
   "cell_type": "markdown",
   "metadata": {},
   "source": [
    "Создадим таблицу для кумулятивной выручки по дням и количеством заказов для группы А, а потом В."
   ]
  },
  {
   "cell_type": "code",
   "execution_count": 142,
   "metadata": {},
   "outputs": [],
   "source": [
    "cumulativeRevenueA = cumulativeData[cumulativeData['group'] == 'A'][['date', 'revenue', 'orders']]\n",
    "cumulativeRevenueB = cumulativeData[cumulativeData['group'] == 'B'][['date', 'revenue', 'orders']]"
   ]
  },
  {
   "cell_type": "code",
   "execution_count": 143,
   "metadata": {},
   "outputs": [
    {
     "data": {
      "image/png": "[encoded data removed]",
      "text/plain": [
       "<Figure size 864x432 with 1 Axes>"
      ]
     },
     "metadata": {
      "needs_background": "light"
     },
     "output_type": "display_data"
    }
   ],
   "source": [
    "plt.figure(figsize=(12,6))\n",
    "plt.plot(cumulativeRevenueA['date'], cumulativeRevenueA['revenue'], label='A')\n",
    "plt.plot(cumulativeRevenueB['date'], cumulativeRevenueB['revenue'], label='B')\n",
    "plt.legend()\n",
    "plt.title('Графики кумулятивной выручки по дням в разных группах')\n",
    "plt.xlabel('Дата')\n",
    "plt.ylabel('Выручка')\n",
    "plt.grid(True)\n",
    "plt.show()"
   ]
  },
  {
   "cell_type": "markdown",
   "metadata": {},
   "source": [
    "Выручка группы А растет равномерно и без скачков, тогда как в группе В в середине месяца резкий скачок. Это может свидетельствовать об увеличении числа заказов или о появлении выбросов."
   ]
  },
  {
   "cell_type": "markdown",
   "metadata": {},
   "source": [
    "<div style=\"border-radius: 15px; border: 3px solid indigo; padding: 15px;\">\n",
    "Постройте график кумулятивного среднего чека по группам. Сделайте выводы и предположения.    "
   ]
  },
  {
   "cell_type": "markdown",
   "metadata": {},
   "source": [
    "Построим графики кумулятивного среднего чека по группам. Для этого разделим выручку на число заказов."
   ]
  },
  {
   "cell_type": "code",
   "execution_count": 144,
   "metadata": {},
   "outputs": [
    {
     "data": {
      "image/png": "[encoded data removed]",
      "text/plain": [
       "<Figure size 864x432 with 1 Axes>"
      ]
     },
     "metadata": {
      "needs_background": "light"
     },
     "output_type": "display_data"
    }
   ],
   "source": [
    "plt.figure(figsize=(12,6))\n",
    "plt.plot(cumulativeRevenueA['date'], cumulativeRevenueA['revenue'] / cumulativeRevenueA['orders'], label='A')\n",
    "plt.plot(cumulativeRevenueB['date'], cumulativeRevenueB['revenue'] / cumulativeRevenueB['orders'], label='B')\n",
    "plt.legend()\n",
    "plt.title('Графики кумулятивного среднего чека по группам')\n",
    "plt.xlabel('Дата')\n",
    "plt.ylabel('Средний чек')\n",
    "plt.grid(True)\n",
    "plt.show()"
   ]
  },
  {
   "cell_type": "markdown",
   "metadata": {},
   "source": [
    "Графики неравномерные, но во второй половине месяца стабилизируются. Пик в группе А может свидетельствовать о выбросах (например крупный заказ)."
   ]
  },
  {
   "cell_type": "markdown",
   "metadata": {},
   "source": [
    "<div style=\"border-radius: 15px; border: 3px solid indigo; padding: 15px;\">\n",
    "Постройте график относительного изменения кумулятивного среднего чека группы B к группе A. Сделайте выводы и предположения."
   ]
  },
  {
   "cell_type": "markdown",
   "metadata": {},
   "source": [
    "Объединим две таблицы. Затем построим график."
   ]
  },
  {
   "cell_type": "code",
   "execution_count": 145,
   "metadata": {},
   "outputs": [],
   "source": [
    "mergedCumulativeRevenue = cumulativeRevenueA.merge(cumulativeRevenueB, on='date', suffixes=['A', 'B'])"
   ]
  },
  {
   "cell_type": "code",
   "execution_count": 146,
   "metadata": {},
   "outputs": [
    {
     "data": {
      "text/html": [
       "<div>\n",
       "<style scoped>\n",
       "    .dataframe tbody tr th:only-of-type {\n",
       "        vertical-align: middle;\n",
       "    }\n",
       "\n",
       "    .dataframe tbody tr th {\n",
       "        vertical-align: top;\n",
       "    }\n",
       "\n",
       "    .dataframe thead th {\n",
       "        text-align: right;\n",
       "    }\n",
       "</style>\n",
       "<table border=\"1\" class=\"dataframe\">\n",
       "  <thead>\n",
       "    <tr style=\"text-align: right;\">\n",
       "      <th></th>\n",
       "      <th>date</th>\n",
       "      <th>revenueA</th>\n",
       "      <th>ordersA</th>\n",
       "      <th>revenueB</th>\n",
       "      <th>ordersB</th>\n",
       "    </tr>\n",
       "  </thead>\n",
       "  <tbody>\n",
       "    <tr>\n",
       "      <td>0</td>\n",
       "      <td>2019-08-01</td>\n",
       "      <td>148579</td>\n",
       "      <td>24</td>\n",
       "      <td>101217</td>\n",
       "      <td>21</td>\n",
       "    </tr>\n",
       "    <tr>\n",
       "      <td>1</td>\n",
       "      <td>2019-08-02</td>\n",
       "      <td>242401</td>\n",
       "      <td>44</td>\n",
       "      <td>266748</td>\n",
       "      <td>45</td>\n",
       "    </tr>\n",
       "    <tr>\n",
       "      <td>2</td>\n",
       "      <td>2019-08-03</td>\n",
       "      <td>354874</td>\n",
       "      <td>68</td>\n",
       "      <td>380996</td>\n",
       "      <td>61</td>\n",
       "    </tr>\n",
       "    <tr>\n",
       "      <td>3</td>\n",
       "      <td>2019-08-04</td>\n",
       "      <td>425699</td>\n",
       "      <td>84</td>\n",
       "      <td>489567</td>\n",
       "      <td>78</td>\n",
       "    </tr>\n",
       "    <tr>\n",
       "      <td>4</td>\n",
       "      <td>2019-08-05</td>\n",
       "      <td>549917</td>\n",
       "      <td>109</td>\n",
       "      <td>581995</td>\n",
       "      <td>101</td>\n",
       "    </tr>\n",
       "  </tbody>\n",
       "</table>\n",
       "</div>"
      ],
      "text/plain": [
       "        date  revenueA  ordersA  revenueB  ordersB\n",
       "0 2019-08-01    148579       24    101217       21\n",
       "1 2019-08-02    242401       44    266748       45\n",
       "2 2019-08-03    354874       68    380996       61\n",
       "3 2019-08-04    425699       84    489567       78\n",
       "4 2019-08-05    549917      109    581995      101"
      ]
     },
     "execution_count": 146,
     "metadata": {},
     "output_type": "execute_result"
    }
   ],
   "source": [
    "mergedCumulativeRevenue.head()"
   ]
  },
  {
   "cell_type": "code",
   "execution_count": 147,
   "metadata": {},
   "outputs": [
    {
     "data": {
      "image/png": "[encoded data removed]",
      "text/plain": [
       "<Figure size 864x432 with 1 Axes>"
      ]
     },
     "metadata": {
      "needs_background": "light"
     },
     "output_type": "display_data"
    }
   ],
   "source": [
    "plt.figure(figsize=(12,6))\n",
    "plt.plot(mergedCumulativeRevenue['date'],\\\n",
    "         (mergedCumulativeRevenue['revenueB']/mergedCumulativeRevenue['ordersB'])\\\n",
    "         /(mergedCumulativeRevenue['revenueA']/mergedCumulativeRevenue['ordersA'])-1)\n",
    "plt.axhline(y=0, color='black', linestyle='--') \n",
    "plt.title('График относительного изменения кумулятивного среднего чека группы B к группе A')\n",
    "plt.xlabel('Дата')\n",
    "plt.ylabel('')\n",
    "plt.grid(True)\n",
    "plt.show()"
   ]
  },
  {
   "cell_type": "markdown",
   "metadata": {},
   "source": [
    "В данных наблюдаются резкие скачки, что точно говорит о наличии выбросов."
   ]
  },
  {
   "cell_type": "markdown",
   "metadata": {},
   "source": [
    "<div style=\"border-radius: 15px; border: 3px solid indigo; padding: 15px;\">\n",
    "Постройте график кумулятивной конверсии по группам. Сделайте выводы и предположения."
   ]
  },
  {
   "cell_type": "code",
   "execution_count": 148,
   "metadata": {},
   "outputs": [],
   "source": [
    "cumulativeData['conversion'] = cumulativeData['orders'] / cumulativeData['visitors']"
   ]
  },
  {
   "cell_type": "code",
   "execution_count": 149,
   "metadata": {},
   "outputs": [
    {
     "data": {
      "text/html": [
       "<div>\n",
       "<style scoped>\n",
       "    .dataframe tbody tr th:only-of-type {\n",
       "        vertical-align: middle;\n",
       "    }\n",
       "\n",
       "    .dataframe tbody tr th {\n",
       "        vertical-align: top;\n",
       "    }\n",
       "\n",
       "    .dataframe thead th {\n",
       "        text-align: right;\n",
       "    }\n",
       "</style>\n",
       "<table border=\"1\" class=\"dataframe\">\n",
       "  <thead>\n",
       "    <tr style=\"text-align: right;\">\n",
       "      <th></th>\n",
       "      <th>date</th>\n",
       "      <th>group</th>\n",
       "      <th>orders</th>\n",
       "      <th>buyers</th>\n",
       "      <th>revenue</th>\n",
       "      <th>visitors</th>\n",
       "      <th>conversion</th>\n",
       "    </tr>\n",
       "  </thead>\n",
       "  <tbody>\n",
       "    <tr>\n",
       "      <td>0</td>\n",
       "      <td>2019-08-01</td>\n",
       "      <td>A</td>\n",
       "      <td>24</td>\n",
       "      <td>20</td>\n",
       "      <td>148579</td>\n",
       "      <td>719</td>\n",
       "      <td>0.033380</td>\n",
       "    </tr>\n",
       "    <tr>\n",
       "      <td>1</td>\n",
       "      <td>2019-08-01</td>\n",
       "      <td>B</td>\n",
       "      <td>21</td>\n",
       "      <td>20</td>\n",
       "      <td>101217</td>\n",
       "      <td>713</td>\n",
       "      <td>0.029453</td>\n",
       "    </tr>\n",
       "    <tr>\n",
       "      <td>2</td>\n",
       "      <td>2019-08-02</td>\n",
       "      <td>A</td>\n",
       "      <td>44</td>\n",
       "      <td>38</td>\n",
       "      <td>242401</td>\n",
       "      <td>1338</td>\n",
       "      <td>0.032885</td>\n",
       "    </tr>\n",
       "    <tr>\n",
       "      <td>3</td>\n",
       "      <td>2019-08-02</td>\n",
       "      <td>B</td>\n",
       "      <td>45</td>\n",
       "      <td>43</td>\n",
       "      <td>266748</td>\n",
       "      <td>1294</td>\n",
       "      <td>0.034776</td>\n",
       "    </tr>\n",
       "    <tr>\n",
       "      <td>4</td>\n",
       "      <td>2019-08-03</td>\n",
       "      <td>A</td>\n",
       "      <td>68</td>\n",
       "      <td>62</td>\n",
       "      <td>354874</td>\n",
       "      <td>1845</td>\n",
       "      <td>0.036856</td>\n",
       "    </tr>\n",
       "  </tbody>\n",
       "</table>\n",
       "</div>"
      ],
      "text/plain": [
       "        date group  orders  buyers  revenue  visitors  conversion\n",
       "0 2019-08-01     A      24      20   148579       719    0.033380\n",
       "1 2019-08-01     B      21      20   101217       713    0.029453\n",
       "2 2019-08-02     A      44      38   242401      1338    0.032885\n",
       "3 2019-08-02     B      45      43   266748      1294    0.034776\n",
       "4 2019-08-03     A      68      62   354874      1845    0.036856"
      ]
     },
     "execution_count": 149,
     "metadata": {},
     "output_type": "execute_result"
    }
   ],
   "source": [
    "cumulativeData.head()"
   ]
  },
  {
   "cell_type": "code",
   "execution_count": 150,
   "metadata": {},
   "outputs": [],
   "source": [
    "cumulativeDataA = cumulativeData[cumulativeData['group'] == 'A']\n",
    "cumulativeDataB = cumulativeData[cumulativeData['group'] == 'B']"
   ]
  },
  {
   "cell_type": "code",
   "execution_count": 151,
   "metadata": {},
   "outputs": [
    {
     "data": {
      "image/png": "[encoded data removed]",
      "text/plain": [
       "<Figure size 864x432 with 1 Axes>"
      ]
     },
     "metadata": {
      "needs_background": "light"
     },
     "output_type": "display_data"
    }
   ],
   "source": [
    "plt.figure(figsize=(12,6))\n",
    "plt.plot(cumulativeDataA['date'], cumulativeDataA['conversion'], label='A')\n",
    "plt.plot(cumulativeDataB['date'], cumulativeDataB['conversion'], label='B')\n",
    "plt.legend()\n",
    "plt.axis([\"2019-08-01\", '2019-09-02', 0.02, 0.05])\n",
    "plt.title('Графики кумулятивной конверсии по группам')\n",
    "plt.xlabel('Дата')\n",
    "plt.ylabel('Конверсия')\n",
    "plt.grid(True)\n",
    "plt.show()"
   ]
  },
  {
   "cell_type": "markdown",
   "metadata": {},
   "source": [
    "После 6 августа данные стабилизировались. Группа В стабильно лидирует."
   ]
  },
  {
   "cell_type": "markdown",
   "metadata": {},
   "source": [
    "<div style=\"border-radius: 15px; border: 3px solid indigo; padding: 15px;\">\n",
    "Постройте график относительного изменения кумулятивной конверсии группы B к группе A. Сделайте выводы и предположения."
   ]
  },
  {
   "cell_type": "code",
   "execution_count": 152,
   "metadata": {},
   "outputs": [],
   "source": [
    "mergedCumulativeConversion = cumulativeDataA[['date', 'conversion']].merge(cumulativeDataB[['date', 'conversion']], on = 'date', suffixes=['A', 'B'])"
   ]
  },
  {
   "cell_type": "code",
   "execution_count": 153,
   "metadata": {},
   "outputs": [
    {
     "data": {
      "text/html": [
       "<div>\n",
       "<style scoped>\n",
       "    .dataframe tbody tr th:only-of-type {\n",
       "        vertical-align: middle;\n",
       "    }\n",
       "\n",
       "    .dataframe tbody tr th {\n",
       "        vertical-align: top;\n",
       "    }\n",
       "\n",
       "    .dataframe thead th {\n",
       "        text-align: right;\n",
       "    }\n",
       "</style>\n",
       "<table border=\"1\" class=\"dataframe\">\n",
       "  <thead>\n",
       "    <tr style=\"text-align: right;\">\n",
       "      <th></th>\n",
       "      <th>date</th>\n",
       "      <th>conversionA</th>\n",
       "      <th>conversionB</th>\n",
       "    </tr>\n",
       "  </thead>\n",
       "  <tbody>\n",
       "    <tr>\n",
       "      <td>0</td>\n",
       "      <td>2019-08-01</td>\n",
       "      <td>0.033380</td>\n",
       "      <td>0.029453</td>\n",
       "    </tr>\n",
       "    <tr>\n",
       "      <td>1</td>\n",
       "      <td>2019-08-02</td>\n",
       "      <td>0.032885</td>\n",
       "      <td>0.034776</td>\n",
       "    </tr>\n",
       "    <tr>\n",
       "      <td>2</td>\n",
       "      <td>2019-08-03</td>\n",
       "      <td>0.036856</td>\n",
       "      <td>0.033833</td>\n",
       "    </tr>\n",
       "    <tr>\n",
       "      <td>3</td>\n",
       "      <td>2019-08-04</td>\n",
       "      <td>0.032787</td>\n",
       "      <td>0.030315</td>\n",
       "    </tr>\n",
       "    <tr>\n",
       "      <td>4</td>\n",
       "      <td>2019-08-05</td>\n",
       "      <td>0.032851</td>\n",
       "      <td>0.030793</td>\n",
       "    </tr>\n",
       "  </tbody>\n",
       "</table>\n",
       "</div>"
      ],
      "text/plain": [
       "        date  conversionA  conversionB\n",
       "0 2019-08-01     0.033380     0.029453\n",
       "1 2019-08-02     0.032885     0.034776\n",
       "2 2019-08-03     0.036856     0.033833\n",
       "3 2019-08-04     0.032787     0.030315\n",
       "4 2019-08-05     0.032851     0.030793"
      ]
     },
     "execution_count": 153,
     "metadata": {},
     "output_type": "execute_result"
    }
   ],
   "source": [
    "mergedCumulativeConversion.head()"
   ]
  },
  {
   "cell_type": "code",
   "execution_count": 154,
   "metadata": {},
   "outputs": [
    {
     "data": {
      "image/png": "[encoded data removed]",
      "text/plain": [
       "<Figure size 864x432 with 1 Axes>"
      ]
     },
     "metadata": {
      "needs_background": "light"
     },
     "output_type": "display_data"
    }
   ],
   "source": [
    "plt.figure(figsize=(12,6))\n",
    "plt.plot(mergedCumulativeConversion['date']\\\n",
    "         , mergedCumulativeConversion['conversionB'] / (mergedCumulativeConversion['conversionA'] - 1))\n",
    "plt.axis([\"2019-08-01\", '2019-09-02', -0.03, -0.04])\n",
    "plt.title('График относительного изменения кумулятивной конверсии группы B к группе A')\n",
    "plt.xlabel('Дата')\n",
    "plt.ylabel('')\n",
    "plt.grid(True)\n",
    "plt.show()"
   ]
  },
  {
   "cell_type": "markdown",
   "metadata": {},
   "source": [
    "Значения конверсии продолжают колебаться. В целом, конверсия группы В меньше конверсии группы А."
   ]
  },
  {
   "cell_type": "markdown",
   "metadata": {},
   "source": [
    "<div style=\"border-radius: 15px; border: 3px solid indigo; padding: 15px;\">\n",
    "Постройте точечный график количества заказов по пользователям. Сделайте выводы и предположения.    "
   ]
  },
  {
   "cell_type": "markdown",
   "metadata": {},
   "source": [
    "Выведем количество заказов по пользователям."
   ]
  },
  {
   "cell_type": "code",
   "execution_count": 155,
   "metadata": {},
   "outputs": [],
   "source": [
    "ordersByUsers = orders.groupby('visitorId', as_index=False).agg({'transactionId' : pd.Series.nunique})"
   ]
  },
  {
   "cell_type": "code",
   "execution_count": 156,
   "metadata": {},
   "outputs": [
    {
     "data": {
      "text/html": [
       "<div>\n",
       "<style scoped>\n",
       "    .dataframe tbody tr th:only-of-type {\n",
       "        vertical-align: middle;\n",
       "    }\n",
       "\n",
       "    .dataframe tbody tr th {\n",
       "        vertical-align: top;\n",
       "    }\n",
       "\n",
       "    .dataframe thead th {\n",
       "        text-align: right;\n",
       "    }\n",
       "</style>\n",
       "<table border=\"1\" class=\"dataframe\">\n",
       "  <thead>\n",
       "    <tr style=\"text-align: right;\">\n",
       "      <th></th>\n",
       "      <th>visitorId</th>\n",
       "      <th>transactionId</th>\n",
       "    </tr>\n",
       "  </thead>\n",
       "  <tbody>\n",
       "    <tr>\n",
       "      <td>1023</td>\n",
       "      <td>4256040402</td>\n",
       "      <td>11</td>\n",
       "    </tr>\n",
       "    <tr>\n",
       "      <td>591</td>\n",
       "      <td>2458001652</td>\n",
       "      <td>11</td>\n",
       "    </tr>\n",
       "    <tr>\n",
       "      <td>569</td>\n",
       "      <td>2378935119</td>\n",
       "      <td>9</td>\n",
       "    </tr>\n",
       "    <tr>\n",
       "      <td>487</td>\n",
       "      <td>2038680547</td>\n",
       "      <td>8</td>\n",
       "    </tr>\n",
       "    <tr>\n",
       "      <td>44</td>\n",
       "      <td>199603092</td>\n",
       "      <td>5</td>\n",
       "    </tr>\n",
       "  </tbody>\n",
       "</table>\n",
       "</div>"
      ],
      "text/plain": [
       "       visitorId  transactionId\n",
       "1023  4256040402             11\n",
       "591   2458001652             11\n",
       "569   2378935119              9\n",
       "487   2038680547              8\n",
       "44     199603092              5"
      ]
     },
     "execution_count": 156,
     "metadata": {},
     "output_type": "execute_result"
    }
   ],
   "source": [
    "ordersByUsers.sort_values(by='transactionId', ascending = False).head()"
   ]
  },
  {
   "cell_type": "markdown",
   "metadata": {},
   "source": [
    "Видно, что есть пользователи, совершившие больше одного заказа. Посмотрим распределение количества заказов."
   ]
  },
  {
   "cell_type": "code",
   "execution_count": 157,
   "metadata": {},
   "outputs": [
    {
     "data": {
      "text/plain": [
       "1     937\n",
       "2      64\n",
       "3      17\n",
       "5       6\n",
       "4       3\n",
       "11      2\n",
       "9       1\n",
       "8       1\n",
       "Name: transactionId, dtype: int64"
      ]
     },
     "execution_count": 157,
     "metadata": {},
     "output_type": "execute_result"
    }
   ],
   "source": [
    "ordersByUsers['transactionId'].value_counts()"
   ]
  },
  {
   "cell_type": "code",
   "execution_count": 158,
   "metadata": {},
   "outputs": [
    {
     "data": {
      "image/png": "[encoded data removed]",
      "text/plain": [
       "<Figure size 864x288 with 1 Axes>"
      ]
     },
     "metadata": {
      "needs_background": "light"
     },
     "output_type": "display_data"
    }
   ],
   "source": [
    "plt.figure(figsize=(12,4))\n",
    "plt.hist(ordersByUsers['transactionId'])\n",
    "plt.title('Распределение количества заказов')\n",
    "plt.xticks(range(1,12))\n",
    "plt.grid(True)\n",
    "plt.xlabel('Количество заказов на одного пользователя')\n",
    "plt.ylabel('Количество значений')\n",
    "plt.show()"
   ]
  },
  {
   "cell_type": "markdown",
   "metadata": {},
   "source": [
    "Большинство пользователей совершают по одному заказу. Но также немало совершивших больше одного заказа. Построим точечный график распределения числа заказов на одного пользователя. "
   ]
  },
  {
   "cell_type": "code",
   "execution_count": 159,
   "metadata": {},
   "outputs": [
    {
     "data": {
      "image/png": "[encoded data removed]",
      "text/plain": [
       "<Figure size 864x432 with 1 Axes>"
      ]
     },
     "metadata": {
      "needs_background": "light"
     },
     "output_type": "display_data"
    }
   ],
   "source": [
    "plt.figure(figsize=(12,6))\n",
    "x = pd.Series(range(0,len(ordersByUsers)))\n",
    "plt.scatter(x, ordersByUsers['transactionId'])\n",
    "plt.title('Распределение количества заказов')\n",
    "plt.yticks(range(1,12))\n",
    "plt.xlabel('Количество значений')\n",
    "plt.ylabel('Количество заказов на одного пользователя')\n",
    "plt.grid(True)\n",
    "plt.show()"
   ]
  },
  {
   "cell_type": "markdown",
   "metadata": {},
   "source": [
    "Видно много пользователей, совершивших больше одного заказа. Возможно, именно они создают неравномерность распределения значений конверсии."
   ]
  },
  {
   "cell_type": "markdown",
   "metadata": {},
   "source": [
    "<div style=\"border-radius: 15px; border: 3px solid indigo; padding: 15px;\">\n",
    "Посчитайте 95-й и 99-й перцентили количества заказов на пользователя. Выберите границу для определения аномальных пользователей.    "
   ]
  },
  {
   "cell_type": "code",
   "execution_count": 160,
   "metadata": {},
   "outputs": [
    {
     "data": {
      "text/plain": [
       "array([2., 4.])"
      ]
     },
     "execution_count": 160,
     "metadata": {},
     "output_type": "execute_result"
    }
   ],
   "source": [
    "np.percentile(ordersByUsers['transactionId'], [95, 99])"
   ]
  },
  {
   "cell_type": "markdown",
   "metadata": {},
   "source": [
    "Не более 5% пользователей совершают от 2 заказов. И всего один процент более 4х. Возьмём за нижнюю границу аномального количества заказов - 2."
   ]
  },
  {
   "cell_type": "markdown",
   "metadata": {},
   "source": [
    "<div style=\"border-radius: 15px; border: 3px solid indigo; padding: 15px;\">\n",
    "Постройте точечный график стоимостей заказов. Сделайте выводы и предположения."
   ]
  },
  {
   "cell_type": "code",
   "execution_count": 161,
   "metadata": {},
   "outputs": [
    {
     "data": {
      "image/png": "[encoded data removed]",
      "text/plain": [
       "<Figure size 864x432 with 1 Axes>"
      ]
     },
     "metadata": {
      "needs_background": "light"
     },
     "output_type": "display_data"
    }
   ],
   "source": [
    "plt.figure(figsize=(12,6))\n",
    "plt.hist(orders.query('revenue < 200000')['revenue'], bins=100)\n",
    "plt.title('Распределение стоимости заказов')\n",
    "plt.grid(True)\n",
    "plt.xlabel('Стоимость заказа на одного пользователя')\n",
    "plt.ylabel('Количество значений')\n",
    "plt.show()"
   ]
  },
  {
   "cell_type": "markdown",
   "metadata": {},
   "source": [
    "Подавляющее большинство стоимости заказов до 100000. Построим точечный график."
   ]
  },
  {
   "cell_type": "code",
   "execution_count": 162,
   "metadata": {},
   "outputs": [
    {
     "data": {
      "image/png": "[encoded data removed]",
      "text/plain": [
       "<Figure size 864x432 with 1 Axes>"
      ]
     },
     "metadata": {
      "needs_background": "light"
     },
     "output_type": "display_data"
    }
   ],
   "source": [
    "plt.figure(figsize=(12,6))\n",
    "x = pd.Series(range(0, len(orders)))\n",
    "plt.scatter(x, orders['revenue'])\n",
    "plt.ylim(0,100000)\n",
    "plt.title('Распределение стоимости заказов')\n",
    "plt.yticks(range(0,100000, 5000))\n",
    "plt.xlabel('Количество значений')\n",
    "plt.ylabel('Стоимость заказа на одного пользователя')\n",
    "plt.grid(True)\n",
    "plt.show()"
   ]
  },
  {
   "cell_type": "markdown",
   "metadata": {},
   "source": [
    "Можно взять за нижнюю границу аномальной стоимости значение в 20000. Но рекомендуется отсеивать не более 5% аномальных наблюдений. Поэтому найдём более точные границы, посмотрев на 95 и 99 перцентиль."
   ]
  },
  {
   "cell_type": "markdown",
   "metadata": {},
   "source": [
    "<div style=\"border-radius: 15px; border: 3px solid indigo; padding: 15px;\">\n",
    "Посчитайте 95-й и 99-й перцентили стоимости заказов. Выберите границу для определения аномальных заказов.    "
   ]
  },
  {
   "cell_type": "code",
   "execution_count": 163,
   "metadata": {},
   "outputs": [
    {
     "data": {
      "text/plain": [
       "array([28000. , 58233.2])"
      ]
     },
     "execution_count": 163,
     "metadata": {},
     "output_type": "execute_result"
    }
   ],
   "source": [
    "np.percentile(orders['revenue'], [95, 99])"
   ]
  },
  {
   "cell_type": "markdown",
   "metadata": {},
   "source": [
    "Выводы из анализа графика оказались почти верными. 95% пользователей совершают заказы до 28000. И всего 1% свыше 58000. Возьмём за нижнюю границу аномальных значений в стоимости заказов - 28000."
   ]
  },
  {
   "cell_type": "markdown",
   "metadata": {},
   "source": [
    "<div style=\"border-radius: 15px; border: 3px solid indigo; padding: 15px;\">\n",
    "Посчитайте статистическую значимость различий в конверсии между группами по «сырым» данным. Сделайте выводы и предположения.   "
   ]
  },
  {
   "cell_type": "markdown",
   "metadata": {},
   "source": [
    "Найдём количество пользователей в выбранную дату для группы А."
   ]
  },
  {
   "cell_type": "code",
   "execution_count": 164,
   "metadata": {},
   "outputs": [],
   "source": [
    "visitorsADaily = visitors[visitors['group'] == 'A'][['date', 'visitors']]\n",
    "visitorsADaily.columns = ['date', 'visitorsPerDateA']"
   ]
  },
  {
   "cell_type": "markdown",
   "metadata": {},
   "source": [
    "Найдём количество пользователей до выбранной даты включительно для группы В."
   ]
  },
  {
   "cell_type": "code",
   "execution_count": 165,
   "metadata": {},
   "outputs": [],
   "source": [
    "visitorsACummulative = visitorsADaily.apply(lambda x: visitorsADaily[visitorsADaily['date'] <= x['date']]\\\n",
    "                                                .agg({'date': 'max', 'visitorsPerDateA': 'sum'}), axis=1)\n",
    "visitorsACummulative.columns = ['date', 'visitorsCummulativeA']"
   ]
  },
  {
   "cell_type": "markdown",
   "metadata": {},
   "source": [
    "Аналогично для группы В."
   ]
  },
  {
   "cell_type": "code",
   "execution_count": 166,
   "metadata": {},
   "outputs": [],
   "source": [
    "visitorsBDaily = visitors[visitors['group'] == 'B'][['date', 'visitors']]\n",
    "visitorsBDaily.columns = ['date', 'visitorsPerDateB']\n",
    "\n",
    "visitorsBCummulative = visitorsBDaily.apply(lambda x: visitorsBDaily[visitorsBDaily['date'] <= x['date']]\\\n",
    "                                                .agg({'date': 'max', 'visitorsPerDateB': 'sum'}), axis=1)\n",
    "visitorsBCummulative.columns = ['date', 'visitorsCummulativeB']"
   ]
  },
  {
   "cell_type": "markdown",
   "metadata": {},
   "source": [
    "Найдём для группы А количество заказов и суммарную выручку в выбранную дату."
   ]
  },
  {
   "cell_type": "code",
   "execution_count": 167,
   "metadata": {},
   "outputs": [],
   "source": [
    "ordersADaily = (orders[orders['group'] == 'A'][['date', 'transactionId', 'visitorId', 'revenue']]\\\n",
    "    .groupby('date', as_index=False).agg({'transactionId': pd.Series.nunique, 'revenue': 'sum'}))\n",
    "ordersADaily.columns = ['date', 'ordersPerDateA', 'revenuePerDateA']"
   ]
  },
  {
   "cell_type": "markdown",
   "metadata": {},
   "source": [
    "Найдём для группы А количество заказов и суммарную выручку до выбранной даты включительно."
   ]
  },
  {
   "cell_type": "code",
   "execution_count": 168,
   "metadata": {},
   "outputs": [],
   "source": [
    "ordersACummulative = ordersADaily.apply(lambda x: ordersADaily[ordersADaily['date'] <= x['date']]\\\n",
    "                    .agg({'date': 'max', 'ordersPerDateA': 'sum', 'revenuePerDateA': 'sum'}), axis=1).sort_values(by=['date'])\n",
    "ordersACummulative.columns = ['date', 'ordersCummulativeA', 'revenueCummulativeA']"
   ]
  },
  {
   "cell_type": "markdown",
   "metadata": {},
   "source": [
    "Аналогично для группы В."
   ]
  },
  {
   "cell_type": "code",
   "execution_count": 169,
   "metadata": {},
   "outputs": [],
   "source": [
    "ordersBDaily = (orders[orders['group'] == 'B'][['date', 'transactionId', 'visitorId', 'revenue']]\\\n",
    "    .groupby('date', as_index=False).agg({'transactionId': pd.Series.nunique, 'revenue': 'sum'}))\n",
    "ordersBDaily.columns = ['date', 'ordersPerDateB', 'revenuePerDateB']\n",
    "\n",
    "ordersBCummulative = ordersBDaily.apply(lambda x: ordersBDaily[ordersBDaily['date'] <= x['date']]\\\n",
    "                    .agg({'date': 'max', 'ordersPerDateB': 'sum', 'revenuePerDateB': 'sum'}), axis=1).sort_values(by=['date'])\n",
    "ordersBCummulative.columns = ['date', 'ordersCummulativeB', 'revenueCummulativeB']"
   ]
  },
  {
   "cell_type": "markdown",
   "metadata": {},
   "source": [
    "Объединима данные в одну таблицу."
   ]
  },
  {
   "cell_type": "code",
   "execution_count": 170,
   "metadata": {},
   "outputs": [
    {
     "data": {
      "text/html": [
       "<div>\n",
       "<style scoped>\n",
       "    .dataframe tbody tr th:only-of-type {\n",
       "        vertical-align: middle;\n",
       "    }\n",
       "\n",
       "    .dataframe tbody tr th {\n",
       "        vertical-align: top;\n",
       "    }\n",
       "\n",
       "    .dataframe thead th {\n",
       "        text-align: right;\n",
       "    }\n",
       "</style>\n",
       "<table border=\"1\" class=\"dataframe\">\n",
       "  <thead>\n",
       "    <tr style=\"text-align: right;\">\n",
       "      <th></th>\n",
       "      <th>date</th>\n",
       "      <th>ordersPerDateA</th>\n",
       "      <th>revenuePerDateA</th>\n",
       "      <th>ordersPerDateB</th>\n",
       "      <th>revenuePerDateB</th>\n",
       "      <th>ordersCummulativeA</th>\n",
       "      <th>revenueCummulativeA</th>\n",
       "      <th>ordersCummulativeB</th>\n",
       "      <th>revenueCummulativeB</th>\n",
       "      <th>visitorsPerDateA</th>\n",
       "      <th>visitorsPerDateB</th>\n",
       "      <th>visitorsCummulativeA</th>\n",
       "      <th>visitorsCummulativeB</th>\n",
       "    </tr>\n",
       "  </thead>\n",
       "  <tbody>\n",
       "    <tr>\n",
       "      <td>0</td>\n",
       "      <td>2019-08-01</td>\n",
       "      <td>24</td>\n",
       "      <td>148579</td>\n",
       "      <td>21</td>\n",
       "      <td>101217</td>\n",
       "      <td>24</td>\n",
       "      <td>148579</td>\n",
       "      <td>21</td>\n",
       "      <td>101217</td>\n",
       "      <td>719</td>\n",
       "      <td>713</td>\n",
       "      <td>719</td>\n",
       "      <td>713</td>\n",
       "    </tr>\n",
       "    <tr>\n",
       "      <td>1</td>\n",
       "      <td>2019-08-02</td>\n",
       "      <td>20</td>\n",
       "      <td>93822</td>\n",
       "      <td>24</td>\n",
       "      <td>165531</td>\n",
       "      <td>44</td>\n",
       "      <td>242401</td>\n",
       "      <td>45</td>\n",
       "      <td>266748</td>\n",
       "      <td>619</td>\n",
       "      <td>581</td>\n",
       "      <td>1338</td>\n",
       "      <td>1294</td>\n",
       "    </tr>\n",
       "    <tr>\n",
       "      <td>2</td>\n",
       "      <td>2019-08-03</td>\n",
       "      <td>24</td>\n",
       "      <td>112473</td>\n",
       "      <td>16</td>\n",
       "      <td>114248</td>\n",
       "      <td>68</td>\n",
       "      <td>354874</td>\n",
       "      <td>61</td>\n",
       "      <td>380996</td>\n",
       "      <td>507</td>\n",
       "      <td>509</td>\n",
       "      <td>1845</td>\n",
       "      <td>1803</td>\n",
       "    </tr>\n",
       "    <tr>\n",
       "      <td>3</td>\n",
       "      <td>2019-08-04</td>\n",
       "      <td>16</td>\n",
       "      <td>70825</td>\n",
       "      <td>17</td>\n",
       "      <td>108571</td>\n",
       "      <td>84</td>\n",
       "      <td>425699</td>\n",
       "      <td>78</td>\n",
       "      <td>489567</td>\n",
       "      <td>717</td>\n",
       "      <td>770</td>\n",
       "      <td>2562</td>\n",
       "      <td>2573</td>\n",
       "    </tr>\n",
       "    <tr>\n",
       "      <td>4</td>\n",
       "      <td>2019-08-05</td>\n",
       "      <td>25</td>\n",
       "      <td>124218</td>\n",
       "      <td>23</td>\n",
       "      <td>92428</td>\n",
       "      <td>109</td>\n",
       "      <td>549917</td>\n",
       "      <td>101</td>\n",
       "      <td>581995</td>\n",
       "      <td>756</td>\n",
       "      <td>707</td>\n",
       "      <td>3318</td>\n",
       "      <td>3280</td>\n",
       "    </tr>\n",
       "  </tbody>\n",
       "</table>\n",
       "</div>"
      ],
      "text/plain": [
       "        date  ordersPerDateA  revenuePerDateA  ordersPerDateB  \\\n",
       "0 2019-08-01              24           148579              21   \n",
       "1 2019-08-02              20            93822              24   \n",
       "2 2019-08-03              24           112473              16   \n",
       "3 2019-08-04              16            70825              17   \n",
       "4 2019-08-05              25           124218              23   \n",
       "\n",
       "   revenuePerDateB  ordersCummulativeA  revenueCummulativeA  \\\n",
       "0           101217                  24               148579   \n",
       "1           165531                  44               242401   \n",
       "2           114248                  68               354874   \n",
       "3           108571                  84               425699   \n",
       "4            92428                 109               549917   \n",
       "\n",
       "   ordersCummulativeB  revenueCummulativeB  visitorsPerDateA  \\\n",
       "0                  21               101217               719   \n",
       "1                  45               266748               619   \n",
       "2                  61               380996               507   \n",
       "3                  78               489567               717   \n",
       "4                 101               581995               756   \n",
       "\n",
       "   visitorsPerDateB  visitorsCummulativeA  visitorsCummulativeB  \n",
       "0               713                   719                   713  \n",
       "1               581                  1338                  1294  \n",
       "2               509                  1845                  1803  \n",
       "3               770                  2562                  2573  \n",
       "4               707                  3318                  3280  "
      ]
     },
     "execution_count": 170,
     "metadata": {},
     "output_type": "execute_result"
    }
   ],
   "source": [
    "data = (\n",
    "    ordersADaily.merge(\n",
    "        ordersBDaily, left_on='date', right_on='date', how='left'\n",
    "    )\n",
    "    .merge(ordersACummulative, left_on='date', right_on='date', how='left')\n",
    "    .merge(ordersBCummulative, left_on='date', right_on='date', how='left')\n",
    "    .merge(visitorsADaily, left_on='date', right_on='date', how='left')\n",
    "    .merge(visitorsBDaily, left_on='date', right_on='date', how='left')\n",
    "    .merge(visitorsACummulative, left_on='date', right_on='date', how='left')\n",
    "    .merge(visitorsBCummulative, left_on='date', right_on='date', how='left')\n",
    ")\n",
    "\n",
    "data.head(5)"
   ]
  },
  {
   "cell_type": "markdown",
   "metadata": {},
   "source": [
    "Посчитаем статистическую значимость различия в конверсии между группами. Создадим переменные ordersByUsersA и ordersByUsersB со столбцами ['userId', 'orders']. В них для пользователей, которые заказывали хотя бы 1 раз, укажем число совершённых заказов."
   ]
  },
  {
   "cell_type": "code",
   "execution_count": 171,
   "metadata": {},
   "outputs": [],
   "source": [
    "ordersByUsersA = (\n",
    "    orders[orders['group'] == 'A']\n",
    "    .groupby('visitorId', as_index=False)\n",
    "    .agg({'transactionId': pd.Series.nunique})\n",
    ")\n",
    "ordersByUsersA.columns = ['userId', 'orders']\n",
    "\n",
    "ordersByUsersB = (\n",
    "    orders[orders['group'] == 'B']\n",
    "    .groupby('visitorId', as_index=False)\n",
    "    .agg({'transactionId': pd.Series.nunique})\n",
    ")\n",
    "ordersByUsersB.columns = ['userId', 'orders']"
   ]
  },
  {
   "cell_type": "markdown",
   "metadata": {},
   "source": [
    "Объявим переменные <b>sampleA</b> и <b>sampleB</b>, в которых пользователям из разных групп будет соответствовать количество заказов. Тем, кто ничего не заказал, будут соответствовать нули. Это нужно, чтобы подготовить выборки к проверке критерием Манна-Уитни.\n",
    "Переменная <b>sampleA</b> должна состоять из двух частей:\n",
    "<li>Список с количеством заказов для каждого из пользователей: ordersByUsersA['orders'].\n",
    "<li>Нули для пользователей, которые ничего не заказывали. Их количество равно разнице между суммой посетителей и количеством записей о заказах: data['visitorsPerDateA'].sum() - len(ordersByUsersA['orders'])"
   ]
  },
  {
   "cell_type": "code",
   "execution_count": 172,
   "metadata": {},
   "outputs": [],
   "source": [
    "sampleA = pd.concat([ordersByUsersA['orders'],pd.Series(0, index=np.arange(data['visitorsPerDateA'].sum() - len(ordersByUsersA['orders'])), name='orders')],axis=0)\n",
    "\n",
    "sampleB = pd.concat([ordersByUsersB['orders'],pd.Series(0, index=np.arange(data['visitorsPerDateB'].sum() - len(ordersByUsersB['orders'])), name='orders')],axis=0)"
   ]
  },
  {
   "cell_type": "markdown",
   "metadata": {},
   "source": [
    "Чтобы получить конверсию в группе, поделим сумму заказов на число пользователей — найдём среднее в выборке sampleA методом mean(). Аналогично найдём конверсию группы B: SampleB.mean().\n",
    "Выведем относительный прирост конверсии группы B: конверсия группы B / конверсия группы A - 1. Округлим до трёх знаков после запятой."
   ]
  },
  {
   "cell_type": "code",
   "execution_count": 173,
   "metadata": {},
   "outputs": [],
   "source": [
    "ordersByUsersA = (orders[orders['group'] == 'A'].groupby('visitorId', as_index=False).agg({'transactionId': pd.Series.nunique}))\n",
    "ordersByUsersA.columns = ['userId', 'orders']\n",
    "\n",
    "ordersByUsersB = (orders[orders['group'] == 'B'].groupby('visitorId', as_index=False).agg({'transactionId': pd.Series.nunique}))\n",
    "ordersByUsersB.columns = ['userId', 'orders']"
   ]
  },
  {
   "cell_type": "markdown",
   "metadata": {},
   "source": [
    "<p>Для проведения анализа статистической значимости различия в конверсиях разных групп по \"сырым\" данным сформулируем нулевую и альтернативную гипотезу.</p>\n",
    "<p><li>Нулевая гипотеза: Статистически значимых различий в конверсиях разных групп нет.\n",
    "<li>Альтернативная гипотеза: Статистически значимые различия в конверсиях разных групп есть.\n",
    "<li>Оценивать различия в выборках будет с применением критерия Манна-Уитни.\n",
    "<li>Уровень значимости зададим равный 0.05.</p>"
   ]
  },
  {
   "cell_type": "code",
   "execution_count": 174,
   "metadata": {},
   "outputs": [
    {
     "name": "stdout",
     "output_type": "stream",
     "text": [
      "Отвергаем нулевую гипотезу: статистически значимые различия в конверсиях разных групп есть.\n",
      "Вычисленный уровень значимости:  0.008\n",
      "Относительный прирост конверсии группы В к группе А 13.81%\n"
     ]
    }
   ],
   "source": [
    "sampleA = pd.concat([ordersByUsersA['orders'], pd.Series(0, index=np.arange(data['visitorsPerDateA'].sum() - len(ordersByUsersA['orders'])), name='orders')], axis=0)\n",
    "sampleB = pd.concat([ordersByUsersB['orders'], pd.Series(0, index=np.arange(data['visitorsPerDateB'].sum() - len(ordersByUsersB['orders'])), name='orders')], axis=0)\n",
    "alpha = 0.05\n",
    "p_value = stats.mannwhitneyu(sampleA, sampleB)[1]\n",
    "if p_value < alpha:\n",
    "    print('Отвергаем нулевую гипотезу: статистически значимые различия в конверсиях разных групп есть.')\n",
    "else:\n",
    "    print('Не получилось отвергнуть нулевую гипотезу, статистически значимых различий в конверсиях разных групп нет.') \n",
    "print('Вычисленный уровень значимости: ', p_value.round(3))\n",
    "print('Относительный прирост конверсии группы В к группе А {0:.2%}'.format(sampleB.mean() / sampleA.mean() - 1))    "
   ]
  },
  {
   "cell_type": "markdown",
   "metadata": {},
   "source": [
    "<div style=\"border-radius: 15px; border: 3px solid indigo; padding: 15px;\">\n",
    "Посчитайте статистическую значимость различий в среднем чеке заказа между группами по «сырым» данным. Сделайте выводы и предположения."
   ]
  },
  {
   "cell_type": "markdown",
   "metadata": {},
   "source": [
    "Чтобы рассчитать статистическую значимость различий в среднем чеке между сегментами, передадим критерию <b>mannwhitneyu()</b> данные о выручке с заказов.\n",
    "Ещё найдём относительные различия в среднем чеке между группами."
   ]
  },
  {
   "cell_type": "markdown",
   "metadata": {},
   "source": [
    "<p>Для проведения анализа статистической значимости различия в среднем чеке разных групп по \"сырым\" данным сформулируем нулевую и альтернативную гипотезу.</p>\n",
    "<p><li>Нулевая гипотеза: Статистически значимых различий в среднем чеке разных групп нет.\n",
    "<li>Альтернативная гипотеза: Статистически значимые различия в среднем чеке разных групп есть.\n",
    "<li>Оценивать различия в выборках будет с применением критерия Манна-Уитни.\n",
    "<li>Уровень значимости зададим равный 0.05.</p>"
   ]
  },
  {
   "cell_type": "code",
   "execution_count": 175,
   "metadata": {},
   "outputs": [
    {
     "name": "stdout",
     "output_type": "stream",
     "text": [
      "Не получилось отвергнуть нулевую гипотезу, статистически значимых различий в среднем чеке разных групп нет.\n",
      "Вычисленный уровень значимости:  0.365\n",
      "Относительная разница среднего чека группы В к группе А 25.87%\n"
     ]
    }
   ],
   "source": [
    "alpha = 0.05\n",
    "p_value = stats.mannwhitneyu(orders[orders['group']=='A']['revenue'], orders[orders['group']=='B']['revenue'])[1]\n",
    "if p_value < alpha:\n",
    "    print('Отвергаем нулевую гипотезу: статистически значимые различия в среднем чеке разных групп есть.')\n",
    "else:\n",
    "    print('Не получилось отвергнуть нулевую гипотезу, статистически значимых различий в среднем чеке разных групп нет.') \n",
    "print('Вычисленный уровень значимости: ', p_value.round(3))\n",
    "print('Относительная разница среднего чека группы В к группе А {0:.2%}'.format(orders[orders['group']=='B']['revenue'].mean()/orders[orders['group']=='A']['revenue'].mean()-1))    "
   ]
  },
  {
   "cell_type": "markdown",
   "metadata": {},
   "source": [
    "<div style=\"border-radius: 15px; border: 3px solid indigo; padding: 15px;\">\n",
    "Посчитайте статистическую значимость различий в конверсии между группами по «очищенным» данным. Сделайте выводы и предположения."
   ]
  },
  {
   "cell_type": "markdown",
   "metadata": {},
   "source": [
    "Выше я определил нижнюю границу аномальных значений стоимости заказов в 28000 и в количестве заказов - 2 на одного пользователя. Сделаем срезы пользователей, совершивших больше 2 заказов или на стоимость более 28000."
   ]
  },
  {
   "cell_type": "code",
   "execution_count": 176,
   "metadata": {},
   "outputs": [],
   "source": [
    "usersWithManyOrders = pd.concat([ordersByUsersA[ordersByUsersA['orders'] > 2]['userId']\\\n",
    "                , ordersByUsersB[ordersByUsersB['orders'] > 2]['userId']], axis=0)"
   ]
  },
  {
   "cell_type": "code",
   "execution_count": 177,
   "metadata": {},
   "outputs": [],
   "source": [
    "usersWithExpensiveOrders = orders[orders['revenue'] > 28000]['visitorId']"
   ]
  },
  {
   "cell_type": "code",
   "execution_count": 178,
   "metadata": {},
   "outputs": [
    {
     "name": "stdout",
     "output_type": "stream",
     "text": [
      "1099    148427295\n",
      "18      199603092\n",
      "928     204675465\n",
      "23      237748145\n",
      "37      249864742\n",
      "dtype: int64\n",
      "(74,)\n"
     ]
    }
   ],
   "source": [
    "abnormalUsers = (pd.concat([usersWithManyOrders, usersWithExpensiveOrders], axis=0).drop_duplicates().sort_values())\n",
    "print(abnormalUsers.head(5))\n",
    "print(abnormalUsers.shape)"
   ]
  },
  {
   "cell_type": "markdown",
   "metadata": {},
   "source": [
    "Найдено 74 аномальных пользователя. Посмотрим как они влияли на результаты теста. Для этого уберём аномальные значения. Сделаем выборки количества заказов по пользователям в разных группах. "
   ]
  },
  {
   "cell_type": "code",
   "execution_count": 179,
   "metadata": {},
   "outputs": [],
   "source": [
    "sampleAFiltered = pd.concat([ordersByUsersA[np.logical_not(ordersByUsersA['userId'].isin(abnormalUsers))]['orders']\\\n",
    "    , pd.Series(0, index=np.arange(data['visitorsPerDateA'].sum() - len(ordersByUsersA['orders'])), name='orders')], axis=0)"
   ]
  },
  {
   "cell_type": "code",
   "execution_count": 180,
   "metadata": {},
   "outputs": [],
   "source": [
    "sampleBFiltered = pd.concat([ordersByUsersB[np.logical_not(ordersByUsersB['userId'].isin(abnormalUsers))]['orders']\\\n",
    "    , pd.Series(0, index=np.arange(data['visitorsPerDateB'].sum() - len(ordersByUsersB['orders'])), name='orders')], axis=0)"
   ]
  },
  {
   "cell_type": "markdown",
   "metadata": {},
   "source": [
    "<p>Для проведения анализа статистической значимости различия в конверсиях разных групп по \"очищенным\" данным сформулируем нулевую и альтернативную гипотезу.</p>\n",
    "<p><li>Нулевая гипотеза: Статистически значимых различий в конверсиях разных групп нет.\n",
    "<li>Альтернативная гипотеза: Статистически значимые различия в конверсиях разных групп есть.\n",
    "<li>Оценивать различия в выборках будет с применением критерия Манна-Уитни.\n",
    "<li>Уровень значимости зададим равный 0.05.</p>"
   ]
  },
  {
   "cell_type": "code",
   "execution_count": 181,
   "metadata": {},
   "outputs": [
    {
     "name": "stdout",
     "output_type": "stream",
     "text": [
      "Отвергаем нулевую гипотезу: статистически значимые различия в конверсиях разных групп есть.\n",
      "Вычисленный уровень значимости:  0.007\n",
      "Относительный прирост конверсии группы В к группе А 17.27%\n"
     ]
    }
   ],
   "source": [
    "alpha = 0.05\n",
    "p_value = stats.mannwhitneyu(sampleAFiltered, sampleBFiltered)[1]\n",
    "if p_value < alpha:\n",
    "    print('Отвергаем нулевую гипотезу: статистически значимые различия в конверсиях разных групп есть.')\n",
    "else:\n",
    "    print('Не получилось отвергнуть нулевую гипотезу, статистически значимых различий в конверсиях разных групп нет.') \n",
    "print('Вычисленный уровень значимости: ', p_value.round(3))\n",
    "print('Относительный прирост конверсии группы В к группе А {0:.2%}'.format(sampleBFiltered.mean()/sampleAFiltered.mean()-1))    "
   ]
  },
  {
   "cell_type": "markdown",
   "metadata": {},
   "source": [
    "P-value практически не изменился. Но результаты по конверсии немного изменились. Она выросла на 3.5% до 17.3%. Выбросы оказали не сильное влияние."
   ]
  },
  {
   "cell_type": "markdown",
   "metadata": {},
   "source": [
    "<div style=\"border-radius: 15px; border: 3px solid indigo; padding: 15px;\">\n",
    "Посчитайте статистическую значимость различий в среднем чеке заказа между группами по «очищенным» данным. Сделайте выводы и предположения."
   ]
  },
  {
   "cell_type": "markdown",
   "metadata": {},
   "source": [
    "<p>Для проведения анализа статистической значимости различия в среднем чеке разных групп по \"очищенным\" данным сформулируем нулевую и альтернативную гипотезу.</p>\n",
    "<p><li>Нулевая гипотеза: Статистически значимых различий в среднем чеке разных групп нет.\n",
    "<li>Альтернативная гипотеза: Статистически значимые различия в среднем чеке разных групп есть.\n",
    "<li>Оценивать различия в выборках будет с применением критерия Манна-Уитни.\n",
    "<li>Уровень значимости зададим равный 0.05.</p>"
   ]
  },
  {
   "cell_type": "code",
   "execution_count": 182,
   "metadata": {},
   "outputs": [
    {
     "name": "stdout",
     "output_type": "stream",
     "text": [
      "Не получилось отвергнуть нулевую гипотезу, статистически значимых различий в среднем чеке разных групп нет.\n",
      "Вычисленный уровень значимости:  0.369\n",
      "Относительная разница среднего чека группы В к группе А  -0.02\n"
     ]
    }
   ],
   "source": [
    "p_value = stats.mannwhitneyu(orders[np.logical_and(orders['group'] == 'A'\\\n",
    "        , np.logical_not(orders['visitorId'].isin(abnormalUsers)))]['revenue']\\\n",
    "        , orders[np.logical_and(orders['group'] == 'B', np.logical_not(orders['visitorId'].isin(abnormalUsers)))]['revenue'])[1]\n",
    "\n",
    "mean_check = orders[np.logical_and(orders['group'] == 'B', np.logical_not(orders['visitorId'].isin(abnormalUsers))\\\n",
    "        ,)]['revenue'].mean() / orders[np.logical_and(orders['group'] == 'A'\\\n",
    "        , np.logical_not(orders['visitorId'].isin(abnormalUsers)))]['revenue'].mean() - 1\n",
    "alpha = 0.05\n",
    "\n",
    "if p_value < alpha:\n",
    "    print('Отвергаем нулевую гипотезу: статистически значимые различия в среднем чеке разных групп есть.')\n",
    "else:\n",
    "    print('Не получилось отвергнуть нулевую гипотезу, статистически значимых различий в среднем чеке разных групп нет.') \n",
    "print('Вычисленный уровень значимости: ', p_value.round(3))\n",
    "print('Относительная разница среднего чека группы В к группе А ', mean_check.round(2))"
   ]
  },
  {
   "cell_type": "markdown",
   "metadata": {},
   "source": [
    "P-value практически не изменился. Это говорит о том, что выбросы не повлияли на статистику. А разница в среднем чеке сократилась с 26% до 2%. Видно, что выбросы оказывали сильное влияние."
   ]
  },
  {
   "cell_type": "markdown",
   "metadata": {},
   "source": [
    "<div style=\"border-radius: 15px; border: 3px solid indigo; padding: 15px;\">\n",
    "Примите решение по результатам теста и объясните его. Варианты решений: 1. Остановить тест, зафиксировать победу одной из групп. 2. Остановить тест, зафиксировать отсутствие различий между группами. 3. Продолжить тест."
   ]
  },
  {
   "cell_type": "markdown",
   "metadata": {},
   "source": [
    "<b>Выводы: </b>\n",
    "<li>Нет статистически значимого различия по конверсии между группами ни по «сырым», ни по данным после фильтрации аномалий\n",
    "<li>Нет статистически значимого различия по среднему чеку между группами ни по «сырым», ни по данным после фильтрации аномалий;\n",
    "<li>График различия конверсии между группами сообщает, что результаты группы B хуже чем в группе А и ухудшаются день ото дня."
   ]
  },
  {
   "cell_type": "code",
   "execution_count": 183,
   "metadata": {},
   "outputs": [
    {
     "data": {
      "image/png": "[encoded data removed]",
      "text/plain": [
       "<Figure size 720x360 with 1 Axes>"
      ]
     },
     "metadata": {
      "needs_background": "light"
     },
     "output_type": "display_data"
    }
   ],
   "source": [
    "plt.figure(figsize=(10,5))\n",
    "plt.plot(mergedCumulativeConversion['date']\\\n",
    "         , mergedCumulativeConversion['conversionB'] / (mergedCumulativeConversion['conversionA'] - 1))\n",
    "plt.axis([\"2019-08-01\", '2019-09-02', -0.03, -0.04])\n",
    "plt.title('График относительного изменения кумулятивной конверсии группы B к группе A')\n",
    "plt.xticks(rotation = 45) \n",
    "plt.xlabel('Дата')\n",
    "plt.ylabel('')\n",
    "plt.grid(True)\n",
    "plt.show()"
   ]
  },
  {
   "cell_type": "markdown",
   "metadata": {},
   "source": [
    "<li>График различия среднего чека говорит о том, что результаты группы B хуже группы A, и есть тенденции к ухудшению;"
   ]
  },
  {
   "cell_type": "code",
   "execution_count": 184,
   "metadata": {},
   "outputs": [
    {
     "data": {
      "image/png": "[encoded data removed]",
      "text/plain": [
       "<Figure size 720x360 with 1 Axes>"
      ]
     },
     "metadata": {
      "needs_background": "light"
     },
     "output_type": "display_data"
    }
   ],
   "source": [
    "plt.figure(figsize=(10,5))\n",
    "plt.plot(mergedCumulativeRevenue['date'],\\\n",
    "         (mergedCumulativeRevenue['revenueB']/mergedCumulativeRevenue['ordersB'])\\\n",
    "         /(mergedCumulativeRevenue['revenueA']/mergedCumulativeRevenue['ordersA'])-1)\n",
    "plt.axhline(y=0, color='black', linestyle='--') \n",
    "plt.title('График относительного изменения кумулятивного среднего чека группы B к группе A.')\n",
    "plt.xticks(rotation = 45) \n",
    "plt.xlabel('Дата')\n",
    "plt.ylabel('')\n",
    "plt.grid(True)\n",
    "plt.show()"
   ]
  },
  {
   "cell_type": "markdown",
   "metadata": {},
   "source": [
    "<b>Выводы: </b> \n",
    "<p>В первой части проекта были представлены 9 гипотез по увеличению выручки интернет-магазина. Применив метод RICE для расчёта приоритизации гипотез было выявлено, что 7 гипотеза (\"Добавить форму подписки на все основные страницы, чтобы собрать базу клиентов для email-рассылок\") является наиболее значимой. Её введение охватит всю аудиторию и заставит пользователей сильно изменить своё поведение, при том, что затраты будут средними.</p>\n",
    "<p>Во второй части проекта на основании проведенного А/В теста, представленного в датасетах orders и visitors было установлено:</p>\n",
    "<p>\n",
    "<li>В представленных данных было обнаружено 15 пользователей (1.25% от общего числа), которые попали в обе исследуемые группы;\n",
    "<li>В представленных данных было обнаружено 74 аномальных пользователя, совершивших более 2 покупок или на сумму более 28000 (эти значения были выбраны за нижнюю границу аномалии на основании анализа распределения всех значений);\n",
    "<li>Нет статистически значимого различия по конверсии между группами ни по «сырым», ни по данным после фильтрации аномалий\n",
    "<li>Нет статистически значимого различия по среднему чеку между группами ни по «сырым», ни по данным после фильтрации аномалий;\n",
    "Вычисление статистической значимости проводилось по критерию Манна-Уитни. Уровень p-value между \"сырыми\" и \"очищенными\" данными не менялся, что говорит об отсутствии влияния выбросов.\n",
    "<li>Анализируя графики изменения относительных кумулятивной конверсиии и кумулятивного среднего чека видно, что конверсия группы В изначально была ниже группы А, а средний чек группы В имеет тенденцию к понижению во второй половине теста.</p>\n",
    "<p><b>Общий вывод: </b></p>    \n",
    "<p>Исходя из обнаруженных фактов, тест следует остановить и признать его неуспешным. Продолжать смысла нет, потому как вероятность, что при имеющихся данных сегмент B на самом деле лучше сегмента A — практически нулевая.</p>"
   ]
  }
 ],
 "metadata": {
  "ExecuteTimeLog": [
   {
    "duration": 259,
    "start_time": "2021-08-21T09:02:16.789Z"
   },
   {
    "duration": 81,
    "start_time": "2021-08-21T09:02:21.164Z"
   },
   {
    "duration": 572,
    "start_time": "2021-08-21T09:02:27.867Z"
   },
   {
    "duration": 98,
    "start_time": "2021-08-21T09:02:30.321Z"
   },
   {
    "duration": 13,
    "start_time": "2021-08-21T09:02:33.358Z"
   },
   {
    "duration": 8,
    "start_time": "2021-08-21T09:07:22.947Z"
   },
   {
    "duration": 5828,
    "start_time": "2021-08-21T09:07:23.808Z"
   },
   {
    "duration": 6,
    "start_time": "2021-08-21T09:07:42.222Z"
   },
   {
    "duration": 9,
    "start_time": "2021-08-21T09:07:44.291Z"
   },
   {
    "duration": 146,
    "start_time": "2021-08-21T09:08:43.564Z"
   },
   {
    "duration": 14,
    "start_time": "2021-08-21T09:08:50.027Z"
   },
   {
    "duration": 9,
    "start_time": "2021-08-21T09:09:24.031Z"
   },
   {
    "duration": 5,
    "start_time": "2021-08-21T09:11:23.217Z"
   },
   {
    "duration": 4,
    "start_time": "2021-08-21T09:11:30.997Z"
   },
   {
    "duration": 4,
    "start_time": "2021-08-21T09:11:44.871Z"
   },
   {
    "duration": 59,
    "start_time": "2021-08-21T09:18:30.839Z"
   },
   {
    "duration": 7,
    "start_time": "2021-08-21T09:18:31.840Z"
   },
   {
    "duration": 4,
    "start_time": "2021-08-21T09:18:35.332Z"
   },
   {
    "duration": 9,
    "start_time": "2021-08-21T09:18:36.986Z"
   },
   {
    "duration": 4,
    "start_time": "2021-08-21T09:18:46.814Z"
   },
   {
    "duration": 11,
    "start_time": "2021-08-21T09:18:47.449Z"
   },
   {
    "duration": 10,
    "start_time": "2021-08-21T09:19:00.618Z"
   },
   {
    "duration": 810,
    "start_time": "2021-08-22T08:56:59.783Z"
   },
   {
    "duration": 88,
    "start_time": "2021-08-22T08:57:00.596Z"
   },
   {
    "duration": 24,
    "start_time": "2021-08-22T08:57:00.687Z"
   },
   {
    "duration": 6,
    "start_time": "2021-08-22T08:57:00.714Z"
   },
   {
    "duration": 14,
    "start_time": "2021-08-22T08:57:00.722Z"
   },
   {
    "duration": 43,
    "start_time": "2021-08-22T08:57:00.739Z"
   },
   {
    "duration": 6,
    "start_time": "2021-08-22T08:57:00.784Z"
   },
   {
    "duration": 23,
    "start_time": "2021-08-22T08:57:00.794Z"
   },
   {
    "duration": 12,
    "start_time": "2021-08-22T08:57:11.321Z"
   },
   {
    "duration": 471,
    "start_time": "2021-08-22T09:29:45.926Z"
   },
   {
    "duration": 83,
    "start_time": "2021-08-22T09:31:08.106Z"
   },
   {
    "duration": 10,
    "start_time": "2021-08-22T09:31:18.758Z"
   },
   {
    "duration": 127,
    "start_time": "2021-08-22T09:32:17.105Z"
   },
   {
    "duration": 11,
    "start_time": "2021-08-22T09:32:25.558Z"
   },
   {
    "duration": 10,
    "start_time": "2021-08-22T09:33:48.213Z"
   },
   {
    "duration": 7,
    "start_time": "2021-08-22T09:34:48.477Z"
   },
   {
    "duration": 8,
    "start_time": "2021-08-22T09:35:05.082Z"
   },
   {
    "duration": 322,
    "start_time": "2021-08-22T09:35:23.478Z"
   },
   {
    "duration": 12,
    "start_time": "2021-08-22T09:35:30.344Z"
   },
   {
    "duration": 8,
    "start_time": "2021-08-22T09:35:39.640Z"
   },
   {
    "duration": 7,
    "start_time": "2021-08-22T09:36:00.096Z"
   },
   {
    "duration": 7,
    "start_time": "2021-08-22T09:36:12.442Z"
   },
   {
    "duration": 6,
    "start_time": "2021-08-22T09:36:28.554Z"
   },
   {
    "duration": 1592,
    "start_time": "2021-08-22T09:49:34.202Z"
   },
   {
    "duration": 677,
    "start_time": "2021-08-22T09:50:24.552Z"
   },
   {
    "duration": 18,
    "start_time": "2021-08-22T09:50:30.481Z"
   },
   {
    "duration": 17,
    "start_time": "2021-08-22T09:50:36.753Z"
   },
   {
    "duration": 6,
    "start_time": "2021-08-22T09:51:07.972Z"
   },
   {
    "duration": 16,
    "start_time": "2021-08-22T09:53:28.658Z"
   },
   {
    "duration": 9,
    "start_time": "2021-08-22T09:58:39.739Z"
   },
   {
    "duration": 12,
    "start_time": "2021-08-22T09:58:55.895Z"
   },
   {
    "duration": 129,
    "start_time": "2021-08-22T10:22:26.245Z"
   },
   {
    "duration": 356,
    "start_time": "2021-08-22T10:23:16.281Z"
   },
   {
    "duration": 8,
    "start_time": "2021-08-22T10:23:35.054Z"
   },
   {
    "duration": 10,
    "start_time": "2021-08-22T10:23:36.094Z"
   },
   {
    "duration": 8450,
    "start_time": "2021-08-22T10:23:37.988Z"
   },
   {
    "duration": 11,
    "start_time": "2021-08-22T10:25:03.427Z"
   },
   {
    "duration": 329,
    "start_time": "2021-08-22T10:25:37.672Z"
   },
   {
    "duration": 19,
    "start_time": "2021-08-22T10:25:51.815Z"
   },
   {
    "duration": 331,
    "start_time": "2021-08-22T10:29:15.512Z"
   },
   {
    "duration": 12,
    "start_time": "2021-08-22T10:29:16.585Z"
   },
   {
    "duration": 10,
    "start_time": "2021-08-22T10:36:27.862Z"
   },
   {
    "duration": 140,
    "start_time": "2021-08-22T10:38:33.025Z"
   },
   {
    "duration": 4973,
    "start_time": "2021-08-22T10:39:17.750Z"
   },
   {
    "duration": 6,
    "start_time": "2021-08-22T10:40:37.984Z"
   },
   {
    "duration": 261,
    "start_time": "2021-08-22T10:41:58.770Z"
   },
   {
    "duration": 11,
    "start_time": "2021-08-22T10:42:14.613Z"
   },
   {
    "duration": 400,
    "start_time": "2021-08-22T10:44:48.819Z"
   },
   {
    "duration": 9,
    "start_time": "2021-08-22T10:45:11.958Z"
   },
   {
    "duration": 13,
    "start_time": "2021-08-22T10:45:26.630Z"
   },
   {
    "duration": 4,
    "start_time": "2021-08-22T10:46:54.909Z"
   },
   {
    "duration": 13,
    "start_time": "2021-08-22T10:46:56.300Z"
   },
   {
    "duration": 411,
    "start_time": "2021-08-22T11:34:30.348Z"
   },
   {
    "duration": 10,
    "start_time": "2021-08-22T11:34:40.125Z"
   },
   {
    "duration": 367,
    "start_time": "2021-08-22T11:35:25.483Z"
   },
   {
    "duration": 328,
    "start_time": "2021-08-22T11:36:13.717Z"
   },
   {
    "duration": 341,
    "start_time": "2021-08-22T11:36:34.292Z"
   },
   {
    "duration": 352,
    "start_time": "2021-08-22T11:36:52.386Z"
   },
   {
    "duration": 311,
    "start_time": "2021-08-22T11:36:59.174Z"
   },
   {
    "duration": 362,
    "start_time": "2021-08-22T11:39:16.343Z"
   },
   {
    "duration": 358,
    "start_time": "2021-08-22T11:41:11.005Z"
   },
   {
    "duration": 3,
    "start_time": "2021-08-22T11:41:21.989Z"
   },
   {
    "duration": 305,
    "start_time": "2021-08-22T11:41:26.006Z"
   },
   {
    "duration": 370,
    "start_time": "2021-08-22T11:42:58.302Z"
   },
   {
    "duration": 392,
    "start_time": "2021-08-22T11:43:09.216Z"
   },
   {
    "duration": 4,
    "start_time": "2021-08-22T11:44:09.415Z"
   },
   {
    "duration": 4,
    "start_time": "2021-08-22T11:44:11.602Z"
   },
   {
    "duration": 308,
    "start_time": "2021-08-22T11:44:15.342Z"
   },
   {
    "duration": 324,
    "start_time": "2021-08-22T11:44:23.327Z"
   },
   {
    "duration": 662,
    "start_time": "2021-08-22T11:46:32.732Z"
   },
   {
    "duration": 655,
    "start_time": "2021-08-22T11:48:11.950Z"
   },
   {
    "duration": 605,
    "start_time": "2021-08-22T11:52:02.015Z"
   },
   {
    "duration": 343,
    "start_time": "2021-08-22T11:53:11.447Z"
   },
   {
    "duration": 648,
    "start_time": "2021-08-22T11:54:33.066Z"
   },
   {
    "duration": 276,
    "start_time": "2021-08-22T11:55:24.059Z"
   },
   {
    "duration": 553,
    "start_time": "2021-08-22T11:56:38.062Z"
   },
   {
    "duration": 640,
    "start_time": "2021-08-22T11:57:00.336Z"
   },
   {
    "duration": 704,
    "start_time": "2021-08-22T11:57:06.378Z"
   },
   {
    "duration": 636,
    "start_time": "2021-08-22T11:57:31.612Z"
   },
   {
    "duration": 275,
    "start_time": "2021-08-22T11:58:49.690Z"
   },
   {
    "duration": 266,
    "start_time": "2021-08-22T11:59:13.059Z"
   },
   {
    "duration": 462,
    "start_time": "2021-08-22T11:59:32.708Z"
   },
   {
    "duration": 499,
    "start_time": "2021-08-22T12:00:04.201Z"
   },
   {
    "duration": 321,
    "start_time": "2021-08-22T12:01:29.370Z"
   },
   {
    "duration": 508,
    "start_time": "2021-08-22T12:01:46.774Z"
   },
   {
    "duration": 473,
    "start_time": "2021-08-22T12:10:10.776Z"
   },
   {
    "duration": 126,
    "start_time": "2021-08-22T12:10:51.292Z"
   },
   {
    "duration": 476,
    "start_time": "2021-08-22T12:11:17.973Z"
   },
   {
    "duration": 9,
    "start_time": "2021-08-22T12:36:44.636Z"
   },
   {
    "duration": 405,
    "start_time": "2021-08-22T12:39:05.773Z"
   },
   {
    "duration": 551,
    "start_time": "2021-08-22T12:39:26.931Z"
   },
   {
    "duration": 376,
    "start_time": "2021-08-22T12:42:47.456Z"
   },
   {
    "duration": 12,
    "start_time": "2021-08-22T12:42:59.143Z"
   },
   {
    "duration": 9,
    "start_time": "2021-08-22T12:43:32.517Z"
   },
   {
    "duration": 12,
    "start_time": "2021-08-22T12:43:33.271Z"
   },
   {
    "duration": 607,
    "start_time": "2021-08-22T12:43:35.068Z"
   },
   {
    "duration": 19,
    "start_time": "2021-08-22T12:47:46.656Z"
   },
   {
    "duration": 5,
    "start_time": "2021-08-22T12:48:01.811Z"
   },
   {
    "duration": 18,
    "start_time": "2021-08-22T12:48:02.606Z"
   },
   {
    "duration": 13,
    "start_time": "2021-08-22T12:48:09.805Z"
   },
   {
    "duration": 7,
    "start_time": "2021-08-22T12:50:05.973Z"
   },
   {
    "duration": 481,
    "start_time": "2021-08-22T12:51:49.956Z"
   },
   {
    "duration": 11,
    "start_time": "2021-08-22T12:57:00.259Z"
   },
   {
    "duration": 9408,
    "start_time": "2021-08-22T12:59:39.599Z"
   },
   {
    "duration": 10,
    "start_time": "2021-08-22T13:00:10.726Z"
   },
   {
    "duration": 10,
    "start_time": "2021-08-22T13:00:28.484Z"
   },
   {
    "duration": 11,
    "start_time": "2021-08-22T13:00:30.440Z"
   },
   {
    "duration": 470,
    "start_time": "2021-08-22T13:00:36.692Z"
   },
   {
    "duration": 571,
    "start_time": "2021-08-22T13:02:15.532Z"
   },
   {
    "duration": 575,
    "start_time": "2021-08-22T13:02:40.891Z"
   },
   {
    "duration": 569,
    "start_time": "2021-08-22T13:02:49.413Z"
   },
   {
    "duration": 466,
    "start_time": "2021-08-22T13:03:51.927Z"
   },
   {
    "duration": 442,
    "start_time": "2021-08-22T13:16:50.480Z"
   },
   {
    "duration": 460,
    "start_time": "2021-08-22T13:18:14.475Z"
   },
   {
    "duration": 428,
    "start_time": "2021-08-22T13:18:53.785Z"
   },
   {
    "duration": 929,
    "start_time": "2021-08-22T13:19:02.643Z"
   },
   {
    "duration": 786,
    "start_time": "2021-08-22T13:20:09.848Z"
   },
   {
    "duration": 451,
    "start_time": "2021-08-22T13:20:58.143Z"
   },
   {
    "duration": 456,
    "start_time": "2021-08-22T13:22:15.839Z"
   },
   {
    "duration": 456,
    "start_time": "2021-08-22T13:22:27.776Z"
   },
   {
    "duration": 11,
    "start_time": "2021-08-22T13:24:17.201Z"
   },
   {
    "duration": 12,
    "start_time": "2021-08-22T13:24:17.970Z"
   },
   {
    "duration": 456,
    "start_time": "2021-08-22T13:24:22.064Z"
   },
   {
    "duration": 447,
    "start_time": "2021-08-22T13:24:33.588Z"
   },
   {
    "duration": 481,
    "start_time": "2021-08-22T13:25:29.779Z"
   },
   {
    "duration": 455,
    "start_time": "2021-08-22T13:25:44.712Z"
   },
   {
    "duration": 433,
    "start_time": "2021-08-22T13:28:03.990Z"
   },
   {
    "duration": 579,
    "start_time": "2021-08-22T13:28:47.873Z"
   },
   {
    "duration": 568,
    "start_time": "2021-08-22T13:29:17.260Z"
   },
   {
    "duration": 582,
    "start_time": "2021-08-22T13:29:34.571Z"
   },
   {
    "duration": 588,
    "start_time": "2021-08-22T13:29:46.094Z"
   },
   {
    "duration": 543,
    "start_time": "2021-08-22T13:34:06.233Z"
   },
   {
    "duration": 11,
    "start_time": "2021-08-22T13:39:52.436Z"
   },
   {
    "duration": 1259,
    "start_time": "2021-08-22T13:41:36.798Z"
   },
   {
    "duration": 224,
    "start_time": "2021-08-22T13:41:48.273Z"
   },
   {
    "duration": 8,
    "start_time": "2021-08-22T13:41:50.703Z"
   },
   {
    "duration": 181,
    "start_time": "2021-08-22T13:42:57.817Z"
   },
   {
    "duration": 9,
    "start_time": "2021-08-22T13:42:59.682Z"
   },
   {
    "duration": 13,
    "start_time": "2021-08-22T13:43:38.687Z"
   },
   {
    "duration": 263,
    "start_time": "2021-08-22T13:47:46.672Z"
   },
   {
    "duration": 340,
    "start_time": "2021-08-22T13:51:03.295Z"
   },
   {
    "duration": 301,
    "start_time": "2021-08-22T13:51:24.740Z"
   },
   {
    "duration": 351,
    "start_time": "2021-08-22T13:53:14.521Z"
   },
   {
    "duration": 336,
    "start_time": "2021-08-22T13:53:21.396Z"
   },
   {
    "duration": 150,
    "start_time": "2021-08-22T14:01:24.691Z"
   },
   {
    "duration": 8305,
    "start_time": "2021-08-22T14:01:45.409Z"
   },
   {
    "duration": 7,
    "start_time": "2021-08-22T14:02:12.227Z"
   },
   {
    "duration": 7,
    "start_time": "2021-08-22T14:02:44.123Z"
   },
   {
    "duration": 17,
    "start_time": "2021-08-22T14:07:58.878Z"
   },
   {
    "duration": 268,
    "start_time": "2021-08-22T14:08:12.202Z"
   },
   {
    "duration": 482,
    "start_time": "2021-08-22T14:10:10.623Z"
   },
   {
    "duration": 539,
    "start_time": "2021-08-22T14:11:05.405Z"
   },
   {
    "duration": 571,
    "start_time": "2021-08-22T14:11:44.278Z"
   },
   {
    "duration": 540,
    "start_time": "2021-08-22T14:12:00.516Z"
   },
   {
    "duration": 930,
    "start_time": "2021-08-22T14:12:19.052Z"
   },
   {
    "duration": 761,
    "start_time": "2021-08-22T14:12:34.866Z"
   },
   {
    "duration": 837,
    "start_time": "2021-08-22T14:12:41.616Z"
   },
   {
    "duration": 578,
    "start_time": "2021-08-22T14:13:02.772Z"
   },
   {
    "duration": 777,
    "start_time": "2021-08-22T14:13:24.941Z"
   },
   {
    "duration": 584,
    "start_time": "2021-08-22T14:14:07.880Z"
   },
   {
    "duration": 6,
    "start_time": "2021-08-22T14:19:42.374Z"
   },
   {
    "duration": 7,
    "start_time": "2021-08-22T14:21:13.457Z"
   },
   {
    "duration": 13,
    "start_time": "2021-08-22T14:42:38.300Z"
   },
   {
    "duration": 340,
    "start_time": "2021-08-22T14:43:04.285Z"
   },
   {
    "duration": 10,
    "start_time": "2021-08-22T14:43:11.408Z"
   },
   {
    "duration": 10,
    "start_time": "2021-08-22T14:43:12.366Z"
   },
   {
    "duration": 3,
    "start_time": "2021-08-22T14:44:20.658Z"
   },
   {
    "duration": 10,
    "start_time": "2021-08-22T14:44:37.616Z"
   },
   {
    "duration": 12,
    "start_time": "2021-08-22T14:44:59.391Z"
   },
   {
    "duration": 91,
    "start_time": "2021-08-22T15:48:41.736Z"
   },
   {
    "duration": 90,
    "start_time": "2021-08-22T15:48:42.353Z"
   },
   {
    "duration": 363,
    "start_time": "2021-08-22T15:48:42.936Z"
   },
   {
    "duration": 16,
    "start_time": "2021-08-22T15:49:13.957Z"
   },
   {
    "duration": 11,
    "start_time": "2021-08-22T16:09:00.706Z"
   },
   {
    "duration": 11,
    "start_time": "2021-08-22T16:09:19.347Z"
   },
   {
    "duration": 404,
    "start_time": "2021-08-22T16:10:14.963Z"
   },
   {
    "duration": 134,
    "start_time": "2021-08-22T16:10:31.885Z"
   },
   {
    "duration": 122,
    "start_time": "2021-08-22T16:12:00.274Z"
   },
   {
    "duration": 48,
    "start_time": "2021-08-22T16:12:45.420Z"
   },
   {
    "duration": 371,
    "start_time": "2021-08-22T16:30:40.859Z"
   },
   {
    "duration": 193,
    "start_time": "2021-08-22T16:31:28.650Z"
   },
   {
    "duration": 7,
    "start_time": "2021-08-22T16:34:50.565Z"
   },
   {
    "duration": 7,
    "start_time": "2021-08-22T16:36:22.693Z"
   },
   {
    "duration": 375,
    "start_time": "2021-08-22T16:37:25.798Z"
   },
   {
    "duration": 336,
    "start_time": "2021-08-22T16:38:23.471Z"
   },
   {
    "duration": 463,
    "start_time": "2021-08-22T16:40:49.331Z"
   },
   {
    "duration": 4,
    "start_time": "2021-08-22T16:41:51.747Z"
   },
   {
    "duration": 14,
    "start_time": "2021-08-22T16:41:56.453Z"
   },
   {
    "duration": 4,
    "start_time": "2021-08-22T16:44:21.108Z"
   },
   {
    "duration": 15,
    "start_time": "2021-08-22T16:51:13.227Z"
   },
   {
    "duration": 8,
    "start_time": "2021-08-22T16:55:56.283Z"
   },
   {
    "duration": 8,
    "start_time": "2021-08-22T16:56:08.038Z"
   },
   {
    "duration": 9467,
    "start_time": "2021-08-22T17:12:15.126Z"
   },
   {
    "duration": 9133,
    "start_time": "2021-08-22T17:12:46.785Z"
   },
   {
    "duration": 192,
    "start_time": "2021-08-22T17:13:50.108Z"
   },
   {
    "duration": 221,
    "start_time": "2021-08-22T17:14:02.724Z"
   },
   {
    "duration": 14,
    "start_time": "2021-08-22T17:14:03.417Z"
   },
   {
    "duration": 17,
    "start_time": "2021-08-22T17:14:07.299Z"
   },
   {
    "duration": 9618,
    "start_time": "2021-08-22T17:14:28.564Z"
   },
   {
    "duration": 8316,
    "start_time": "2021-08-22T17:15:48.682Z"
   },
   {
    "duration": 12,
    "start_time": "2021-08-22T17:16:06.120Z"
   },
   {
    "duration": 8732,
    "start_time": "2021-08-22T17:17:33.070Z"
   },
   {
    "duration": 7,
    "start_time": "2021-08-22T17:21:30.340Z"
   },
   {
    "duration": 9426,
    "start_time": "2021-08-22T17:21:48.270Z"
   },
   {
    "duration": 6,
    "start_time": "2021-08-22T17:22:02.911Z"
   },
   {
    "duration": 9,
    "start_time": "2021-08-22T17:22:06.333Z"
   },
   {
    "duration": 9,
    "start_time": "2021-08-22T17:27:21.578Z"
   },
   {
    "duration": 8,
    "start_time": "2021-08-22T17:27:22.265Z"
   },
   {
    "duration": 11,
    "start_time": "2021-08-22T17:27:45.653Z"
   },
   {
    "duration": 5,
    "start_time": "2021-08-22T17:33:55.096Z"
   },
   {
    "duration": 5,
    "start_time": "2021-08-22T17:35:44.261Z"
   },
   {
    "duration": 6,
    "start_time": "2021-08-22T18:01:50.824Z"
   },
   {
    "duration": 8,
    "start_time": "2021-08-22T18:02:16.304Z"
   },
   {
    "duration": 5,
    "start_time": "2021-08-22T18:03:32.921Z"
   },
   {
    "duration": 5,
    "start_time": "2021-08-22T18:04:23.353Z"
   },
   {
    "duration": 5,
    "start_time": "2021-08-22T18:04:49.141Z"
   },
   {
    "duration": 13,
    "start_time": "2021-08-22T18:17:23.156Z"
   },
   {
    "duration": 8025,
    "start_time": "2021-08-22T18:22:07.578Z"
   },
   {
    "duration": 19,
    "start_time": "2021-08-22T18:23:32.346Z"
   },
   {
    "duration": 370,
    "start_time": "2021-08-22T18:34:17.292Z"
   },
   {
    "duration": 391,
    "start_time": "2021-08-22T18:34:42.047Z"
   },
   {
    "duration": 575,
    "start_time": "2021-08-22T18:36:16.332Z"
   },
   {
    "duration": 529,
    "start_time": "2021-08-22T18:37:00.914Z"
   },
   {
    "duration": 548,
    "start_time": "2021-08-22T18:37:59.710Z"
   },
   {
    "duration": 604,
    "start_time": "2021-08-22T18:40:49.550Z"
   },
   {
    "duration": 563,
    "start_time": "2021-08-22T18:41:55.693Z"
   },
   {
    "duration": 403,
    "start_time": "2021-08-22T18:42:07.253Z"
   },
   {
    "duration": 5,
    "start_time": "2021-08-22T18:45:56.063Z"
   },
   {
    "duration": 6,
    "start_time": "2021-08-22T18:46:12.327Z"
   },
   {
    "duration": 5,
    "start_time": "2021-08-22T18:46:26.952Z"
   },
   {
    "duration": 458,
    "start_time": "2021-08-22T18:48:56.262Z"
   },
   {
    "duration": 549,
    "start_time": "2021-08-22T18:49:08.875Z"
   },
   {
    "duration": 438,
    "start_time": "2021-08-22T18:53:36.528Z"
   },
   {
    "duration": 4,
    "start_time": "2021-08-22T19:11:56.676Z"
   },
   {
    "duration": 99,
    "start_time": "2021-08-22T19:11:56.685Z"
   },
   {
    "duration": 10,
    "start_time": "2021-08-22T19:11:56.787Z"
   },
   {
    "duration": 7,
    "start_time": "2021-08-22T19:11:56.800Z"
   },
   {
    "duration": 6,
    "start_time": "2021-08-22T19:11:56.809Z"
   },
   {
    "duration": 14,
    "start_time": "2021-08-22T19:11:56.817Z"
   },
   {
    "duration": 6,
    "start_time": "2021-08-22T19:11:56.858Z"
   },
   {
    "duration": 17,
    "start_time": "2021-08-22T19:11:56.884Z"
   },
   {
    "duration": 155,
    "start_time": "2021-08-22T19:11:56.905Z"
   },
   {
    "duration": 11,
    "start_time": "2021-08-22T19:11:57.062Z"
   },
   {
    "duration": 13,
    "start_time": "2021-08-22T19:11:57.076Z"
   },
   {
    "duration": 8,
    "start_time": "2021-08-22T19:11:57.092Z"
   },
   {
    "duration": 7,
    "start_time": "2021-08-22T19:11:57.103Z"
   },
   {
    "duration": 11,
    "start_time": "2021-08-22T19:11:57.112Z"
   },
   {
    "duration": 6,
    "start_time": "2021-08-22T19:11:57.127Z"
   },
   {
    "duration": 46,
    "start_time": "2021-08-22T19:11:57.136Z"
   },
   {
    "duration": 6,
    "start_time": "2021-08-22T19:11:57.185Z"
   },
   {
    "duration": 20,
    "start_time": "2021-08-22T19:11:57.194Z"
   },
   {
    "duration": 7,
    "start_time": "2021-08-22T19:11:57.217Z"
   },
   {
    "duration": 9,
    "start_time": "2021-08-22T19:11:57.226Z"
   },
   {
    "duration": 47,
    "start_time": "2021-08-22T19:11:57.237Z"
   },
   {
    "duration": 349,
    "start_time": "2021-08-22T19:11:57.286Z"
   },
   {
    "duration": 11,
    "start_time": "2021-08-22T19:11:57.637Z"
   },
   {
    "duration": 296,
    "start_time": "2021-08-22T19:11:57.650Z"
   },
   {
    "duration": 14,
    "start_time": "2021-08-22T19:11:57.948Z"
   },
   {
    "duration": 26,
    "start_time": "2021-08-22T19:11:57.964Z"
   },
   {
    "duration": 7,
    "start_time": "2021-08-22T19:11:57.992Z"
   },
   {
    "duration": 14,
    "start_time": "2021-08-22T19:11:58.001Z"
   },
   {
    "duration": 8,
    "start_time": "2021-08-22T19:11:58.018Z"
   },
   {
    "duration": 541,
    "start_time": "2021-08-22T19:11:58.029Z"
   },
   {
    "duration": 494,
    "start_time": "2021-08-22T19:11:58.573Z"
   },
   {
    "duration": 17,
    "start_time": "2021-08-22T19:11:59.072Z"
   },
   {
    "duration": 17,
    "start_time": "2021-08-22T19:11:59.093Z"
   },
   {
    "duration": 578,
    "start_time": "2021-08-22T19:11:59.112Z"
   },
   {
    "duration": 5,
    "start_time": "2021-08-22T19:11:59.693Z"
   },
   {
    "duration": 20,
    "start_time": "2021-08-22T19:11:59.701Z"
   },
   {
    "duration": 8,
    "start_time": "2021-08-22T19:11:59.723Z"
   },
   {
    "duration": 507,
    "start_time": "2021-08-22T19:11:59.733Z"
   },
   {
    "duration": 11,
    "start_time": "2021-08-22T19:12:00.243Z"
   },
   {
    "duration": 28,
    "start_time": "2021-08-22T19:12:00.257Z"
   },
   {
    "duration": 481,
    "start_time": "2021-08-22T19:12:00.287Z"
   },
   {
    "duration": 173,
    "start_time": "2021-08-22T19:12:00.770Z"
   },
   {
    "duration": 13,
    "start_time": "2021-08-22T19:12:00.945Z"
   },
   {
    "duration": 280,
    "start_time": "2021-08-22T19:12:00.961Z"
   },
   {
    "duration": 416,
    "start_time": "2021-08-22T19:12:01.244Z"
   },
   {
    "duration": 6,
    "start_time": "2021-08-22T19:12:01.663Z"
   },
   {
    "duration": 311,
    "start_time": "2021-08-22T19:12:01.683Z"
   },
   {
    "duration": 571,
    "start_time": "2021-08-22T19:12:01.997Z"
   },
   {
    "duration": 14,
    "start_time": "2021-08-22T19:12:02.570Z"
   },
   {
    "duration": 14,
    "start_time": "2021-08-22T19:12:02.586Z"
   },
   {
    "duration": 116,
    "start_time": "2021-08-22T19:12:02.602Z"
   },
   {
    "duration": 137,
    "start_time": "2021-08-22T19:12:02.722Z"
   },
   {
    "duration": 31,
    "start_time": "2021-08-22T19:12:02.861Z"
   },
   {
    "duration": 107,
    "start_time": "2021-08-22T19:12:02.895Z"
   },
   {
    "duration": 127,
    "start_time": "2021-08-22T19:12:03.005Z"
   },
   {
    "duration": 66,
    "start_time": "2021-08-22T19:12:03.134Z"
   },
   {
    "duration": 224,
    "start_time": "2021-08-22T19:12:03.202Z"
   },
   {
    "duration": 8,
    "start_time": "2021-08-22T19:12:03.428Z"
   },
   {
    "duration": 200,
    "start_time": "2021-08-22T19:12:03.438Z"
   },
   {
    "duration": 13,
    "start_time": "2021-08-22T19:12:03.641Z"
   },
   {
    "duration": 33,
    "start_time": "2021-08-22T19:12:03.657Z"
   },
   {
    "duration": 118,
    "start_time": "2021-08-22T19:12:03.692Z"
   },
   {
    "duration": -131,
    "start_time": "2021-08-22T19:12:03.943Z"
   },
   {
    "duration": -151,
    "start_time": "2021-08-22T19:12:03.965Z"
   },
   {
    "duration": -156,
    "start_time": "2021-08-22T19:12:03.972Z"
   },
   {
    "duration": -172,
    "start_time": "2021-08-22T19:12:03.989Z"
   },
   {
    "duration": -179,
    "start_time": "2021-08-22T19:12:03.997Z"
   },
   {
    "duration": -184,
    "start_time": "2021-08-22T19:12:04.003Z"
   },
   {
    "duration": -189,
    "start_time": "2021-08-22T19:12:04.010Z"
   },
   {
    "duration": -194,
    "start_time": "2021-08-22T19:12:04.016Z"
   },
   {
    "duration": -199,
    "start_time": "2021-08-22T19:12:04.022Z"
   },
   {
    "duration": 4,
    "start_time": "2021-08-22T19:12:25.233Z"
   },
   {
    "duration": 51,
    "start_time": "2021-08-22T19:12:25.243Z"
   },
   {
    "duration": 11,
    "start_time": "2021-08-22T19:12:25.296Z"
   },
   {
    "duration": 8,
    "start_time": "2021-08-22T19:12:25.310Z"
   },
   {
    "duration": 7,
    "start_time": "2021-08-22T19:12:25.321Z"
   },
   {
    "duration": 16,
    "start_time": "2021-08-22T19:12:25.330Z"
   },
   {
    "duration": 38,
    "start_time": "2021-08-22T19:12:25.348Z"
   },
   {
    "duration": 18,
    "start_time": "2021-08-22T19:12:25.389Z"
   },
   {
    "duration": 87,
    "start_time": "2021-08-22T19:12:25.410Z"
   },
   {
    "duration": 10,
    "start_time": "2021-08-22T19:12:25.501Z"
   },
   {
    "duration": 15,
    "start_time": "2021-08-22T19:12:25.514Z"
   },
   {
    "duration": 13,
    "start_time": "2021-08-22T19:12:25.531Z"
   },
   {
    "duration": 7,
    "start_time": "2021-08-22T19:12:25.546Z"
   },
   {
    "duration": 32,
    "start_time": "2021-08-22T19:12:25.555Z"
   },
   {
    "duration": 11,
    "start_time": "2021-08-22T19:12:25.589Z"
   },
   {
    "duration": 9,
    "start_time": "2021-08-22T19:12:25.602Z"
   },
   {
    "duration": 9,
    "start_time": "2021-08-22T19:12:25.613Z"
   },
   {
    "duration": 62,
    "start_time": "2021-08-22T19:12:25.624Z"
   },
   {
    "duration": 9,
    "start_time": "2021-08-22T19:12:25.689Z"
   },
   {
    "duration": 9,
    "start_time": "2021-08-22T19:12:25.701Z"
   },
   {
    "duration": 15,
    "start_time": "2021-08-22T19:12:25.713Z"
   },
   {
    "duration": 356,
    "start_time": "2021-08-22T19:12:25.731Z"
   },
   {
    "duration": 11,
    "start_time": "2021-08-22T19:12:26.089Z"
   },
   {
    "duration": 281,
    "start_time": "2021-08-22T19:12:26.103Z"
   },
   {
    "duration": 13,
    "start_time": "2021-08-22T19:12:26.386Z"
   },
   {
    "duration": 12,
    "start_time": "2021-08-22T19:12:26.402Z"
   },
   {
    "duration": 12,
    "start_time": "2021-08-22T19:12:26.416Z"
   },
   {
    "duration": 19,
    "start_time": "2021-08-22T19:12:26.436Z"
   },
   {
    "duration": 11,
    "start_time": "2021-08-22T19:12:26.483Z"
   },
   {
    "duration": 504,
    "start_time": "2021-08-22T19:12:26.497Z"
   },
   {
    "duration": 508,
    "start_time": "2021-08-22T19:12:27.005Z"
   },
   {
    "duration": 9,
    "start_time": "2021-08-22T19:12:27.517Z"
   },
   {
    "duration": 14,
    "start_time": "2021-08-22T19:12:27.529Z"
   },
   {
    "duration": 632,
    "start_time": "2021-08-22T19:12:27.546Z"
   },
   {
    "duration": 5,
    "start_time": "2021-08-22T19:12:28.180Z"
   },
   {
    "duration": 19,
    "start_time": "2021-08-22T19:12:28.188Z"
   },
   {
    "duration": 13,
    "start_time": "2021-08-22T19:12:28.209Z"
   },
   {
    "duration": 497,
    "start_time": "2021-08-22T19:12:28.225Z"
   },
   {
    "duration": 11,
    "start_time": "2021-08-22T19:12:28.725Z"
   },
   {
    "duration": 18,
    "start_time": "2021-08-22T19:12:28.739Z"
   },
   {
    "duration": 495,
    "start_time": "2021-08-22T19:12:28.759Z"
   },
   {
    "duration": 270,
    "start_time": "2021-08-22T19:12:29.257Z"
   },
   {
    "duration": 14,
    "start_time": "2021-08-22T19:12:29.529Z"
   },
   {
    "duration": 287,
    "start_time": "2021-08-22T19:12:29.545Z"
   },
   {
    "duration": 383,
    "start_time": "2021-08-22T19:12:29.834Z"
   },
   {
    "duration": 7,
    "start_time": "2021-08-22T19:12:30.219Z"
   },
   {
    "duration": 313,
    "start_time": "2021-08-22T19:12:30.228Z"
   },
   {
    "duration": 722,
    "start_time": "2021-08-22T19:12:30.543Z"
   },
   {
    "duration": 16,
    "start_time": "2021-08-22T19:12:31.267Z"
   },
   {
    "duration": 8,
    "start_time": "2021-08-22T19:12:31.286Z"
   },
   {
    "duration": 110,
    "start_time": "2021-08-22T19:12:31.296Z"
   },
   {
    "duration": 103,
    "start_time": "2021-08-22T19:12:31.408Z"
   },
   {
    "duration": 28,
    "start_time": "2021-08-22T19:12:31.514Z"
   },
   {
    "duration": 125,
    "start_time": "2021-08-22T19:12:31.544Z"
   },
   {
    "duration": 130,
    "start_time": "2021-08-22T19:12:31.671Z"
   },
   {
    "duration": 49,
    "start_time": "2021-08-22T19:12:31.803Z"
   },
   {
    "duration": 226,
    "start_time": "2021-08-22T19:12:31.854Z"
   },
   {
    "duration": 8,
    "start_time": "2021-08-22T19:12:32.083Z"
   },
   {
    "duration": 217,
    "start_time": "2021-08-22T19:12:32.093Z"
   },
   {
    "duration": 14,
    "start_time": "2021-08-22T19:12:32.312Z"
   },
   {
    "duration": 25,
    "start_time": "2021-08-22T19:12:32.329Z"
   },
   {
    "duration": 26,
    "start_time": "2021-08-22T19:12:32.356Z"
   },
   {
    "duration": 5,
    "start_time": "2021-08-22T19:12:32.385Z"
   },
   {
    "duration": 27,
    "start_time": "2021-08-22T19:12:32.392Z"
   },
   {
    "duration": 12,
    "start_time": "2021-08-22T19:12:32.422Z"
   },
   {
    "duration": 8,
    "start_time": "2021-08-22T19:12:32.436Z"
   },
   {
    "duration": 9,
    "start_time": "2021-08-22T19:12:32.446Z"
   },
   {
    "duration": 40,
    "start_time": "2021-08-22T19:12:32.457Z"
   },
   {
    "duration": 310,
    "start_time": "2021-08-22T19:12:32.499Z"
   },
   {
    "duration": 389,
    "start_time": "2021-08-22T19:12:32.811Z"
   },
   {
    "duration": 1711,
    "start_time": "2021-08-23T14:35:18.294Z"
   },
   {
    "duration": 117,
    "start_time": "2021-08-23T14:35:20.009Z"
   },
   {
    "duration": 16,
    "start_time": "2021-08-23T14:35:20.129Z"
   },
   {
    "duration": 8,
    "start_time": "2021-08-23T14:35:20.148Z"
   },
   {
    "duration": 15,
    "start_time": "2021-08-23T14:35:20.159Z"
   },
   {
    "duration": 23,
    "start_time": "2021-08-23T14:35:20.176Z"
   },
   {
    "duration": 12,
    "start_time": "2021-08-23T14:35:20.201Z"
   },
   {
    "duration": 17,
    "start_time": "2021-08-23T14:35:20.218Z"
   },
   {
    "duration": 222,
    "start_time": "2021-08-23T14:35:20.238Z"
   },
   {
    "duration": 11,
    "start_time": "2021-08-23T14:35:20.463Z"
   },
   {
    "duration": 13,
    "start_time": "2021-08-23T14:35:20.476Z"
   },
   {
    "duration": 12,
    "start_time": "2021-08-23T14:35:20.491Z"
   },
   {
    "duration": 11,
    "start_time": "2021-08-23T14:35:20.505Z"
   },
   {
    "duration": 8,
    "start_time": "2021-08-23T14:35:20.518Z"
   },
   {
    "duration": 7,
    "start_time": "2021-08-23T14:35:20.529Z"
   },
   {
    "duration": 14,
    "start_time": "2021-08-23T14:35:20.539Z"
   },
   {
    "duration": 46,
    "start_time": "2021-08-23T14:35:20.556Z"
   },
   {
    "duration": 20,
    "start_time": "2021-08-23T14:35:20.605Z"
   },
   {
    "duration": 7,
    "start_time": "2021-08-23T14:35:20.628Z"
   },
   {
    "duration": 11,
    "start_time": "2021-08-23T14:35:20.638Z"
   },
   {
    "duration": 54,
    "start_time": "2021-08-23T14:35:20.651Z"
   },
   {
    "duration": 266,
    "start_time": "2021-08-23T14:35:20.707Z"
   },
   {
    "duration": 11,
    "start_time": "2021-08-23T14:35:20.979Z"
   },
   {
    "duration": 219,
    "start_time": "2021-08-23T14:35:21.002Z"
   },
   {
    "duration": 10,
    "start_time": "2021-08-23T14:35:21.224Z"
   },
   {
    "duration": 16,
    "start_time": "2021-08-23T14:35:21.237Z"
   },
   {
    "duration": 12,
    "start_time": "2021-08-23T14:35:21.256Z"
   },
   {
    "duration": 39,
    "start_time": "2021-08-23T14:35:21.270Z"
   },
   {
    "duration": 12,
    "start_time": "2021-08-23T14:35:21.311Z"
   },
   {
    "duration": 369,
    "start_time": "2021-08-23T14:35:21.325Z"
   },
   {
    "duration": 339,
    "start_time": "2021-08-23T14:35:21.700Z"
   },
   {
    "duration": 9,
    "start_time": "2021-08-23T14:35:22.042Z"
   },
   {
    "duration": 14,
    "start_time": "2021-08-23T14:35:22.054Z"
   },
   {
    "duration": 467,
    "start_time": "2021-08-23T14:35:22.071Z"
   },
   {
    "duration": 6,
    "start_time": "2021-08-23T14:35:22.540Z"
   },
   {
    "duration": 15,
    "start_time": "2021-08-23T14:35:22.548Z"
   },
   {
    "duration": 35,
    "start_time": "2021-08-23T14:35:22.566Z"
   },
   {
    "duration": 1456,
    "start_time": "2021-08-23T14:35:22.603Z"
   },
   {
    "duration": 6108,
    "start_time": "2021-08-23T14:35:17.953Z"
   },
   {
    "duration": 6102,
    "start_time": "2021-08-23T14:35:17.961Z"
   },
   {
    "duration": 6101,
    "start_time": "2021-08-23T14:35:17.964Z"
   },
   {
    "duration": 6100,
    "start_time": "2021-08-23T14:35:17.967Z"
   },
   {
    "duration": 6097,
    "start_time": "2021-08-23T14:35:17.972Z"
   },
   {
    "duration": 6096,
    "start_time": "2021-08-23T14:35:17.975Z"
   },
   {
    "duration": 6096,
    "start_time": "2021-08-23T14:35:17.978Z"
   },
   {
    "duration": 6094,
    "start_time": "2021-08-23T14:35:17.981Z"
   },
   {
    "duration": 6092,
    "start_time": "2021-08-23T14:35:17.985Z"
   },
   {
    "duration": 6090,
    "start_time": "2021-08-23T14:35:17.988Z"
   },
   {
    "duration": 6109,
    "start_time": "2021-08-23T14:35:17.991Z"
   },
   {
    "duration": 6107,
    "start_time": "2021-08-23T14:35:17.994Z"
   },
   {
    "duration": 6106,
    "start_time": "2021-08-23T14:35:17.997Z"
   },
   {
    "duration": 6102,
    "start_time": "2021-08-23T14:35:18.002Z"
   },
   {
    "duration": 6101,
    "start_time": "2021-08-23T14:35:18.005Z"
   },
   {
    "duration": 6099,
    "start_time": "2021-08-23T14:35:18.008Z"
   },
   {
    "duration": 6097,
    "start_time": "2021-08-23T14:35:18.011Z"
   },
   {
    "duration": 6096,
    "start_time": "2021-08-23T14:35:18.014Z"
   },
   {
    "duration": 6083,
    "start_time": "2021-08-23T14:35:18.028Z"
   },
   {
    "duration": 6079,
    "start_time": "2021-08-23T14:35:18.033Z"
   },
   {
    "duration": 6076,
    "start_time": "2021-08-23T14:35:18.038Z"
   },
   {
    "duration": 6075,
    "start_time": "2021-08-23T14:35:18.041Z"
   },
   {
    "duration": 6073,
    "start_time": "2021-08-23T14:35:18.044Z"
   },
   {
    "duration": 6071,
    "start_time": "2021-08-23T14:35:18.047Z"
   },
   {
    "duration": 6070,
    "start_time": "2021-08-23T14:35:18.050Z"
   },
   {
    "duration": 6067,
    "start_time": "2021-08-23T14:35:18.054Z"
   },
   {
    "duration": 6066,
    "start_time": "2021-08-23T14:35:18.057Z"
   },
   {
    "duration": 6064,
    "start_time": "2021-08-23T14:35:18.060Z"
   },
   {
    "duration": 6058,
    "start_time": "2021-08-23T14:35:18.067Z"
   },
   {
    "duration": 6057,
    "start_time": "2021-08-23T14:35:18.070Z"
   },
   {
    "duration": 6055,
    "start_time": "2021-08-23T14:35:18.073Z"
   },
   {
    "duration": 6054,
    "start_time": "2021-08-23T14:35:18.076Z"
   },
   {
    "duration": 1703,
    "start_time": "2021-08-23T14:35:42.968Z"
   },
   {
    "duration": 66,
    "start_time": "2021-08-23T14:35:44.673Z"
   },
   {
    "duration": 16,
    "start_time": "2021-08-23T14:35:44.742Z"
   },
   {
    "duration": 7,
    "start_time": "2021-08-23T14:35:44.761Z"
   },
   {
    "duration": 9,
    "start_time": "2021-08-23T14:35:44.771Z"
   },
   {
    "duration": 15,
    "start_time": "2021-08-23T14:35:44.782Z"
   },
   {
    "duration": 6,
    "start_time": "2021-08-23T14:35:44.800Z"
   },
   {
    "duration": 16,
    "start_time": "2021-08-23T14:35:44.810Z"
   },
   {
    "duration": 126,
    "start_time": "2021-08-23T14:35:44.829Z"
   },
   {
    "duration": 11,
    "start_time": "2021-08-23T14:35:44.957Z"
   },
   {
    "duration": 12,
    "start_time": "2021-08-23T14:35:44.971Z"
   },
   {
    "duration": 10,
    "start_time": "2021-08-23T14:35:44.985Z"
   },
   {
    "duration": 7,
    "start_time": "2021-08-23T14:35:44.998Z"
   },
   {
    "duration": 21,
    "start_time": "2021-08-23T14:35:45.007Z"
   },
   {
    "duration": 10,
    "start_time": "2021-08-23T14:35:45.030Z"
   },
   {
    "duration": 9,
    "start_time": "2021-08-23T14:35:45.042Z"
   },
   {
    "duration": 8,
    "start_time": "2021-08-23T14:35:45.054Z"
   },
   {
    "duration": 47,
    "start_time": "2021-08-23T14:35:45.064Z"
   },
   {
    "duration": 5,
    "start_time": "2021-08-23T14:35:45.114Z"
   },
   {
    "duration": 14,
    "start_time": "2021-08-23T14:35:45.121Z"
   },
   {
    "duration": 12,
    "start_time": "2021-08-23T14:35:45.137Z"
   },
   {
    "duration": 265,
    "start_time": "2021-08-23T14:35:45.151Z"
   },
   {
    "duration": 11,
    "start_time": "2021-08-23T14:35:45.422Z"
   },
   {
    "duration": 215,
    "start_time": "2021-08-23T14:35:45.437Z"
   },
   {
    "duration": 9,
    "start_time": "2021-08-23T14:35:45.655Z"
   },
   {
    "duration": 10,
    "start_time": "2021-08-23T14:35:45.667Z"
   },
   {
    "duration": 21,
    "start_time": "2021-08-23T14:35:45.679Z"
   },
   {
    "duration": 12,
    "start_time": "2021-08-23T14:35:45.702Z"
   },
   {
    "duration": 11,
    "start_time": "2021-08-23T14:35:45.716Z"
   },
   {
    "duration": 376,
    "start_time": "2021-08-23T14:35:45.730Z"
   },
   {
    "duration": 348,
    "start_time": "2021-08-23T14:35:46.108Z"
   },
   {
    "duration": 8,
    "start_time": "2021-08-23T14:35:46.459Z"
   },
   {
    "duration": 32,
    "start_time": "2021-08-23T14:35:46.470Z"
   },
   {
    "duration": 426,
    "start_time": "2021-08-23T14:35:46.505Z"
   },
   {
    "duration": 5,
    "start_time": "2021-08-23T14:35:46.934Z"
   },
   {
    "duration": 24,
    "start_time": "2021-08-23T14:35:46.942Z"
   },
   {
    "duration": 7,
    "start_time": "2021-08-23T14:35:46.968Z"
   },
   {
    "duration": 833,
    "start_time": "2021-08-23T14:35:46.977Z"
   },
   {
    "duration": 6110,
    "start_time": "2021-08-23T14:35:41.703Z"
   },
   {
    "duration": 6104,
    "start_time": "2021-08-23T14:35:41.711Z"
   },
   {
    "duration": 6102,
    "start_time": "2021-08-23T14:35:41.714Z"
   },
   {
    "duration": 6100,
    "start_time": "2021-08-23T14:35:41.717Z"
   },
   {
    "duration": 6098,
    "start_time": "2021-08-23T14:35:41.721Z"
   },
   {
    "duration": 6095,
    "start_time": "2021-08-23T14:35:41.725Z"
   },
   {
    "duration": 6093,
    "start_time": "2021-08-23T14:35:41.728Z"
   },
   {
    "duration": 6091,
    "start_time": "2021-08-23T14:35:41.732Z"
   },
   {
    "duration": 6089,
    "start_time": "2021-08-23T14:35:41.735Z"
   },
   {
    "duration": 6087,
    "start_time": "2021-08-23T14:35:41.739Z"
   },
   {
    "duration": 6085,
    "start_time": "2021-08-23T14:35:41.742Z"
   },
   {
    "duration": 6083,
    "start_time": "2021-08-23T14:35:41.745Z"
   },
   {
    "duration": 6080,
    "start_time": "2021-08-23T14:35:41.749Z"
   },
   {
    "duration": 6079,
    "start_time": "2021-08-23T14:35:41.752Z"
   },
   {
    "duration": 6077,
    "start_time": "2021-08-23T14:35:41.755Z"
   },
   {
    "duration": 6075,
    "start_time": "2021-08-23T14:35:41.758Z"
   },
   {
    "duration": 6066,
    "start_time": "2021-08-23T14:35:41.769Z"
   },
   {
    "duration": 6063,
    "start_time": "2021-08-23T14:35:41.774Z"
   },
   {
    "duration": 6060,
    "start_time": "2021-08-23T14:35:41.778Z"
   },
   {
    "duration": 6057,
    "start_time": "2021-08-23T14:35:41.782Z"
   },
   {
    "duration": 6056,
    "start_time": "2021-08-23T14:35:41.785Z"
   },
   {
    "duration": 6054,
    "start_time": "2021-08-23T14:35:41.788Z"
   },
   {
    "duration": 6053,
    "start_time": "2021-08-23T14:35:41.791Z"
   },
   {
    "duration": 6051,
    "start_time": "2021-08-23T14:35:41.794Z"
   },
   {
    "duration": 6049,
    "start_time": "2021-08-23T14:35:41.797Z"
   },
   {
    "duration": 6046,
    "start_time": "2021-08-23T14:35:41.802Z"
   },
   {
    "duration": 6095,
    "start_time": "2021-08-23T14:35:41.805Z"
   },
   {
    "duration": 6093,
    "start_time": "2021-08-23T14:35:41.809Z"
   },
   {
    "duration": 6091,
    "start_time": "2021-08-23T14:35:41.812Z"
   },
   {
    "duration": 6089,
    "start_time": "2021-08-23T14:35:41.816Z"
   },
   {
    "duration": 6089,
    "start_time": "2021-08-23T14:35:41.819Z"
   },
   {
    "duration": 6088,
    "start_time": "2021-08-23T14:35:41.822Z"
   },
   {
    "duration": 1455,
    "start_time": "2021-08-23T18:24:12.309Z"
   },
   {
    "duration": 138,
    "start_time": "2021-08-23T18:24:13.767Z"
   },
   {
    "duration": 17,
    "start_time": "2021-08-23T18:24:13.909Z"
   },
   {
    "duration": 8,
    "start_time": "2021-08-23T18:24:13.928Z"
   },
   {
    "duration": 14,
    "start_time": "2021-08-23T18:24:13.938Z"
   },
   {
    "duration": 50,
    "start_time": "2021-08-23T18:24:13.954Z"
   },
   {
    "duration": 11,
    "start_time": "2021-08-23T18:24:14.007Z"
   },
   {
    "duration": 17,
    "start_time": "2021-08-23T18:24:14.023Z"
   },
   {
    "duration": 242,
    "start_time": "2021-08-23T18:24:14.043Z"
   },
   {
    "duration": 11,
    "start_time": "2021-08-23T18:24:14.288Z"
   },
   {
    "duration": 12,
    "start_time": "2021-08-23T18:24:14.301Z"
   },
   {
    "duration": 9,
    "start_time": "2021-08-23T18:24:14.315Z"
   },
   {
    "duration": 7,
    "start_time": "2021-08-23T18:24:14.327Z"
   },
   {
    "duration": 65,
    "start_time": "2021-08-23T18:24:14.336Z"
   },
   {
    "duration": 8,
    "start_time": "2021-08-23T18:24:14.403Z"
   },
   {
    "duration": 9,
    "start_time": "2021-08-23T18:24:14.414Z"
   },
   {
    "duration": 81,
    "start_time": "2021-08-23T18:24:14.426Z"
   },
   {
    "duration": 23,
    "start_time": "2021-08-23T18:24:14.510Z"
   },
   {
    "duration": 71,
    "start_time": "2021-08-23T18:24:14.535Z"
   },
   {
    "duration": 14,
    "start_time": "2021-08-23T18:24:14.608Z"
   },
   {
    "duration": 16,
    "start_time": "2021-08-23T18:24:14.625Z"
   },
   {
    "duration": 728,
    "start_time": "2021-08-23T18:24:14.705Z"
   },
   {
    "duration": 64,
    "start_time": "2021-08-23T18:24:15.439Z"
   },
   {
    "duration": 311,
    "start_time": "2021-08-23T18:24:15.507Z"
   },
   {
    "duration": 10,
    "start_time": "2021-08-23T18:24:15.820Z"
   },
   {
    "duration": 10,
    "start_time": "2021-08-23T18:24:15.833Z"
   },
   {
    "duration": 4,
    "start_time": "2021-08-23T18:24:15.846Z"
   },
   {
    "duration": 53,
    "start_time": "2021-08-23T18:24:15.853Z"
   },
   {
    "duration": 11,
    "start_time": "2021-08-23T18:24:15.908Z"
   },
   {
    "duration": 734,
    "start_time": "2021-08-23T18:24:15.922Z"
   },
   {
    "duration": 533,
    "start_time": "2021-08-23T18:24:16.659Z"
   },
   {
    "duration": 13,
    "start_time": "2021-08-23T18:24:17.195Z"
   },
   {
    "duration": 15,
    "start_time": "2021-08-23T18:24:17.210Z"
   },
   {
    "duration": 621,
    "start_time": "2021-08-23T18:24:17.228Z"
   },
   {
    "duration": 5,
    "start_time": "2021-08-23T18:24:17.852Z"
   },
   {
    "duration": 20,
    "start_time": "2021-08-23T18:24:17.860Z"
   },
   {
    "duration": 22,
    "start_time": "2021-08-23T18:24:17.883Z"
   },
   {
    "duration": 497,
    "start_time": "2021-08-23T18:24:17.908Z"
   },
   {
    "duration": 12,
    "start_time": "2021-08-23T18:24:18.407Z"
   },
   {
    "duration": 17,
    "start_time": "2021-08-23T18:24:18.421Z"
   },
   {
    "duration": 504,
    "start_time": "2021-08-23T18:24:18.440Z"
   },
   {
    "duration": 211,
    "start_time": "2021-08-23T18:24:18.946Z"
   },
   {
    "duration": 13,
    "start_time": "2021-08-23T18:24:19.159Z"
   },
   {
    "duration": 292,
    "start_time": "2021-08-23T18:24:19.174Z"
   },
   {
    "duration": 404,
    "start_time": "2021-08-23T18:24:19.469Z"
   },
   {
    "duration": 7,
    "start_time": "2021-08-23T18:24:19.875Z"
   },
   {
    "duration": 319,
    "start_time": "2021-08-23T18:24:19.884Z"
   },
   {
    "duration": 589,
    "start_time": "2021-08-23T18:24:20.205Z"
   },
   {
    "duration": 7,
    "start_time": "2021-08-23T18:24:20.801Z"
   },
   {
    "duration": 13,
    "start_time": "2021-08-23T18:24:20.810Z"
   },
   {
    "duration": 180,
    "start_time": "2021-08-23T18:24:20.826Z"
   },
   {
    "duration": 102,
    "start_time": "2021-08-23T18:24:21.008Z"
   },
   {
    "duration": 26,
    "start_time": "2021-08-23T18:24:21.113Z"
   },
   {
    "duration": 119,
    "start_time": "2021-08-23T18:24:21.142Z"
   },
   {
    "duration": 143,
    "start_time": "2021-08-23T18:24:21.264Z"
   },
   {
    "duration": 52,
    "start_time": "2021-08-23T18:24:21.410Z"
   },
   {
    "duration": 207,
    "start_time": "2021-08-23T18:24:21.464Z"
   },
   {
    "duration": 8,
    "start_time": "2021-08-23T18:24:21.674Z"
   },
   {
    "duration": 234,
    "start_time": "2021-08-23T18:24:21.684Z"
   },
   {
    "duration": 14,
    "start_time": "2021-08-23T18:24:21.920Z"
   },
   {
    "duration": 18,
    "start_time": "2021-08-23T18:24:21.937Z"
   },
   {
    "duration": 7,
    "start_time": "2021-08-23T18:24:21.957Z"
   },
   {
    "duration": 34,
    "start_time": "2021-08-23T18:24:21.966Z"
   },
   {
    "duration": 14,
    "start_time": "2021-08-23T18:24:22.003Z"
   },
   {
    "duration": 15,
    "start_time": "2021-08-23T18:24:22.019Z"
   },
   {
    "duration": 11,
    "start_time": "2021-08-23T18:24:22.037Z"
   },
   {
    "duration": 12,
    "start_time": "2021-08-23T18:24:22.051Z"
   },
   {
    "duration": 44,
    "start_time": "2021-08-23T18:24:22.070Z"
   },
   {
    "duration": 306,
    "start_time": "2021-08-23T18:24:22.117Z"
   },
   {
    "duration": 420,
    "start_time": "2021-08-23T18:24:22.426Z"
   },
   {
    "duration": 6,
    "start_time": "2021-08-23T19:12:44.825Z"
   },
   {
    "duration": 1060,
    "start_time": "2021-08-23T19:12:45.386Z"
   },
   {
    "duration": 466,
    "start_time": "2021-08-23T19:41:25.970Z"
   },
   {
    "duration": 908,
    "start_time": "2021-08-24T08:02:43.286Z"
   },
   {
    "duration": -475,
    "start_time": "2021-08-24T08:02:44.672Z"
   },
   {
    "duration": -492,
    "start_time": "2021-08-24T08:02:44.691Z"
   },
   {
    "duration": -512,
    "start_time": "2021-08-24T08:02:44.713Z"
   },
   {
    "duration": -527,
    "start_time": "2021-08-24T08:02:44.730Z"
   },
   {
    "duration": -1131,
    "start_time": "2021-08-24T08:02:45.335Z"
   },
   {
    "duration": -1168,
    "start_time": "2021-08-24T08:02:45.373Z"
   },
   {
    "duration": -1310,
    "start_time": "2021-08-24T08:02:45.517Z"
   },
   {
    "duration": -1345,
    "start_time": "2021-08-24T08:02:45.553Z"
   },
   {
    "duration": -1632,
    "start_time": "2021-08-24T08:02:45.841Z"
   },
   {
    "duration": -1645,
    "start_time": "2021-08-24T08:02:45.856Z"
   },
   {
    "duration": -1772,
    "start_time": "2021-08-24T08:02:45.985Z"
   },
   {
    "duration": -1795,
    "start_time": "2021-08-24T08:02:46.010Z"
   },
   {
    "duration": -1818,
    "start_time": "2021-08-24T08:02:46.035Z"
   },
   {
    "duration": 586,
    "start_time": "2021-08-24T08:02:44.222Z"
   },
   {
    "duration": -2874,
    "start_time": "2021-08-24T08:02:47.685Z"
   },
   {
    "duration": -2959,
    "start_time": "2021-08-24T08:02:47.771Z"
   },
   {
    "duration": -2974,
    "start_time": "2021-08-24T08:02:47.788Z"
   },
   {
    "duration": -2989,
    "start_time": "2021-08-24T08:02:47.804Z"
   },
   {
    "duration": -3004,
    "start_time": "2021-08-24T08:02:47.821Z"
   },
   {
    "duration": -3020,
    "start_time": "2021-08-24T08:02:47.838Z"
   },
   {
    "duration": -3070,
    "start_time": "2021-08-24T08:02:47.890Z"
   },
   {
    "duration": -3087,
    "start_time": "2021-08-24T08:02:47.908Z"
   },
   {
    "duration": -3758,
    "start_time": "2021-08-24T08:02:48.580Z"
   },
   {
    "duration": -3777,
    "start_time": "2021-08-24T08:02:48.600Z"
   },
   {
    "duration": 434,
    "start_time": "2021-08-24T08:02:44.873Z"
   },
   {
    "duration": -3336,
    "start_time": "2021-08-24T08:02:48.648Z"
   },
   {
    "duration": -3350,
    "start_time": "2021-08-24T08:02:48.663Z"
   },
   {
    "duration": -3439,
    "start_time": "2021-08-24T08:02:48.754Z"
   },
   {
    "duration": -3456,
    "start_time": "2021-08-24T08:02:48.772Z"
   },
   {
    "duration": -3469,
    "start_time": "2021-08-24T08:02:48.787Z"
   },
   {
    "duration": -3486,
    "start_time": "2021-08-24T08:02:48.806Z"
   },
   {
    "duration": -3822,
    "start_time": "2021-08-24T08:02:49.143Z"
   },
   {
    "duration": -3862,
    "start_time": "2021-08-24T08:02:49.185Z"
   },
   {
    "duration": -3882,
    "start_time": "2021-08-24T08:02:49.206Z"
   },
   {
    "duration": -3897,
    "start_time": "2021-08-24T08:02:49.223Z"
   },
   {
    "duration": -3912,
    "start_time": "2021-08-24T08:02:49.239Z"
   },
   {
    "duration": -3927,
    "start_time": "2021-08-24T08:02:49.256Z"
   },
   {
    "duration": -3941,
    "start_time": "2021-08-24T08:02:49.271Z"
   },
   {
    "duration": -3985,
    "start_time": "2021-08-24T08:02:49.317Z"
   },
   {
    "duration": -4000,
    "start_time": "2021-08-24T08:02:49.333Z"
   },
   {
    "duration": -4015,
    "start_time": "2021-08-24T08:02:49.350Z"
   },
   {
    "duration": -4031,
    "start_time": "2021-08-24T08:02:49.367Z"
   },
   {
    "duration": -4048,
    "start_time": "2021-08-24T08:02:49.385Z"
   },
   {
    "duration": -4061,
    "start_time": "2021-08-24T08:02:49.400Z"
   },
   {
    "duration": -4101,
    "start_time": "2021-08-24T08:02:49.441Z"
   },
   {
    "duration": -4114,
    "start_time": "2021-08-24T08:02:49.456Z"
   },
   {
    "duration": -4129,
    "start_time": "2021-08-24T08:02:49.472Z"
   },
   {
    "duration": -4144,
    "start_time": "2021-08-24T08:02:49.488Z"
   },
   {
    "duration": -4161,
    "start_time": "2021-08-24T08:02:49.506Z"
   },
   {
    "duration": -4175,
    "start_time": "2021-08-24T08:02:49.522Z"
   },
   {
    "duration": -4217,
    "start_time": "2021-08-24T08:02:49.565Z"
   },
   {
    "duration": -4221,
    "start_time": "2021-08-24T08:02:49.581Z"
   },
   {
    "duration": -4236,
    "start_time": "2021-08-24T08:02:49.597Z"
   },
   {
    "duration": -4248,
    "start_time": "2021-08-24T08:02:49.611Z"
   },
   {
    "duration": -4343,
    "start_time": "2021-08-24T08:02:49.707Z"
   },
   {
    "duration": -4489,
    "start_time": "2021-08-24T08:02:49.858Z"
   },
   {
    "duration": 472,
    "start_time": "2021-08-24T08:02:45.433Z"
   },
   {
    "duration": -4123,
    "start_time": "2021-08-24T08:02:50.031Z"
   },
   {
    "duration": -4186,
    "start_time": "2021-08-24T08:02:50.096Z"
   },
   {
    "duration": -4200,
    "start_time": "2021-08-24T08:02:50.113Z"
   },
   {
    "duration": -4211,
    "start_time": "2021-08-24T08:02:50.126Z"
   },
   {
    "duration": -4225,
    "start_time": "2021-08-24T08:02:50.141Z"
   },
   {
    "duration": -4250,
    "start_time": "2021-08-24T08:02:50.168Z"
   },
   {
    "duration": -4264,
    "start_time": "2021-08-24T08:02:50.183Z"
   },
   {
    "duration": -4301,
    "start_time": "2021-08-24T08:02:50.222Z"
   },
   {
    "duration": -4316,
    "start_time": "2021-08-24T08:02:50.238Z"
   },
   {
    "duration": -4330,
    "start_time": "2021-08-24T08:02:50.254Z"
   },
   {
    "duration": -4344,
    "start_time": "2021-08-24T08:02:50.269Z"
   },
   {
    "duration": -4357,
    "start_time": "2021-08-24T08:02:50.284Z"
   },
   {
    "duration": 589,
    "start_time": "2021-08-24T08:02:46.230Z"
   },
   {
    "duration": 1457,
    "start_time": "2021-08-24T08:09:06.124Z"
   },
   {
    "duration": 4,
    "start_time": "2021-08-24T08:09:11.709Z"
   },
   {
    "duration": 186,
    "start_time": "2021-08-24T08:09:11.716Z"
   },
   {
    "duration": 15,
    "start_time": "2021-08-24T08:09:11.905Z"
   },
   {
    "duration": 8,
    "start_time": "2021-08-24T08:09:11.923Z"
   },
   {
    "duration": 13,
    "start_time": "2021-08-24T08:09:11.934Z"
   },
   {
    "duration": 15,
    "start_time": "2021-08-24T08:09:11.949Z"
   },
   {
    "duration": 16,
    "start_time": "2021-08-24T08:09:11.966Z"
   },
   {
    "duration": 19,
    "start_time": "2021-08-24T08:09:11.985Z"
   },
   {
    "duration": 324,
    "start_time": "2021-08-24T08:09:12.008Z"
   },
   {
    "duration": 11,
    "start_time": "2021-08-24T08:09:12.334Z"
   },
   {
    "duration": 22,
    "start_time": "2021-08-24T08:09:12.348Z"
   },
   {
    "duration": 9,
    "start_time": "2021-08-24T08:09:12.372Z"
   },
   {
    "duration": 10,
    "start_time": "2021-08-24T08:09:12.383Z"
   },
   {
    "duration": 9,
    "start_time": "2021-08-24T08:09:12.396Z"
   },
   {
    "duration": 10,
    "start_time": "2021-08-24T08:09:12.408Z"
   },
   {
    "duration": 39,
    "start_time": "2021-08-24T08:09:12.421Z"
   },
   {
    "duration": 7,
    "start_time": "2021-08-24T08:09:12.464Z"
   },
   {
    "duration": 26,
    "start_time": "2021-08-24T08:09:12.473Z"
   },
   {
    "duration": 13,
    "start_time": "2021-08-24T08:09:12.501Z"
   },
   {
    "duration": 15,
    "start_time": "2021-08-24T08:09:12.517Z"
   },
   {
    "duration": 29,
    "start_time": "2021-08-24T08:09:12.534Z"
   },
   {
    "duration": 364,
    "start_time": "2021-08-24T08:09:12.571Z"
   },
   {
    "duration": 21,
    "start_time": "2021-08-24T08:09:12.938Z"
   },
   {
    "duration": 307,
    "start_time": "2021-08-24T08:09:12.961Z"
   },
   {
    "duration": 11,
    "start_time": "2021-08-24T08:09:13.271Z"
   },
   {
    "duration": 18,
    "start_time": "2021-08-24T08:09:13.285Z"
   },
   {
    "duration": 9,
    "start_time": "2021-08-24T08:09:13.305Z"
   },
   {
    "duration": 46,
    "start_time": "2021-08-24T08:09:13.317Z"
   },
   {
    "duration": 11,
    "start_time": "2021-08-24T08:09:13.366Z"
   },
   {
    "duration": 4,
    "start_time": "2021-08-24T08:09:13.379Z"
   },
   {
    "duration": 15,
    "start_time": "2021-08-24T08:09:13.386Z"
   },
   {
    "duration": 558,
    "start_time": "2021-08-24T08:09:13.403Z"
   },
   {
    "duration": 552,
    "start_time": "2021-08-24T08:09:13.964Z"
   },
   {
    "duration": 8,
    "start_time": "2021-08-24T08:09:14.519Z"
   },
   {
    "duration": 34,
    "start_time": "2021-08-24T08:09:14.530Z"
   },
   {
    "duration": 599,
    "start_time": "2021-08-24T08:09:14.570Z"
   },
   {
    "duration": 5,
    "start_time": "2021-08-24T08:09:15.172Z"
   },
   {
    "duration": 17,
    "start_time": "2021-08-24T08:09:15.180Z"
   },
   {
    "duration": 12,
    "start_time": "2021-08-24T08:09:15.200Z"
   },
   {
    "duration": 575,
    "start_time": "2021-08-24T08:09:15.215Z"
   },
   {
    "duration": 13,
    "start_time": "2021-08-24T08:09:15.793Z"
   },
   {
    "duration": 11,
    "start_time": "2021-08-24T08:09:15.814Z"
   },
   {
    "duration": 526,
    "start_time": "2021-08-24T08:09:15.829Z"
   },
   {
    "duration": 236,
    "start_time": "2021-08-24T08:09:16.358Z"
   },
   {
    "duration": 16,
    "start_time": "2021-08-24T08:09:16.596Z"
   },
   {
    "duration": 320,
    "start_time": "2021-08-24T08:09:16.614Z"
   },
   {
    "duration": 392,
    "start_time": "2021-08-24T08:09:16.937Z"
   },
   {
    "duration": 7,
    "start_time": "2021-08-24T08:09:17.331Z"
   },
   {
    "duration": 349,
    "start_time": "2021-08-24T08:09:17.341Z"
   },
   {
    "duration": 619,
    "start_time": "2021-08-24T08:09:17.693Z"
   },
   {
    "duration": 6,
    "start_time": "2021-08-24T08:09:18.316Z"
   },
   {
    "duration": 8,
    "start_time": "2021-08-24T08:09:18.325Z"
   },
   {
    "duration": 181,
    "start_time": "2021-08-24T08:09:18.336Z"
   },
   {
    "duration": 108,
    "start_time": "2021-08-24T08:09:18.520Z"
   },
   {
    "duration": 37,
    "start_time": "2021-08-24T08:09:18.630Z"
   },
   {
    "duration": 110,
    "start_time": "2021-08-24T08:09:18.670Z"
   },
   {
    "duration": 132,
    "start_time": "2021-08-24T08:09:18.783Z"
   },
   {
    "duration": 69,
    "start_time": "2021-08-24T08:09:18.918Z"
   },
   {
    "duration": 220,
    "start_time": "2021-08-24T08:09:18.989Z"
   },
   {
    "duration": 8,
    "start_time": "2021-08-24T08:09:19.212Z"
   },
   {
    "duration": 215,
    "start_time": "2021-08-24T08:09:19.223Z"
   },
   {
    "duration": 22,
    "start_time": "2021-08-24T08:09:19.441Z"
   },
   {
    "duration": 15,
    "start_time": "2021-08-24T08:09:19.473Z"
   },
   {
    "duration": 7,
    "start_time": "2021-08-24T08:09:19.491Z"
   },
   {
    "duration": 9,
    "start_time": "2021-08-24T08:09:19.501Z"
   },
   {
    "duration": 27,
    "start_time": "2021-08-24T08:09:19.512Z"
   },
   {
    "duration": 26,
    "start_time": "2021-08-24T08:09:19.542Z"
   },
   {
    "duration": 9,
    "start_time": "2021-08-24T08:09:19.570Z"
   },
   {
    "duration": 12,
    "start_time": "2021-08-24T08:09:19.582Z"
   },
   {
    "duration": 19,
    "start_time": "2021-08-24T08:09:19.597Z"
   },
   {
    "duration": 351,
    "start_time": "2021-08-24T08:09:19.618Z"
   },
   {
    "duration": 421,
    "start_time": "2021-08-24T08:09:19.972Z"
   },
   {
    "duration": 4,
    "start_time": "2021-08-24T08:23:12.210Z"
   },
   {
    "duration": 60,
    "start_time": "2021-08-24T08:23:12.217Z"
   },
   {
    "duration": 11,
    "start_time": "2021-08-24T08:23:12.281Z"
   },
   {
    "duration": 15,
    "start_time": "2021-08-24T08:23:12.295Z"
   },
   {
    "duration": 16,
    "start_time": "2021-08-24T08:23:12.312Z"
   },
   {
    "duration": 39,
    "start_time": "2021-08-24T08:23:12.330Z"
   },
   {
    "duration": 7,
    "start_time": "2021-08-24T08:23:12.371Z"
   },
   {
    "duration": 21,
    "start_time": "2021-08-24T08:23:12.381Z"
   },
   {
    "duration": 191,
    "start_time": "2021-08-24T08:23:12.405Z"
   },
   {
    "duration": 10,
    "start_time": "2021-08-24T08:23:12.599Z"
   },
   {
    "duration": 23,
    "start_time": "2021-08-24T08:23:12.611Z"
   },
   {
    "duration": 17,
    "start_time": "2021-08-24T08:23:12.636Z"
   },
   {
    "duration": 26,
    "start_time": "2021-08-24T08:23:12.655Z"
   },
   {
    "duration": 17,
    "start_time": "2021-08-24T08:23:12.685Z"
   },
   {
    "duration": 18,
    "start_time": "2021-08-24T08:23:12.705Z"
   },
   {
    "duration": 17,
    "start_time": "2021-08-24T08:23:12.725Z"
   },
   {
    "duration": 23,
    "start_time": "2021-08-24T08:23:12.745Z"
   },
   {
    "duration": 27,
    "start_time": "2021-08-24T08:23:12.770Z"
   },
   {
    "duration": 7,
    "start_time": "2021-08-24T08:23:12.800Z"
   },
   {
    "duration": 27,
    "start_time": "2021-08-24T08:23:12.810Z"
   },
   {
    "duration": 22,
    "start_time": "2021-08-24T08:23:12.839Z"
   },
   {
    "duration": 405,
    "start_time": "2021-08-24T08:23:12.864Z"
   },
   {
    "duration": 12,
    "start_time": "2021-08-24T08:23:13.271Z"
   },
   {
    "duration": 299,
    "start_time": "2021-08-24T08:23:13.285Z"
   },
   {
    "duration": 11,
    "start_time": "2021-08-24T08:23:13.586Z"
   },
   {
    "duration": 21,
    "start_time": "2021-08-24T08:23:13.599Z"
   },
   {
    "duration": 21,
    "start_time": "2021-08-24T08:23:13.622Z"
   },
   {
    "duration": 21,
    "start_time": "2021-08-24T08:23:13.645Z"
   },
   {
    "duration": 20,
    "start_time": "2021-08-24T08:23:13.669Z"
   },
   {
    "duration": 7,
    "start_time": "2021-08-24T08:23:13.695Z"
   },
   {
    "duration": 6,
    "start_time": "2021-08-24T08:23:13.706Z"
   },
   {
    "duration": 560,
    "start_time": "2021-08-24T08:23:13.715Z"
   },
   {
    "duration": 549,
    "start_time": "2021-08-24T08:23:14.278Z"
   },
   {
    "duration": 9,
    "start_time": "2021-08-24T08:23:14.830Z"
   },
   {
    "duration": 27,
    "start_time": "2021-08-24T08:23:14.841Z"
   },
   {
    "duration": 631,
    "start_time": "2021-08-24T08:23:14.872Z"
   },
   {
    "duration": 5,
    "start_time": "2021-08-24T08:23:15.506Z"
   },
   {
    "duration": 23,
    "start_time": "2021-08-24T08:23:15.514Z"
   },
   {
    "duration": 8,
    "start_time": "2021-08-24T08:23:15.556Z"
   },
   {
    "duration": 520,
    "start_time": "2021-08-24T08:23:15.566Z"
   },
   {
    "duration": 11,
    "start_time": "2021-08-24T08:23:16.089Z"
   },
   {
    "duration": 18,
    "start_time": "2021-08-24T08:23:16.103Z"
   },
   {
    "duration": 548,
    "start_time": "2021-08-24T08:23:16.124Z"
   },
   {
    "duration": 225,
    "start_time": "2021-08-24T08:23:16.676Z"
   },
   {
    "duration": 13,
    "start_time": "2021-08-24T08:23:16.903Z"
   },
   {
    "duration": 298,
    "start_time": "2021-08-24T08:23:16.918Z"
   },
   {
    "duration": 528,
    "start_time": "2021-08-24T08:23:17.220Z"
   },
   {
    "duration": 9,
    "start_time": "2021-08-24T08:23:17.750Z"
   },
   {
    "duration": 328,
    "start_time": "2021-08-24T08:23:17.762Z"
   },
   {
    "duration": 599,
    "start_time": "2021-08-24T08:23:18.092Z"
   },
   {
    "duration": 7,
    "start_time": "2021-08-24T08:23:18.694Z"
   },
   {
    "duration": 15,
    "start_time": "2021-08-24T08:23:18.703Z"
   },
   {
    "duration": 190,
    "start_time": "2021-08-24T08:23:18.720Z"
   },
   {
    "duration": 110,
    "start_time": "2021-08-24T08:23:18.913Z"
   },
   {
    "duration": 30,
    "start_time": "2021-08-24T08:23:19.026Z"
   },
   {
    "duration": 116,
    "start_time": "2021-08-24T08:23:19.059Z"
   },
   {
    "duration": 132,
    "start_time": "2021-08-24T08:23:19.178Z"
   },
   {
    "duration": 74,
    "start_time": "2021-08-24T08:23:19.313Z"
   },
   {
    "duration": 262,
    "start_time": "2021-08-24T08:23:19.389Z"
   },
   {
    "duration": 14,
    "start_time": "2021-08-24T08:23:19.654Z"
   },
   {
    "duration": 238,
    "start_time": "2021-08-24T08:23:19.670Z"
   },
   {
    "duration": 14,
    "start_time": "2021-08-24T08:23:19.910Z"
   },
   {
    "duration": 37,
    "start_time": "2021-08-24T08:23:19.927Z"
   },
   {
    "duration": 8,
    "start_time": "2021-08-24T08:23:19.967Z"
   },
   {
    "duration": 22,
    "start_time": "2021-08-24T08:23:19.977Z"
   },
   {
    "duration": 37,
    "start_time": "2021-08-24T08:23:20.001Z"
   },
   {
    "duration": 22,
    "start_time": "2021-08-24T08:23:20.041Z"
   },
   {
    "duration": 18,
    "start_time": "2021-08-24T08:23:20.065Z"
   },
   {
    "duration": 29,
    "start_time": "2021-08-24T08:23:20.085Z"
   },
   {
    "duration": 45,
    "start_time": "2021-08-24T08:23:20.116Z"
   },
   {
    "duration": 321,
    "start_time": "2021-08-24T08:23:20.170Z"
   },
   {
    "duration": 434,
    "start_time": "2021-08-24T08:23:20.493Z"
   },
   {
    "duration": 4,
    "start_time": "2021-08-24T08:52:20.943Z"
   },
   {
    "duration": 289,
    "start_time": "2021-08-24T08:52:20.953Z"
   },
   {
    "duration": 13,
    "start_time": "2021-08-24T08:52:21.245Z"
   },
   {
    "duration": 9,
    "start_time": "2021-08-24T08:52:21.261Z"
   },
   {
    "duration": 6,
    "start_time": "2021-08-24T08:52:21.273Z"
   },
   {
    "duration": 17,
    "start_time": "2021-08-24T08:52:21.282Z"
   },
   {
    "duration": 16,
    "start_time": "2021-08-24T08:52:21.301Z"
   },
   {
    "duration": 57,
    "start_time": "2021-08-24T08:52:21.319Z"
   },
   {
    "duration": 178,
    "start_time": "2021-08-24T08:52:21.380Z"
   },
   {
    "duration": 14,
    "start_time": "2021-08-24T08:52:21.561Z"
   },
   {
    "duration": 14,
    "start_time": "2021-08-24T08:52:21.578Z"
   },
   {
    "duration": 11,
    "start_time": "2021-08-24T08:52:21.595Z"
   },
   {
    "duration": 11,
    "start_time": "2021-08-24T08:52:21.608Z"
   },
   {
    "duration": 49,
    "start_time": "2021-08-24T08:52:21.621Z"
   },
   {
    "duration": 12,
    "start_time": "2021-08-24T08:52:21.673Z"
   },
   {
    "duration": 12,
    "start_time": "2021-08-24T08:52:21.688Z"
   },
   {
    "duration": 8,
    "start_time": "2021-08-24T08:52:21.702Z"
   },
   {
    "duration": 47,
    "start_time": "2021-08-24T08:52:21.712Z"
   },
   {
    "duration": 8,
    "start_time": "2021-08-24T08:52:21.761Z"
   },
   {
    "duration": 14,
    "start_time": "2021-08-24T08:52:21.772Z"
   },
   {
    "duration": 22,
    "start_time": "2021-08-24T08:52:21.789Z"
   },
   {
    "duration": 405,
    "start_time": "2021-08-24T08:52:21.813Z"
   },
   {
    "duration": 12,
    "start_time": "2021-08-24T08:52:22.221Z"
   },
   {
    "duration": 291,
    "start_time": "2021-08-24T08:52:22.240Z"
   },
   {
    "duration": 10,
    "start_time": "2021-08-24T08:52:22.535Z"
   },
   {
    "duration": 15,
    "start_time": "2021-08-24T08:52:22.556Z"
   },
   {
    "duration": 5,
    "start_time": "2021-08-24T08:52:22.574Z"
   },
   {
    "duration": 17,
    "start_time": "2021-08-24T08:52:22.582Z"
   },
   {
    "duration": 12,
    "start_time": "2021-08-24T08:52:22.601Z"
   },
   {
    "duration": 12,
    "start_time": "2021-08-24T08:52:22.615Z"
   },
   {
    "duration": 4,
    "start_time": "2021-08-24T08:52:22.661Z"
   },
   {
    "duration": 549,
    "start_time": "2021-08-24T08:52:22.668Z"
   },
   {
    "duration": 646,
    "start_time": "2021-08-24T08:52:23.220Z"
   },
   {
    "duration": 10,
    "start_time": "2021-08-24T08:52:23.871Z"
   },
   {
    "duration": 26,
    "start_time": "2021-08-24T08:52:23.884Z"
   },
   {
    "duration": 680,
    "start_time": "2021-08-24T08:52:23.913Z"
   },
   {
    "duration": 6,
    "start_time": "2021-08-24T08:52:24.596Z"
   },
   {
    "duration": 22,
    "start_time": "2021-08-24T08:52:24.604Z"
   },
   {
    "duration": 32,
    "start_time": "2021-08-24T08:52:24.628Z"
   },
   {
    "duration": 566,
    "start_time": "2021-08-24T08:52:24.663Z"
   },
   {
    "duration": 25,
    "start_time": "2021-08-24T08:52:25.232Z"
   },
   {
    "duration": 15,
    "start_time": "2021-08-24T08:52:25.265Z"
   },
   {
    "duration": 536,
    "start_time": "2021-08-24T08:52:25.282Z"
   },
   {
    "duration": 204,
    "start_time": "2021-08-24T08:52:25.822Z"
   },
   {
    "duration": 12,
    "start_time": "2021-08-24T08:52:26.029Z"
   },
   {
    "duration": 297,
    "start_time": "2021-08-24T08:52:26.043Z"
   },
   {
    "duration": 405,
    "start_time": "2021-08-24T08:52:26.344Z"
   },
   {
    "duration": 7,
    "start_time": "2021-08-24T08:52:26.756Z"
   },
   {
    "duration": 327,
    "start_time": "2021-08-24T08:52:26.766Z"
   },
   {
    "duration": 607,
    "start_time": "2021-08-24T08:52:27.095Z"
   },
   {
    "duration": 7,
    "start_time": "2021-08-24T08:52:27.704Z"
   },
   {
    "duration": 8,
    "start_time": "2021-08-24T08:52:27.714Z"
   },
   {
    "duration": 133,
    "start_time": "2021-08-24T08:52:27.725Z"
   },
   {
    "duration": 109,
    "start_time": "2021-08-24T08:52:27.861Z"
   },
   {
    "duration": 24,
    "start_time": "2021-08-24T08:52:27.974Z"
   },
   {
    "duration": 128,
    "start_time": "2021-08-24T08:52:28.000Z"
   },
   {
    "duration": 140,
    "start_time": "2021-08-24T08:52:28.131Z"
   },
   {
    "duration": 54,
    "start_time": "2021-08-24T08:52:28.273Z"
   },
   {
    "duration": 244,
    "start_time": "2021-08-24T08:52:28.330Z"
   },
   {
    "duration": 8,
    "start_time": "2021-08-24T08:52:28.577Z"
   },
   {
    "duration": 230,
    "start_time": "2021-08-24T08:52:28.587Z"
   },
   {
    "duration": 14,
    "start_time": "2021-08-24T08:52:28.820Z"
   },
   {
    "duration": 31,
    "start_time": "2021-08-24T08:52:28.837Z"
   },
   {
    "duration": 7,
    "start_time": "2021-08-24T08:52:28.871Z"
   },
   {
    "duration": 11,
    "start_time": "2021-08-24T08:52:28.881Z"
   },
   {
    "duration": 14,
    "start_time": "2021-08-24T08:52:28.895Z"
   },
   {
    "duration": 11,
    "start_time": "2021-08-24T08:52:28.912Z"
   },
   {
    "duration": 42,
    "start_time": "2021-08-24T08:52:28.925Z"
   },
   {
    "duration": 9,
    "start_time": "2021-08-24T08:52:28.976Z"
   },
   {
    "duration": 20,
    "start_time": "2021-08-24T08:52:28.988Z"
   },
   {
    "duration": 351,
    "start_time": "2021-08-24T08:52:29.010Z"
   },
   {
    "duration": 435,
    "start_time": "2021-08-24T08:52:29.365Z"
   },
   {
    "duration": 6,
    "start_time": "2021-08-24T08:54:21.416Z"
   },
   {
    "duration": 7,
    "start_time": "2021-08-24T08:54:34.266Z"
   },
   {
    "duration": 689,
    "start_time": "2021-08-24T08:55:08.039Z"
   },
   {
    "duration": 539,
    "start_time": "2021-08-24T08:55:25.585Z"
   },
   {
    "duration": 583,
    "start_time": "2021-08-24T08:55:57.947Z"
   },
   {
    "duration": 1122,
    "start_time": "2021-08-24T09:02:29.445Z"
   },
   {
    "duration": 6,
    "start_time": "2021-08-24T09:02:54.652Z"
   },
   {
    "duration": 517,
    "start_time": "2021-08-24T09:03:23.237Z"
   },
   {
    "duration": 779,
    "start_time": "2021-08-24T09:04:14.377Z"
   },
   {
    "duration": 17,
    "start_time": "2021-08-24T09:05:12.691Z"
   },
   {
    "duration": 881,
    "start_time": "2021-08-24T09:05:13.934Z"
   },
   {
    "duration": 715,
    "start_time": "2021-08-24T09:06:08.305Z"
   },
   {
    "duration": 4,
    "start_time": "2021-08-24T09:06:33.395Z"
   },
   {
    "duration": 7,
    "start_time": "2021-08-24T09:06:39.850Z"
   },
   {
    "duration": 4,
    "start_time": "2021-08-24T09:06:58.165Z"
   },
   {
    "duration": 6,
    "start_time": "2021-08-24T09:07:03.223Z"
   },
   {
    "duration": 513,
    "start_time": "2021-08-24T09:07:41.826Z"
   },
   {
    "duration": 514,
    "start_time": "2021-08-24T09:08:05.561Z"
   },
   {
    "duration": 735,
    "start_time": "2021-08-24T09:10:05.045Z"
   },
   {
    "duration": 14,
    "start_time": "2021-08-24T09:12:51.457Z"
   },
   {
    "duration": 12,
    "start_time": "2021-08-24T09:13:05.683Z"
   },
   {
    "duration": 5,
    "start_time": "2021-08-24T09:24:03.843Z"
   },
   {
    "duration": 363,
    "start_time": "2021-08-24T09:27:19.494Z"
   },
   {
    "duration": 7,
    "start_time": "2021-08-24T09:27:26.741Z"
   },
   {
    "duration": 8,
    "start_time": "2021-08-24T09:28:03.005Z"
   },
   {
    "duration": 12,
    "start_time": "2021-08-24T09:28:29.220Z"
   },
   {
    "duration": 12,
    "start_time": "2021-08-24T09:28:40.219Z"
   },
   {
    "duration": 14,
    "start_time": "2021-08-24T09:29:03.061Z"
   },
   {
    "duration": 3876,
    "start_time": "2021-08-24T09:29:33.768Z"
   },
   {
    "duration": 15,
    "start_time": "2021-08-24T09:30:32.028Z"
   },
   {
    "duration": 24,
    "start_time": "2021-08-24T09:31:24.352Z"
   },
   {
    "duration": 22,
    "start_time": "2021-08-24T09:31:37.705Z"
   },
   {
    "duration": 20,
    "start_time": "2021-08-24T09:31:53.064Z"
   },
   {
    "duration": 556,
    "start_time": "2021-08-24T09:32:17.003Z"
   },
   {
    "duration": 27,
    "start_time": "2021-08-24T09:32:22.216Z"
   },
   {
    "duration": 17,
    "start_time": "2021-08-24T09:34:10.994Z"
   },
   {
    "duration": 14,
    "start_time": "2021-08-24T09:35:48.794Z"
   },
   {
    "duration": 16,
    "start_time": "2021-08-24T09:36:46.471Z"
   },
   {
    "duration": 13,
    "start_time": "2021-08-24T09:37:41.948Z"
   },
   {
    "duration": 15,
    "start_time": "2021-08-24T09:38:05.326Z"
   },
   {
    "duration": 18,
    "start_time": "2021-08-24T09:38:12.511Z"
   },
   {
    "duration": 17,
    "start_time": "2021-08-24T09:38:19.325Z"
   },
   {
    "duration": 8,
    "start_time": "2021-08-24T09:38:26.416Z"
   },
   {
    "duration": 22,
    "start_time": "2021-08-24T09:38:32.648Z"
   },
   {
    "duration": 21,
    "start_time": "2021-08-24T09:38:45.851Z"
   },
   {
    "duration": 19,
    "start_time": "2021-08-24T09:38:48.125Z"
   },
   {
    "duration": 18,
    "start_time": "2021-08-24T09:38:57.498Z"
   },
   {
    "duration": 15,
    "start_time": "2021-08-24T09:39:18.406Z"
   },
   {
    "duration": 16,
    "start_time": "2021-08-24T09:39:28.780Z"
   },
   {
    "duration": 18,
    "start_time": "2021-08-24T09:39:37.637Z"
   },
   {
    "duration": 17,
    "start_time": "2021-08-24T09:39:43.220Z"
   },
   {
    "duration": 27,
    "start_time": "2021-08-24T09:39:44.630Z"
   },
   {
    "duration": 11,
    "start_time": "2021-08-24T09:39:59.110Z"
   },
   {
    "duration": 17,
    "start_time": "2021-08-24T09:40:05.094Z"
   },
   {
    "duration": 26,
    "start_time": "2021-08-24T09:40:24.885Z"
   },
   {
    "duration": 18,
    "start_time": "2021-08-24T09:40:27.956Z"
   },
   {
    "duration": 12,
    "start_time": "2021-08-24T09:40:48.015Z"
   },
   {
    "duration": 8,
    "start_time": "2021-08-24T09:41:55.359Z"
   },
   {
    "duration": 8,
    "start_time": "2021-08-24T09:43:48.158Z"
   },
   {
    "duration": 8,
    "start_time": "2021-08-24T09:44:55.621Z"
   },
   {
    "duration": 8,
    "start_time": "2021-08-24T09:50:06.197Z"
   },
   {
    "duration": 526,
    "start_time": "2021-08-24T09:53:46.644Z"
   },
   {
    "duration": 788,
    "start_time": "2021-08-24T09:55:46.436Z"
   },
   {
    "duration": 642,
    "start_time": "2021-08-24T09:56:07.276Z"
   },
   {
    "duration": 568,
    "start_time": "2021-08-24T10:02:23.328Z"
   },
   {
    "duration": 587,
    "start_time": "2021-08-24T10:02:56.446Z"
   },
   {
    "duration": 864,
    "start_time": "2021-08-24T10:03:48.097Z"
   },
   {
    "duration": 721,
    "start_time": "2021-08-24T10:05:40.630Z"
   },
   {
    "duration": 861,
    "start_time": "2021-08-24T10:05:46.608Z"
   },
   {
    "duration": 513,
    "start_time": "2021-08-24T10:05:52.513Z"
   },
   {
    "duration": 858,
    "start_time": "2021-08-24T10:08:08.162Z"
   },
   {
    "duration": 515,
    "start_time": "2021-08-24T10:10:14.175Z"
   },
   {
    "duration": 449,
    "start_time": "2021-08-24T10:11:38.007Z"
   },
   {
    "duration": 101,
    "start_time": "2021-08-24T10:11:59.138Z"
   },
   {
    "duration": 90,
    "start_time": "2021-08-24T10:12:05.529Z"
   },
   {
    "duration": 532,
    "start_time": "2021-08-24T10:12:17.206Z"
   },
   {
    "duration": 497,
    "start_time": "2021-08-24T10:13:15.748Z"
   },
   {
    "duration": 712,
    "start_time": "2021-08-24T10:14:00.204Z"
   },
   {
    "duration": 289,
    "start_time": "2021-08-24T10:14:29.561Z"
   },
   {
    "duration": 244,
    "start_time": "2021-08-24T10:14:38.895Z"
   },
   {
    "duration": 295,
    "start_time": "2021-08-24T10:16:58.612Z"
   },
   {
    "duration": 359,
    "start_time": "2021-08-24T10:17:54.365Z"
   },
   {
    "duration": 363,
    "start_time": "2021-08-24T10:18:10.472Z"
   },
   {
    "duration": 8,
    "start_time": "2021-08-24T10:18:37.233Z"
   },
   {
    "duration": 282,
    "start_time": "2021-08-24T10:18:48.633Z"
   },
   {
    "duration": 297,
    "start_time": "2021-08-24T10:19:11.917Z"
   },
   {
    "duration": 289,
    "start_time": "2021-08-24T10:19:17.785Z"
   },
   {
    "duration": 348,
    "start_time": "2021-08-24T10:19:40.739Z"
   },
   {
    "duration": 316,
    "start_time": "2021-08-24T10:19:46.708Z"
   },
   {
    "duration": 347,
    "start_time": "2021-08-24T10:20:34.476Z"
   },
   {
    "duration": 282,
    "start_time": "2021-08-24T10:20:46.735Z"
   },
   {
    "duration": 410,
    "start_time": "2021-08-24T10:23:58.485Z"
   },
   {
    "duration": 424,
    "start_time": "2021-08-24T10:25:57.853Z"
   },
   {
    "duration": 452,
    "start_time": "2021-08-24T10:26:24.462Z"
   },
   {
    "duration": 335,
    "start_time": "2021-08-24T10:26:32.585Z"
   },
   {
    "duration": 475,
    "start_time": "2021-08-24T10:26:47.926Z"
   },
   {
    "duration": 459,
    "start_time": "2021-08-24T10:27:20.368Z"
   },
   {
    "duration": 295,
    "start_time": "2021-08-24T10:28:37.874Z"
   },
   {
    "duration": 322,
    "start_time": "2021-08-24T10:28:49.257Z"
   },
   {
    "duration": 348,
    "start_time": "2021-08-24T10:29:18.427Z"
   },
   {
    "duration": 9,
    "start_time": "2021-08-24T10:29:54.644Z"
   },
   {
    "duration": 5,
    "start_time": "2021-08-24T10:30:05.644Z"
   },
   {
    "duration": 741,
    "start_time": "2021-08-24T10:30:25.093Z"
   },
   {
    "duration": 930,
    "start_time": "2021-08-24T10:37:55.862Z"
   },
   {
    "duration": 587,
    "start_time": "2021-08-24T10:38:30.773Z"
   },
   {
    "duration": 597,
    "start_time": "2021-08-24T10:39:33.459Z"
   },
   {
    "duration": 559,
    "start_time": "2021-08-24T10:39:52.866Z"
   },
   {
    "duration": 701,
    "start_time": "2021-08-24T10:41:35.428Z"
   },
   {
    "duration": 91,
    "start_time": "2021-08-24T10:46:33.950Z"
   },
   {
    "duration": 13,
    "start_time": "2021-08-24T10:46:46.103Z"
   },
   {
    "duration": 14,
    "start_time": "2021-08-24T11:02:06.219Z"
   },
   {
    "duration": 15,
    "start_time": "2021-08-24T11:03:42.687Z"
   },
   {
    "duration": 16,
    "start_time": "2021-08-24T11:03:52.910Z"
   },
   {
    "duration": 14,
    "start_time": "2021-08-24T11:03:59.349Z"
   },
   {
    "duration": 15,
    "start_time": "2021-08-24T11:12:44.639Z"
   },
   {
    "duration": 449,
    "start_time": "2021-08-24T11:13:54.753Z"
   },
   {
    "duration": 14,
    "start_time": "2021-08-24T11:14:06.157Z"
   },
   {
    "duration": 15,
    "start_time": "2021-08-24T11:14:18.581Z"
   },
   {
    "duration": 15,
    "start_time": "2021-08-24T11:14:50.902Z"
   },
   {
    "duration": 17,
    "start_time": "2021-08-24T11:16:34.793Z"
   },
   {
    "duration": 11,
    "start_time": "2021-08-24T11:19:41.497Z"
   },
   {
    "duration": 11,
    "start_time": "2021-08-24T11:20:51.892Z"
   },
   {
    "duration": 16,
    "start_time": "2021-08-24T11:21:06.485Z"
   },
   {
    "duration": 10,
    "start_time": "2021-08-24T11:21:18.213Z"
   },
   {
    "duration": 15,
    "start_time": "2021-08-24T11:21:54.222Z"
   },
   {
    "duration": 15,
    "start_time": "2021-08-24T11:22:08.329Z"
   },
   {
    "duration": 17,
    "start_time": "2021-08-24T11:22:22.595Z"
   },
   {
    "duration": 11,
    "start_time": "2021-08-24T11:22:31.766Z"
   },
   {
    "duration": 129,
    "start_time": "2021-08-24T11:25:47.498Z"
   },
   {
    "duration": 150,
    "start_time": "2021-08-24T11:25:58.458Z"
   },
   {
    "duration": 100,
    "start_time": "2021-08-24T11:26:05.570Z"
   },
   {
    "duration": 104,
    "start_time": "2021-08-24T11:26:13.457Z"
   },
   {
    "duration": 114,
    "start_time": "2021-08-24T11:26:18.072Z"
   },
   {
    "duration": 101,
    "start_time": "2021-08-24T11:26:23.971Z"
   },
   {
    "duration": 24,
    "start_time": "2021-08-24T11:26:34.610Z"
   },
   {
    "duration": 1024,
    "start_time": "2021-08-24T11:32:38.331Z"
   },
   {
    "duration": 773,
    "start_time": "2021-08-24T11:32:51.245Z"
   },
   {
    "duration": 677,
    "start_time": "2021-08-24T11:32:59.226Z"
   },
   {
    "duration": 884,
    "start_time": "2021-08-24T11:33:27.161Z"
   },
   {
    "duration": 696,
    "start_time": "2021-08-24T11:34:31.503Z"
   },
   {
    "duration": 866,
    "start_time": "2021-08-24T11:34:41.879Z"
   },
   {
    "duration": 886,
    "start_time": "2021-08-24T11:34:46.473Z"
   },
   {
    "duration": 613,
    "start_time": "2021-08-24T11:34:53.656Z"
   },
   {
    "duration": 1063,
    "start_time": "2021-08-24T11:36:02.781Z"
   },
   {
    "duration": 820,
    "start_time": "2021-08-24T11:36:31.344Z"
   },
   {
    "duration": 811,
    "start_time": "2021-08-24T11:36:49.551Z"
   },
   {
    "duration": 740,
    "start_time": "2021-08-24T11:37:36.677Z"
   },
   {
    "duration": 514,
    "start_time": "2021-08-24T11:37:46.681Z"
   },
   {
    "duration": 350,
    "start_time": "2021-08-24T11:38:15.377Z"
   },
   {
    "duration": 476,
    "start_time": "2021-08-24T11:38:27.596Z"
   },
   {
    "duration": 482,
    "start_time": "2021-08-24T11:38:50.851Z"
   },
   {
    "duration": 5,
    "start_time": "2021-08-24T12:50:05.967Z"
   },
   {
    "duration": 184,
    "start_time": "2021-08-24T12:50:05.979Z"
   },
   {
    "duration": 12,
    "start_time": "2021-08-24T12:50:06.166Z"
   },
   {
    "duration": 14,
    "start_time": "2021-08-24T12:50:06.181Z"
   },
   {
    "duration": 15,
    "start_time": "2021-08-24T12:50:06.197Z"
   },
   {
    "duration": 18,
    "start_time": "2021-08-24T12:50:06.215Z"
   },
   {
    "duration": 6,
    "start_time": "2021-08-24T12:50:06.256Z"
   },
   {
    "duration": 20,
    "start_time": "2021-08-24T12:50:06.264Z"
   },
   {
    "duration": 570,
    "start_time": "2021-08-24T12:50:06.289Z"
   },
   {
    "duration": 221,
    "start_time": "2021-08-24T12:50:06.862Z"
   },
   {
    "duration": 11,
    "start_time": "2021-08-24T12:50:07.086Z"
   },
   {
    "duration": 13,
    "start_time": "2021-08-24T12:50:07.100Z"
   },
   {
    "duration": 15,
    "start_time": "2021-08-24T12:50:07.116Z"
   },
   {
    "duration": 24,
    "start_time": "2021-08-24T12:50:07.134Z"
   },
   {
    "duration": 18,
    "start_time": "2021-08-24T12:50:07.160Z"
   },
   {
    "duration": 13,
    "start_time": "2021-08-24T12:50:07.181Z"
   },
   {
    "duration": 9,
    "start_time": "2021-08-24T12:50:07.197Z"
   },
   {
    "duration": 11,
    "start_time": "2021-08-24T12:50:07.209Z"
   },
   {
    "duration": 20,
    "start_time": "2021-08-24T12:50:07.256Z"
   },
   {
    "duration": 10,
    "start_time": "2021-08-24T12:50:07.279Z"
   },
   {
    "duration": 27,
    "start_time": "2021-08-24T12:50:07.291Z"
   },
   {
    "duration": 38,
    "start_time": "2021-08-24T12:50:07.321Z"
   },
   {
    "duration": 17,
    "start_time": "2021-08-24T12:50:07.361Z"
   },
   {
    "duration": 10,
    "start_time": "2021-08-24T12:50:07.384Z"
   },
   {
    "duration": 12,
    "start_time": "2021-08-24T12:50:07.397Z"
   },
   {
    "duration": 469,
    "start_time": "2021-08-24T12:50:07.411Z"
   },
   {
    "duration": 11,
    "start_time": "2021-08-24T12:50:07.883Z"
   },
   {
    "duration": 279,
    "start_time": "2021-08-24T12:50:07.897Z"
   },
   {
    "duration": 11,
    "start_time": "2021-08-24T12:50:08.179Z"
   },
   {
    "duration": 10,
    "start_time": "2021-08-24T12:50:08.193Z"
   },
   {
    "duration": 5,
    "start_time": "2021-08-24T12:50:08.206Z"
   },
   {
    "duration": 43,
    "start_time": "2021-08-24T12:50:08.213Z"
   },
   {
    "duration": 10,
    "start_time": "2021-08-24T12:50:08.258Z"
   },
   {
    "duration": 14,
    "start_time": "2021-08-24T12:50:08.270Z"
   },
   {
    "duration": 15,
    "start_time": "2021-08-24T12:50:08.286Z"
   },
   {
    "duration": 564,
    "start_time": "2021-08-24T12:50:08.303Z"
   },
   {
    "duration": 705,
    "start_time": "2021-08-24T12:50:08.870Z"
   },
   {
    "duration": 9,
    "start_time": "2021-08-24T12:50:09.578Z"
   },
   {
    "duration": 16,
    "start_time": "2021-08-24T12:50:09.590Z"
   },
   {
    "duration": 667,
    "start_time": "2021-08-24T12:50:09.608Z"
   },
   {
    "duration": 6,
    "start_time": "2021-08-24T12:50:10.277Z"
   },
   {
    "duration": 19,
    "start_time": "2021-08-24T12:50:10.285Z"
   },
   {
    "duration": 10,
    "start_time": "2021-08-24T12:50:10.306Z"
   },
   {
    "duration": 592,
    "start_time": "2021-08-24T12:50:10.318Z"
   },
   {
    "duration": 12,
    "start_time": "2021-08-24T12:50:10.913Z"
   },
   {
    "duration": 35,
    "start_time": "2021-08-24T12:50:10.927Z"
   },
   {
    "duration": 530,
    "start_time": "2021-08-24T12:50:10.964Z"
   },
   {
    "duration": 193,
    "start_time": "2021-08-24T12:50:11.497Z"
   },
   {
    "duration": 13,
    "start_time": "2021-08-24T12:50:11.693Z"
   },
   {
    "duration": 12,
    "start_time": "2021-08-24T12:50:11.708Z"
   },
   {
    "duration": 352,
    "start_time": "2021-08-24T12:50:11.723Z"
   },
   {
    "duration": 431,
    "start_time": "2021-08-24T12:50:12.078Z"
   },
   {
    "duration": 6,
    "start_time": "2021-08-24T12:50:12.512Z"
   },
   {
    "duration": 606,
    "start_time": "2021-08-24T12:50:12.521Z"
   },
   {
    "duration": 716,
    "start_time": "2021-08-24T12:50:13.129Z"
   },
   {
    "duration": 12,
    "start_time": "2021-08-24T12:50:13.848Z"
   },
   {
    "duration": 30,
    "start_time": "2021-08-24T12:50:13.862Z"
   },
   {
    "duration": 105,
    "start_time": "2021-08-24T12:50:13.894Z"
   },
   {
    "duration": 106,
    "start_time": "2021-08-24T12:50:14.002Z"
   },
   {
    "duration": 28,
    "start_time": "2021-08-24T12:50:14.110Z"
   },
   {
    "duration": 122,
    "start_time": "2021-08-24T12:50:14.141Z"
   },
   {
    "duration": 131,
    "start_time": "2021-08-24T12:50:14.265Z"
   },
   {
    "duration": 63,
    "start_time": "2021-08-24T12:50:14.399Z"
   },
   {
    "duration": 233,
    "start_time": "2021-08-24T12:50:14.464Z"
   },
   {
    "duration": 8,
    "start_time": "2021-08-24T12:50:14.699Z"
   },
   {
    "duration": 216,
    "start_time": "2021-08-24T12:50:14.709Z"
   },
   {
    "duration": 15,
    "start_time": "2021-08-24T12:50:14.928Z"
   },
   {
    "duration": 17,
    "start_time": "2021-08-24T12:50:14.957Z"
   },
   {
    "duration": 29,
    "start_time": "2021-08-24T12:50:14.982Z"
   },
   {
    "duration": 33,
    "start_time": "2021-08-24T12:50:15.014Z"
   },
   {
    "duration": 20,
    "start_time": "2021-08-24T12:50:15.050Z"
   },
   {
    "duration": 12,
    "start_time": "2021-08-24T12:50:15.073Z"
   },
   {
    "duration": 33,
    "start_time": "2021-08-24T12:50:15.087Z"
   },
   {
    "duration": 16,
    "start_time": "2021-08-24T12:50:15.123Z"
   },
   {
    "duration": 22,
    "start_time": "2021-08-24T12:50:15.142Z"
   },
   {
    "duration": 387,
    "start_time": "2021-08-24T12:50:15.168Z"
   },
   {
    "duration": 529,
    "start_time": "2021-08-24T12:50:15.558Z"
   },
   {
    "duration": 1814,
    "start_time": "2021-08-25T12:41:44.798Z"
   },
   {
    "duration": 1123,
    "start_time": "2021-08-25T12:41:46.615Z"
   },
   {
    "duration": 18,
    "start_time": "2021-08-25T12:41:47.740Z"
   },
   {
    "duration": 34,
    "start_time": "2021-08-25T12:41:47.766Z"
   },
   {
    "duration": 20,
    "start_time": "2021-08-25T12:41:47.802Z"
   },
   {
    "duration": 61,
    "start_time": "2021-08-25T12:41:47.825Z"
   },
   {
    "duration": 9,
    "start_time": "2021-08-25T12:41:47.895Z"
   },
   {
    "duration": 48,
    "start_time": "2021-08-25T12:41:47.909Z"
   },
   {
    "duration": 576,
    "start_time": "2021-08-25T12:41:47.964Z"
   },
   {
    "duration": 254,
    "start_time": "2021-08-25T12:41:48.543Z"
   },
   {
    "duration": 14,
    "start_time": "2021-08-25T12:41:48.801Z"
   },
   {
    "duration": 43,
    "start_time": "2021-08-25T12:41:48.819Z"
   },
   {
    "duration": 42,
    "start_time": "2021-08-25T12:41:48.869Z"
   },
   {
    "duration": 42,
    "start_time": "2021-08-25T12:41:48.915Z"
   },
   {
    "duration": 27,
    "start_time": "2021-08-25T12:41:48.960Z"
   },
   {
    "duration": 32,
    "start_time": "2021-08-25T12:41:48.990Z"
   },
   {
    "duration": 16,
    "start_time": "2021-08-25T12:41:49.024Z"
   },
   {
    "duration": 46,
    "start_time": "2021-08-25T12:41:49.042Z"
   },
   {
    "duration": 45,
    "start_time": "2021-08-25T12:41:49.091Z"
   },
   {
    "duration": 6,
    "start_time": "2021-08-25T12:41:49.139Z"
   },
   {
    "duration": 57,
    "start_time": "2021-08-25T12:41:49.147Z"
   },
   {
    "duration": 35,
    "start_time": "2021-08-25T12:41:49.207Z"
   },
   {
    "duration": 22,
    "start_time": "2021-08-25T12:41:49.248Z"
   },
   {
    "duration": 21,
    "start_time": "2021-08-25T12:41:49.274Z"
   },
   {
    "duration": 35,
    "start_time": "2021-08-25T12:41:49.299Z"
   },
   {
    "duration": 425,
    "start_time": "2021-08-25T12:41:49.337Z"
   },
   {
    "duration": 28,
    "start_time": "2021-08-25T12:41:49.765Z"
   },
   {
    "duration": 220,
    "start_time": "2021-08-25T12:41:49.797Z"
   },
   {
    "duration": 12,
    "start_time": "2021-08-25T12:41:50.020Z"
   },
   {
    "duration": 53,
    "start_time": "2021-08-25T12:41:50.034Z"
   },
   {
    "duration": 20,
    "start_time": "2021-08-25T12:41:50.095Z"
   },
   {
    "duration": 30,
    "start_time": "2021-08-25T12:41:50.118Z"
   },
   {
    "duration": 30,
    "start_time": "2021-08-25T12:41:50.151Z"
   },
   {
    "duration": 14,
    "start_time": "2021-08-25T12:41:50.187Z"
   },
   {
    "duration": 18,
    "start_time": "2021-08-25T12:41:50.204Z"
   },
   {
    "duration": 565,
    "start_time": "2021-08-25T12:41:50.225Z"
   },
   {
    "duration": 513,
    "start_time": "2021-08-25T12:41:50.793Z"
   },
   {
    "duration": 11,
    "start_time": "2021-08-25T12:41:51.309Z"
   },
   {
    "duration": 25,
    "start_time": "2021-08-25T12:41:51.323Z"
   },
   {
    "duration": 543,
    "start_time": "2021-08-25T12:41:51.350Z"
   },
   {
    "duration": 13,
    "start_time": "2021-08-25T12:41:51.895Z"
   },
   {
    "duration": 23,
    "start_time": "2021-08-25T12:41:51.911Z"
   },
   {
    "duration": 17,
    "start_time": "2021-08-25T12:41:51.955Z"
   },
   {
    "duration": 1127,
    "start_time": "2021-08-25T12:41:51.984Z"
   },
   {
    "duration": -799,
    "start_time": "2021-08-25T12:41:53.938Z"
   },
   {
    "duration": -796,
    "start_time": "2021-08-25T12:41:53.944Z"
   },
   {
    "duration": -786,
    "start_time": "2021-08-25T12:41:53.952Z"
   },
   {
    "duration": -782,
    "start_time": "2021-08-25T12:41:53.961Z"
   },
   {
    "duration": -780,
    "start_time": "2021-08-25T12:41:53.965Z"
   },
   {
    "duration": -790,
    "start_time": "2021-08-25T12:41:53.986Z"
   },
   {
    "duration": -785,
    "start_time": "2021-08-25T12:41:53.996Z"
   },
   {
    "duration": -786,
    "start_time": "2021-08-25T12:41:54.000Z"
   },
   {
    "duration": -799,
    "start_time": "2021-08-25T12:41:54.015Z"
   },
   {
    "duration": -804,
    "start_time": "2021-08-25T12:41:54.023Z"
   },
   {
    "duration": -809,
    "start_time": "2021-08-25T12:41:54.031Z"
   },
   {
    "duration": -818,
    "start_time": "2021-08-25T12:41:54.042Z"
   },
   {
    "duration": -818,
    "start_time": "2021-08-25T12:41:54.047Z"
   },
   {
    "duration": -827,
    "start_time": "2021-08-25T12:41:54.059Z"
   },
   {
    "duration": -825,
    "start_time": "2021-08-25T12:41:54.064Z"
   },
   {
    "duration": -838,
    "start_time": "2021-08-25T12:41:54.079Z"
   },
   {
    "duration": -834,
    "start_time": "2021-08-25T12:41:54.084Z"
   },
   {
    "duration": -838,
    "start_time": "2021-08-25T12:41:54.090Z"
   },
   {
    "duration": -841,
    "start_time": "2021-08-25T12:41:54.096Z"
   },
   {
    "duration": -844,
    "start_time": "2021-08-25T12:41:54.101Z"
   },
   {
    "duration": -845,
    "start_time": "2021-08-25T12:41:54.108Z"
   },
   {
    "duration": -839,
    "start_time": "2021-08-25T12:41:54.112Z"
   },
   {
    "duration": -842,
    "start_time": "2021-08-25T12:41:54.118Z"
   },
   {
    "duration": -845,
    "start_time": "2021-08-25T12:41:54.124Z"
   },
   {
    "duration": -849,
    "start_time": "2021-08-25T12:41:54.130Z"
   },
   {
    "duration": -850,
    "start_time": "2021-08-25T12:41:54.134Z"
   },
   {
    "duration": -847,
    "start_time": "2021-08-25T12:41:54.142Z"
   },
   {
    "duration": -849,
    "start_time": "2021-08-25T12:41:54.146Z"
   },
   {
    "duration": -851,
    "start_time": "2021-08-25T12:41:54.151Z"
   },
   {
    "duration": -855,
    "start_time": "2021-08-25T12:41:54.157Z"
   },
   {
    "duration": -849,
    "start_time": "2021-08-25T12:41:54.163Z"
   },
   {
    "duration": -850,
    "start_time": "2021-08-25T12:41:54.167Z"
   },
   {
    "duration": -854,
    "start_time": "2021-08-25T12:41:54.173Z"
   },
   {
    "duration": 1893,
    "start_time": "2021-08-25T12:42:13.981Z"
   },
   {
    "duration": 98,
    "start_time": "2021-08-25T12:42:15.878Z"
   },
   {
    "duration": 21,
    "start_time": "2021-08-25T12:42:15.985Z"
   },
   {
    "duration": 14,
    "start_time": "2021-08-25T12:42:16.009Z"
   },
   {
    "duration": 40,
    "start_time": "2021-08-25T12:42:16.026Z"
   },
   {
    "duration": 43,
    "start_time": "2021-08-25T12:42:16.069Z"
   },
   {
    "duration": 27,
    "start_time": "2021-08-25T12:42:16.116Z"
   },
   {
    "duration": 47,
    "start_time": "2021-08-25T12:42:16.146Z"
   },
   {
    "duration": 466,
    "start_time": "2021-08-25T12:42:16.198Z"
   },
   {
    "duration": 180,
    "start_time": "2021-08-25T12:42:16.667Z"
   },
   {
    "duration": 39,
    "start_time": "2021-08-25T12:42:16.849Z"
   },
   {
    "duration": 11,
    "start_time": "2021-08-25T12:42:16.892Z"
   },
   {
    "duration": 26,
    "start_time": "2021-08-25T12:42:16.907Z"
   },
   {
    "duration": 41,
    "start_time": "2021-08-25T12:42:16.936Z"
   },
   {
    "duration": 26,
    "start_time": "2021-08-25T12:42:16.981Z"
   },
   {
    "duration": 19,
    "start_time": "2021-08-25T12:42:17.010Z"
   },
   {
    "duration": 31,
    "start_time": "2021-08-25T12:42:17.032Z"
   },
   {
    "duration": 50,
    "start_time": "2021-08-25T12:42:17.066Z"
   },
   {
    "duration": 73,
    "start_time": "2021-08-25T12:42:17.120Z"
   },
   {
    "duration": 41,
    "start_time": "2021-08-25T12:42:17.196Z"
   },
   {
    "duration": 63,
    "start_time": "2021-08-25T12:42:17.240Z"
   },
   {
    "duration": 28,
    "start_time": "2021-08-25T12:42:17.306Z"
   },
   {
    "duration": 36,
    "start_time": "2021-08-25T12:42:17.337Z"
   },
   {
    "duration": 30,
    "start_time": "2021-08-25T12:42:17.376Z"
   },
   {
    "duration": 52,
    "start_time": "2021-08-25T12:42:17.409Z"
   },
   {
    "duration": 335,
    "start_time": "2021-08-25T12:42:17.463Z"
   },
   {
    "duration": 14,
    "start_time": "2021-08-25T12:42:17.807Z"
   },
   {
    "duration": 265,
    "start_time": "2021-08-25T12:42:17.824Z"
   },
   {
    "duration": 15,
    "start_time": "2021-08-25T12:42:18.092Z"
   },
   {
    "duration": 38,
    "start_time": "2021-08-25T12:42:18.111Z"
   },
   {
    "duration": 27,
    "start_time": "2021-08-25T12:42:18.152Z"
   },
   {
    "duration": 36,
    "start_time": "2021-08-25T12:42:18.181Z"
   },
   {
    "duration": 20,
    "start_time": "2021-08-25T12:42:18.220Z"
   },
   {
    "duration": 19,
    "start_time": "2021-08-25T12:42:18.242Z"
   },
   {
    "duration": 27,
    "start_time": "2021-08-25T12:42:18.264Z"
   },
   {
    "duration": 539,
    "start_time": "2021-08-25T12:42:18.294Z"
   },
   {
    "duration": 518,
    "start_time": "2021-08-25T12:42:18.836Z"
   },
   {
    "duration": 13,
    "start_time": "2021-08-25T12:42:19.363Z"
   },
   {
    "duration": 23,
    "start_time": "2021-08-25T12:42:19.388Z"
   },
   {
    "duration": 593,
    "start_time": "2021-08-25T12:42:19.414Z"
   },
   {
    "duration": 7,
    "start_time": "2021-08-25T12:42:20.011Z"
   },
   {
    "duration": 62,
    "start_time": "2021-08-25T12:42:20.021Z"
   },
   {
    "duration": 12,
    "start_time": "2021-08-25T12:42:20.093Z"
   },
   {
    "duration": 1125,
    "start_time": "2021-08-25T12:42:20.108Z"
   },
   {
    "duration": -865,
    "start_time": "2021-08-25T12:42:22.101Z"
   },
   {
    "duration": -871,
    "start_time": "2021-08-25T12:42:22.108Z"
   },
   {
    "duration": -873,
    "start_time": "2021-08-25T12:42:22.112Z"
   },
   {
    "duration": -878,
    "start_time": "2021-08-25T12:42:22.118Z"
   },
   {
    "duration": -872,
    "start_time": "2021-08-25T12:42:22.125Z"
   },
   {
    "duration": -875,
    "start_time": "2021-08-25T12:42:22.131Z"
   },
   {
    "duration": -879,
    "start_time": "2021-08-25T12:42:22.137Z"
   },
   {
    "duration": -882,
    "start_time": "2021-08-25T12:42:22.141Z"
   },
   {
    "duration": -886,
    "start_time": "2021-08-25T12:42:22.147Z"
   },
   {
    "duration": -880,
    "start_time": "2021-08-25T12:42:22.151Z"
   },
   {
    "duration": -882,
    "start_time": "2021-08-25T12:42:22.155Z"
   },
   {
    "duration": -884,
    "start_time": "2021-08-25T12:42:22.159Z"
   },
   {
    "duration": -889,
    "start_time": "2021-08-25T12:42:22.165Z"
   },
   {
    "duration": -883,
    "start_time": "2021-08-25T12:42:22.168Z"
   },
   {
    "duration": -885,
    "start_time": "2021-08-25T12:42:22.173Z"
   },
   {
    "duration": -885,
    "start_time": "2021-08-25T12:42:22.176Z"
   },
   {
    "duration": -894,
    "start_time": "2021-08-25T12:42:22.190Z"
   },
   {
    "duration": -898,
    "start_time": "2021-08-25T12:42:22.195Z"
   },
   {
    "duration": -902,
    "start_time": "2021-08-25T12:42:22.200Z"
   },
   {
    "duration": -904,
    "start_time": "2021-08-25T12:42:22.204Z"
   },
   {
    "duration": -908,
    "start_time": "2021-08-25T12:42:22.209Z"
   },
   {
    "duration": -911,
    "start_time": "2021-08-25T12:42:22.213Z"
   },
   {
    "duration": -914,
    "start_time": "2021-08-25T12:42:22.218Z"
   },
   {
    "duration": -916,
    "start_time": "2021-08-25T12:42:22.223Z"
   },
   {
    "duration": -920,
    "start_time": "2021-08-25T12:42:22.228Z"
   },
   {
    "duration": -923,
    "start_time": "2021-08-25T12:42:22.232Z"
   },
   {
    "duration": -927,
    "start_time": "2021-08-25T12:42:22.237Z"
   },
   {
    "duration": -930,
    "start_time": "2021-08-25T12:42:22.241Z"
   },
   {
    "duration": -934,
    "start_time": "2021-08-25T12:42:22.246Z"
   },
   {
    "duration": -891,
    "start_time": "2021-08-25T12:42:22.249Z"
   },
   {
    "duration": -893,
    "start_time": "2021-08-25T12:42:22.254Z"
   },
   {
    "duration": -895,
    "start_time": "2021-08-25T12:42:22.257Z"
   },
   {
    "duration": -898,
    "start_time": "2021-08-25T12:42:22.262Z"
   },
   {
    "duration": 1138,
    "start_time": "2021-08-25T13:44:08.005Z"
   },
   {
    "duration": 98,
    "start_time": "2021-08-25T13:44:09.145Z"
   },
   {
    "duration": 10,
    "start_time": "2021-08-25T13:44:09.245Z"
   },
   {
    "duration": 22,
    "start_time": "2021-08-25T13:44:09.257Z"
   },
   {
    "duration": 27,
    "start_time": "2021-08-25T13:44:09.281Z"
   },
   {
    "duration": 20,
    "start_time": "2021-08-25T13:44:09.310Z"
   },
   {
    "duration": 20,
    "start_time": "2021-08-25T13:44:09.332Z"
   },
   {
    "duration": 31,
    "start_time": "2021-08-25T13:44:09.354Z"
   },
   {
    "duration": 334,
    "start_time": "2021-08-25T13:44:09.387Z"
   },
   {
    "duration": 141,
    "start_time": "2021-08-25T13:44:09.722Z"
   },
   {
    "duration": 8,
    "start_time": "2021-08-25T13:44:09.865Z"
   },
   {
    "duration": 28,
    "start_time": "2021-08-25T13:44:09.874Z"
   },
   {
    "duration": 20,
    "start_time": "2021-08-25T13:44:09.904Z"
   },
   {
    "duration": 18,
    "start_time": "2021-08-25T13:44:09.926Z"
   },
   {
    "duration": 26,
    "start_time": "2021-08-25T13:44:09.946Z"
   },
   {
    "duration": 25,
    "start_time": "2021-08-25T13:44:09.974Z"
   },
   {
    "duration": 21,
    "start_time": "2021-08-25T13:44:10.001Z"
   },
   {
    "duration": 16,
    "start_time": "2021-08-25T13:44:10.024Z"
   },
   {
    "duration": 33,
    "start_time": "2021-08-25T13:44:10.042Z"
   },
   {
    "duration": 18,
    "start_time": "2021-08-25T13:44:10.077Z"
   },
   {
    "duration": 33,
    "start_time": "2021-08-25T13:44:10.097Z"
   },
   {
    "duration": 24,
    "start_time": "2021-08-25T13:44:10.131Z"
   },
   {
    "duration": 20,
    "start_time": "2021-08-25T13:44:10.159Z"
   },
   {
    "duration": 29,
    "start_time": "2021-08-25T13:44:10.182Z"
   },
   {
    "duration": 30,
    "start_time": "2021-08-25T13:44:10.213Z"
   },
   {
    "duration": 220,
    "start_time": "2021-08-25T13:44:10.245Z"
   },
   {
    "duration": 7,
    "start_time": "2021-08-25T13:44:10.467Z"
   },
   {
    "duration": 167,
    "start_time": "2021-08-25T13:44:10.476Z"
   },
   {
    "duration": 25,
    "start_time": "2021-08-25T13:44:10.645Z"
   },
   {
    "duration": 24,
    "start_time": "2021-08-25T13:44:10.672Z"
   },
   {
    "duration": 10,
    "start_time": "2021-08-25T13:44:10.698Z"
   },
   {
    "duration": 30,
    "start_time": "2021-08-25T13:44:10.710Z"
   },
   {
    "duration": 28,
    "start_time": "2021-08-25T13:44:10.741Z"
   },
   {
    "duration": 21,
    "start_time": "2021-08-25T13:44:10.771Z"
   },
   {
    "duration": 19,
    "start_time": "2021-08-25T13:44:10.793Z"
   },
   {
    "duration": 341,
    "start_time": "2021-08-25T13:44:10.813Z"
   },
   {
    "duration": 315,
    "start_time": "2021-08-25T13:44:11.156Z"
   },
   {
    "duration": 6,
    "start_time": "2021-08-25T13:44:11.473Z"
   },
   {
    "duration": 10,
    "start_time": "2021-08-25T13:44:11.481Z"
   },
   {
    "duration": 436,
    "start_time": "2021-08-25T13:44:11.493Z"
   },
   {
    "duration": 4,
    "start_time": "2021-08-25T13:44:11.931Z"
   },
   {
    "duration": 14,
    "start_time": "2021-08-25T13:44:11.936Z"
   },
   {
    "duration": 7,
    "start_time": "2021-08-25T13:44:11.952Z"
   },
   {
    "duration": 351,
    "start_time": "2021-08-25T13:44:11.961Z"
   },
   {
    "duration": 8,
    "start_time": "2021-08-25T13:44:12.314Z"
   },
   {
    "duration": 22,
    "start_time": "2021-08-25T13:44:12.324Z"
   },
   {
    "duration": 312,
    "start_time": "2021-08-25T13:44:12.348Z"
   },
   {
    "duration": 120,
    "start_time": "2021-08-25T13:44:12.661Z"
   },
   {
    "duration": 9,
    "start_time": "2021-08-25T13:44:12.782Z"
   },
   {
    "duration": 11,
    "start_time": "2021-08-25T13:44:12.792Z"
   },
   {
    "duration": 202,
    "start_time": "2021-08-25T13:44:12.805Z"
   },
   {
    "duration": 325,
    "start_time": "2021-08-25T13:44:13.009Z"
   },
   {
    "duration": 7,
    "start_time": "2021-08-25T13:44:13.336Z"
   },
   {
    "duration": 399,
    "start_time": "2021-08-25T13:44:13.344Z"
   },
   {
    "duration": 454,
    "start_time": "2021-08-25T13:44:13.744Z"
   },
   {
    "duration": 4,
    "start_time": "2021-08-25T13:44:14.200Z"
   },
   {
    "duration": 13,
    "start_time": "2021-08-25T13:44:14.205Z"
   },
   {
    "duration": 63,
    "start_time": "2021-08-25T13:44:14.220Z"
   },
   {
    "duration": 62,
    "start_time": "2021-08-25T13:44:14.284Z"
   },
   {
    "duration": 24,
    "start_time": "2021-08-25T13:44:14.348Z"
   },
   {
    "duration": 61,
    "start_time": "2021-08-25T13:44:14.374Z"
   },
   {
    "duration": 80,
    "start_time": "2021-08-25T13:44:14.436Z"
   },
   {
    "duration": 39,
    "start_time": "2021-08-25T13:44:14.517Z"
   },
   {
    "duration": 121,
    "start_time": "2021-08-25T13:44:14.558Z"
   },
   {
    "duration": 7,
    "start_time": "2021-08-25T13:44:14.681Z"
   },
   {
    "duration": 113,
    "start_time": "2021-08-25T13:44:14.690Z"
   },
   {
    "duration": 12,
    "start_time": "2021-08-25T13:44:14.805Z"
   },
   {
    "duration": 26,
    "start_time": "2021-08-25T13:44:14.823Z"
   },
   {
    "duration": 22,
    "start_time": "2021-08-25T13:44:14.851Z"
   },
   {
    "duration": 12,
    "start_time": "2021-08-25T13:44:14.875Z"
   },
   {
    "duration": 16,
    "start_time": "2021-08-25T13:44:14.889Z"
   },
   {
    "duration": 10,
    "start_time": "2021-08-25T13:44:14.907Z"
   },
   {
    "duration": 27,
    "start_time": "2021-08-25T13:44:14.918Z"
   },
   {
    "duration": 31,
    "start_time": "2021-08-25T13:44:14.947Z"
   },
   {
    "duration": 19,
    "start_time": "2021-08-25T13:44:14.979Z"
   },
   {
    "duration": 229,
    "start_time": "2021-08-25T13:44:14.999Z"
   },
   {
    "duration": 349,
    "start_time": "2021-08-25T13:44:15.230Z"
   },
   {
    "duration": 11,
    "start_time": "2021-08-25T13:45:55.966Z"
   },
   {
    "duration": 199,
    "start_time": "2021-08-25T13:46:04.633Z"
   },
   {
    "duration": 713,
    "start_time": "2021-08-25T13:47:02.117Z"
   },
   {
    "duration": 627,
    "start_time": "2021-08-25T13:47:10.781Z"
   },
   {
    "duration": 319,
    "start_time": "2021-08-25T13:47:39.212Z"
   },
   {
    "duration": 404,
    "start_time": "2021-08-25T13:48:34.168Z"
   },
   {
    "duration": 638,
    "start_time": "2021-08-25T13:48:53.139Z"
   },
   {
    "duration": 296,
    "start_time": "2021-08-25T13:49:09.878Z"
   },
   {
    "duration": 235,
    "start_time": "2021-08-25T13:49:57.401Z"
   },
   {
    "duration": 804,
    "start_time": "2021-08-25T13:50:22.354Z"
   },
   {
    "duration": 157,
    "start_time": "2021-08-25T13:50:46.713Z"
   },
   {
    "duration": 564,
    "start_time": "2021-08-25T13:51:02.145Z"
   },
   {
    "duration": 1068,
    "start_time": "2021-08-25T13:51:10.974Z"
   },
   {
    "duration": 441,
    "start_time": "2021-08-25T13:51:47.450Z"
   },
   {
    "duration": 384,
    "start_time": "2021-08-25T13:51:53.909Z"
   },
   {
    "duration": 380,
    "start_time": "2021-08-25T13:52:24.166Z"
   },
   {
    "duration": 519,
    "start_time": "2021-08-25T13:52:31.509Z"
   },
   {
    "duration": 173,
    "start_time": "2021-08-25T13:52:53.289Z"
   },
   {
    "duration": 4,
    "start_time": "2021-08-25T13:53:47.945Z"
   },
   {
    "duration": 10,
    "start_time": "2021-08-25T13:53:49.135Z"
   },
   {
    "duration": 5,
    "start_time": "2021-08-25T13:53:51.821Z"
   },
   {
    "duration": 306,
    "start_time": "2021-08-25T13:53:56.134Z"
   },
   {
    "duration": 307,
    "start_time": "2021-08-25T13:54:29.679Z"
   },
   {
    "duration": 9,
    "start_time": "2021-08-25T13:54:52.919Z"
   },
   {
    "duration": 10,
    "start_time": "2021-08-25T13:59:31.045Z"
   },
   {
    "duration": 9,
    "start_time": "2021-08-25T13:59:41.680Z"
   },
   {
    "duration": 8,
    "start_time": "2021-08-25T13:59:48.227Z"
   },
   {
    "duration": 324,
    "start_time": "2021-08-25T14:00:30.904Z"
   },
   {
    "duration": 3,
    "start_time": "2021-08-25T14:00:45.823Z"
   },
   {
    "duration": 60,
    "start_time": "2021-08-25T14:00:45.828Z"
   },
   {
    "duration": 7,
    "start_time": "2021-08-25T14:00:45.890Z"
   },
   {
    "duration": 12,
    "start_time": "2021-08-25T14:00:45.899Z"
   },
   {
    "duration": 6,
    "start_time": "2021-08-25T14:00:45.913Z"
   },
   {
    "duration": 12,
    "start_time": "2021-08-25T14:00:45.920Z"
   },
   {
    "duration": 6,
    "start_time": "2021-08-25T14:00:45.934Z"
   },
   {
    "duration": 14,
    "start_time": "2021-08-25T14:00:45.942Z"
   },
   {
    "duration": 197,
    "start_time": "2021-08-25T14:00:45.958Z"
   },
   {
    "duration": 398,
    "start_time": "2021-08-25T14:00:46.157Z"
   },
   {
    "duration": 107,
    "start_time": "2021-08-25T14:00:46.557Z"
   },
   {
    "duration": 8,
    "start_time": "2021-08-25T14:00:46.666Z"
   },
   {
    "duration": 10,
    "start_time": "2021-08-25T14:00:46.676Z"
   },
   {
    "duration": 13,
    "start_time": "2021-08-25T14:00:46.687Z"
   },
   {
    "duration": 13,
    "start_time": "2021-08-25T14:00:46.701Z"
   },
   {
    "duration": 20,
    "start_time": "2021-08-25T14:00:46.715Z"
   },
   {
    "duration": 14,
    "start_time": "2021-08-25T14:00:46.736Z"
   },
   {
    "duration": 14,
    "start_time": "2021-08-25T14:00:46.752Z"
   },
   {
    "duration": 17,
    "start_time": "2021-08-25T14:00:46.767Z"
   },
   {
    "duration": 17,
    "start_time": "2021-08-25T14:00:46.786Z"
   },
   {
    "duration": 16,
    "start_time": "2021-08-25T14:00:46.805Z"
   },
   {
    "duration": 22,
    "start_time": "2021-08-25T14:00:46.822Z"
   },
   {
    "duration": 11,
    "start_time": "2021-08-25T14:00:46.847Z"
   },
   {
    "duration": 17,
    "start_time": "2021-08-25T14:00:46.860Z"
   },
   {
    "duration": 13,
    "start_time": "2021-08-25T14:00:46.879Z"
   },
   {
    "duration": 15,
    "start_time": "2021-08-25T14:00:46.894Z"
   },
   {
    "duration": 211,
    "start_time": "2021-08-25T14:00:46.911Z"
   },
   {
    "duration": 8,
    "start_time": "2021-08-25T14:00:47.124Z"
   },
   {
    "duration": 151,
    "start_time": "2021-08-25T14:00:47.141Z"
   },
   {
    "duration": 22,
    "start_time": "2021-08-25T14:00:47.294Z"
   },
   {
    "duration": 6,
    "start_time": "2021-08-25T14:00:47.318Z"
   },
   {
    "duration": 13,
    "start_time": "2021-08-25T14:00:47.326Z"
   },
   {
    "duration": 20,
    "start_time": "2021-08-25T14:00:47.341Z"
   },
   {
    "duration": 18,
    "start_time": "2021-08-25T14:00:47.363Z"
   },
   {
    "duration": 12,
    "start_time": "2021-08-25T14:00:47.383Z"
   },
   {
    "duration": 14,
    "start_time": "2021-08-25T14:00:47.397Z"
   },
   {
    "duration": 344,
    "start_time": "2021-08-25T14:00:47.413Z"
   },
   {
    "duration": 326,
    "start_time": "2021-08-25T14:00:47.758Z"
   },
   {
    "duration": 6,
    "start_time": "2021-08-25T14:00:48.085Z"
   },
   {
    "duration": 28,
    "start_time": "2021-08-25T14:00:48.093Z"
   },
   {
    "duration": 432,
    "start_time": "2021-08-25T14:00:48.123Z"
   },
   {
    "duration": 3,
    "start_time": "2021-08-25T14:00:48.557Z"
   },
   {
    "duration": 27,
    "start_time": "2021-08-25T14:00:48.561Z"
   },
   {
    "duration": 18,
    "start_time": "2021-08-25T14:00:48.590Z"
   },
   {
    "duration": 351,
    "start_time": "2021-08-25T14:00:48.610Z"
   },
   {
    "duration": 10,
    "start_time": "2021-08-25T14:00:48.963Z"
   },
   {
    "duration": 14,
    "start_time": "2021-08-25T14:00:48.974Z"
   },
   {
    "duration": 309,
    "start_time": "2021-08-25T14:00:48.990Z"
   },
   {
    "duration": 96,
    "start_time": "2021-08-25T14:00:49.301Z"
   },
   {
    "duration": 8,
    "start_time": "2021-08-25T14:00:49.399Z"
   },
   {
    "duration": 13,
    "start_time": "2021-08-25T14:00:49.409Z"
   },
   {
    "duration": 219,
    "start_time": "2021-08-25T14:00:49.423Z"
   },
   {
    "duration": 338,
    "start_time": "2021-08-25T14:00:49.644Z"
   },
   {
    "duration": 5,
    "start_time": "2021-08-25T14:00:49.984Z"
   },
   {
    "duration": 361,
    "start_time": "2021-08-25T14:00:49.990Z"
   },
   {
    "duration": 572,
    "start_time": "2021-08-25T14:00:50.356Z"
   },
   {
    "duration": 11,
    "start_time": "2021-08-25T14:00:50.930Z"
   },
   {
    "duration": 14,
    "start_time": "2021-08-25T14:00:50.943Z"
   },
   {
    "duration": 78,
    "start_time": "2021-08-25T14:00:50.959Z"
   },
   {
    "duration": 83,
    "start_time": "2021-08-25T14:00:51.039Z"
   },
   {
    "duration": 17,
    "start_time": "2021-08-25T14:00:51.124Z"
   },
   {
    "duration": 74,
    "start_time": "2021-08-25T14:00:51.143Z"
   },
   {
    "duration": 84,
    "start_time": "2021-08-25T14:00:51.219Z"
   },
   {
    "duration": 44,
    "start_time": "2021-08-25T14:00:51.305Z"
   },
   {
    "duration": 136,
    "start_time": "2021-08-25T14:00:51.350Z"
   },
   {
    "duration": 5,
    "start_time": "2021-08-25T14:00:51.488Z"
   },
   {
    "duration": 113,
    "start_time": "2021-08-25T14:00:51.494Z"
   },
   {
    "duration": 10,
    "start_time": "2021-08-25T14:00:51.609Z"
   },
   {
    "duration": 26,
    "start_time": "2021-08-25T14:00:51.620Z"
   },
   {
    "duration": 4,
    "start_time": "2021-08-25T14:00:51.648Z"
   },
   {
    "duration": 7,
    "start_time": "2021-08-25T14:00:51.653Z"
   },
   {
    "duration": 8,
    "start_time": "2021-08-25T14:00:51.661Z"
   },
   {
    "duration": 6,
    "start_time": "2021-08-25T14:00:51.671Z"
   },
   {
    "duration": 6,
    "start_time": "2021-08-25T14:00:51.678Z"
   },
   {
    "duration": 10,
    "start_time": "2021-08-25T14:00:51.685Z"
   },
   {
    "duration": 13,
    "start_time": "2021-08-25T14:00:51.697Z"
   },
   {
    "duration": 251,
    "start_time": "2021-08-25T14:00:51.712Z"
   },
   {
    "duration": 347,
    "start_time": "2021-08-25T14:00:51.964Z"
   },
   {
    "duration": 1093,
    "start_time": "2021-08-26T13:57:59.503Z"
   },
   {
    "duration": 109,
    "start_time": "2021-08-26T13:58:00.598Z"
   },
   {
    "duration": 11,
    "start_time": "2021-08-26T13:58:00.709Z"
   },
   {
    "duration": 20,
    "start_time": "2021-08-26T13:58:00.722Z"
   },
   {
    "duration": 15,
    "start_time": "2021-08-26T13:58:00.744Z"
   },
   {
    "duration": 14,
    "start_time": "2021-08-26T13:58:00.761Z"
   },
   {
    "duration": 17,
    "start_time": "2021-08-26T13:58:00.777Z"
   },
   {
    "duration": 21,
    "start_time": "2021-08-26T13:58:00.797Z"
   },
   {
    "duration": 196,
    "start_time": "2021-08-26T13:58:00.820Z"
   },
   {
    "duration": 304,
    "start_time": "2021-08-26T13:58:01.018Z"
   },
   {
    "duration": 318,
    "start_time": "2021-08-26T13:58:01.324Z"
   },
   {
    "duration": 9,
    "start_time": "2021-08-26T13:58:01.644Z"
   },
   {
    "duration": 23,
    "start_time": "2021-08-26T13:58:01.655Z"
   },
   {
    "duration": 26,
    "start_time": "2021-08-26T13:58:01.681Z"
   },
   {
    "duration": 49,
    "start_time": "2021-08-26T13:58:01.710Z"
   },
   {
    "duration": 31,
    "start_time": "2021-08-26T13:58:01.761Z"
   },
   {
    "duration": 20,
    "start_time": "2021-08-26T13:58:01.794Z"
   },
   {
    "duration": 34,
    "start_time": "2021-08-26T13:58:01.816Z"
   },
   {
    "duration": 33,
    "start_time": "2021-08-26T13:58:01.852Z"
   },
   {
    "duration": 29,
    "start_time": "2021-08-26T13:58:01.887Z"
   },
   {
    "duration": 31,
    "start_time": "2021-08-26T13:58:01.918Z"
   },
   {
    "duration": 36,
    "start_time": "2021-08-26T13:58:01.951Z"
   },
   {
    "duration": 36,
    "start_time": "2021-08-26T13:58:01.993Z"
   },
   {
    "duration": 33,
    "start_time": "2021-08-26T13:58:02.033Z"
   },
   {
    "duration": 37,
    "start_time": "2021-08-26T13:58:02.068Z"
   },
   {
    "duration": 27,
    "start_time": "2021-08-26T13:58:02.106Z"
   },
   {
    "duration": 208,
    "start_time": "2021-08-26T13:58:02.134Z"
   },
   {
    "duration": 7,
    "start_time": "2021-08-26T13:58:02.344Z"
   },
   {
    "duration": 157,
    "start_time": "2021-08-26T13:58:02.353Z"
   },
   {
    "duration": 21,
    "start_time": "2021-08-26T13:58:02.512Z"
   },
   {
    "duration": 16,
    "start_time": "2021-08-26T13:58:02.534Z"
   },
   {
    "duration": 18,
    "start_time": "2021-08-26T13:58:02.552Z"
   },
   {
    "duration": 22,
    "start_time": "2021-08-26T13:58:02.572Z"
   },
   {
    "duration": 23,
    "start_time": "2021-08-26T13:58:02.596Z"
   },
   {
    "duration": 32,
    "start_time": "2021-08-26T13:58:02.621Z"
   },
   {
    "duration": 9,
    "start_time": "2021-08-26T13:58:02.655Z"
   },
   {
    "duration": 326,
    "start_time": "2021-08-26T13:58:02.666Z"
   },
   {
    "duration": 317,
    "start_time": "2021-08-26T13:58:02.994Z"
   },
   {
    "duration": 7,
    "start_time": "2021-08-26T13:58:03.313Z"
   },
   {
    "duration": 13,
    "start_time": "2021-08-26T13:58:03.321Z"
   },
   {
    "duration": 524,
    "start_time": "2021-08-26T13:58:03.336Z"
   },
   {
    "duration": 4,
    "start_time": "2021-08-26T13:58:03.862Z"
   },
   {
    "duration": 40,
    "start_time": "2021-08-26T13:58:03.868Z"
   },
   {
    "duration": 11,
    "start_time": "2021-08-26T13:58:03.910Z"
   },
   {
    "duration": 319,
    "start_time": "2021-08-26T13:58:03.923Z"
   },
   {
    "duration": 8,
    "start_time": "2021-08-26T13:58:04.244Z"
   },
   {
    "duration": 16,
    "start_time": "2021-08-26T13:58:04.253Z"
   },
   {
    "duration": 300,
    "start_time": "2021-08-26T13:58:04.272Z"
   },
   {
    "duration": 101,
    "start_time": "2021-08-26T13:58:04.574Z"
   },
   {
    "duration": 22,
    "start_time": "2021-08-26T13:58:04.677Z"
   },
   {
    "duration": 9,
    "start_time": "2021-08-26T13:58:04.701Z"
   },
   {
    "duration": 210,
    "start_time": "2021-08-26T13:58:04.711Z"
   },
   {
    "duration": 395,
    "start_time": "2021-08-26T13:58:04.923Z"
   },
   {
    "duration": 5,
    "start_time": "2021-08-26T13:58:05.320Z"
   },
   {
    "duration": 336,
    "start_time": "2021-08-26T13:58:05.326Z"
   },
   {
    "duration": 475,
    "start_time": "2021-08-26T13:58:05.664Z"
   },
   {
    "duration": 5,
    "start_time": "2021-08-26T13:58:06.140Z"
   },
   {
    "duration": 9,
    "start_time": "2021-08-26T13:58:06.147Z"
   },
   {
    "duration": 73,
    "start_time": "2021-08-26T13:58:06.158Z"
   },
   {
    "duration": 67,
    "start_time": "2021-08-26T13:58:06.233Z"
   },
   {
    "duration": 20,
    "start_time": "2021-08-26T13:58:06.301Z"
   },
   {
    "duration": 74,
    "start_time": "2021-08-26T13:58:06.323Z"
   },
   {
    "duration": 67,
    "start_time": "2021-08-26T13:58:06.398Z"
   },
   {
    "duration": 41,
    "start_time": "2021-08-26T13:58:06.466Z"
   },
   {
    "duration": 142,
    "start_time": "2021-08-26T13:58:06.509Z"
   },
   {
    "duration": 6,
    "start_time": "2021-08-26T13:58:06.653Z"
   },
   {
    "duration": 135,
    "start_time": "2021-08-26T13:58:06.661Z"
   },
   {
    "duration": 13,
    "start_time": "2021-08-26T13:58:06.801Z"
   },
   {
    "duration": 12,
    "start_time": "2021-08-26T13:58:06.815Z"
   },
   {
    "duration": 6,
    "start_time": "2021-08-26T13:58:06.829Z"
   },
   {
    "duration": 9,
    "start_time": "2021-08-26T13:58:06.836Z"
   },
   {
    "duration": 11,
    "start_time": "2021-08-26T13:58:06.846Z"
   },
   {
    "duration": 8,
    "start_time": "2021-08-26T13:58:06.858Z"
   },
   {
    "duration": 28,
    "start_time": "2021-08-26T13:58:06.868Z"
   },
   {
    "duration": 14,
    "start_time": "2021-08-26T13:58:06.898Z"
   },
   {
    "duration": 14,
    "start_time": "2021-08-26T13:58:06.914Z"
   },
   {
    "duration": 228,
    "start_time": "2021-08-26T13:58:06.929Z"
   },
   {
    "duration": 397,
    "start_time": "2021-08-26T13:58:07.158Z"
   },
   {
    "duration": 997,
    "start_time": "2021-09-21T11:45:34.416Z"
   },
   {
    "duration": 1455,
    "start_time": "2021-11-17T17:12:47.545Z"
   },
   {
    "duration": 58,
    "start_time": "2021-11-17T17:12:49.003Z"
   },
   {
    "duration": 18,
    "start_time": "2021-11-17T17:12:49.065Z"
   },
   {
    "duration": 9,
    "start_time": "2021-11-17T17:12:49.086Z"
   },
   {
    "duration": 10,
    "start_time": "2021-11-17T17:12:49.097Z"
   },
   {
    "duration": 19,
    "start_time": "2021-11-17T17:12:49.109Z"
   },
   {
    "duration": 8,
    "start_time": "2021-11-17T17:12:49.131Z"
   },
   {
    "duration": 55,
    "start_time": "2021-11-17T17:12:49.142Z"
   },
   {
    "duration": 746,
    "start_time": "2021-11-17T17:12:49.202Z"
   },
   {
    "duration": 226,
    "start_time": "2021-11-17T17:12:49.952Z"
   },
   {
    "duration": 14,
    "start_time": "2021-11-17T17:12:50.180Z"
   },
   {
    "duration": 13,
    "start_time": "2021-11-17T17:12:50.197Z"
   },
   {
    "duration": 10,
    "start_time": "2021-11-17T17:12:50.213Z"
   },
   {
    "duration": 10,
    "start_time": "2021-11-17T17:12:50.225Z"
   },
   {
    "duration": 9,
    "start_time": "2021-11-17T17:12:50.283Z"
   },
   {
    "duration": 8,
    "start_time": "2021-11-17T17:12:50.294Z"
   },
   {
    "duration": 19,
    "start_time": "2021-11-17T17:12:50.305Z"
   },
   {
    "duration": 11,
    "start_time": "2021-11-17T17:12:50.327Z"
   },
   {
    "duration": 54,
    "start_time": "2021-11-17T17:12:50.341Z"
   },
   {
    "duration": 10,
    "start_time": "2021-11-17T17:12:50.398Z"
   },
   {
    "duration": 20,
    "start_time": "2021-11-17T17:12:50.410Z"
   },
   {
    "duration": 23,
    "start_time": "2021-11-17T17:12:50.432Z"
   },
   {
    "duration": 31,
    "start_time": "2021-11-17T17:12:50.457Z"
   },
   {
    "duration": 16,
    "start_time": "2021-11-17T17:12:50.490Z"
   },
   {
    "duration": 23,
    "start_time": "2021-11-17T17:12:50.509Z"
   },
   {
    "duration": 361,
    "start_time": "2021-11-17T17:12:50.535Z"
   },
   {
    "duration": 11,
    "start_time": "2021-11-17T17:12:50.902Z"
   },
   {
    "duration": 280,
    "start_time": "2021-11-17T17:12:50.916Z"
   },
   {
    "duration": 13,
    "start_time": "2021-11-17T17:12:51.199Z"
   },
   {
    "duration": 10,
    "start_time": "2021-11-17T17:12:51.214Z"
   },
   {
    "duration": 7,
    "start_time": "2021-11-17T17:12:51.226Z"
   },
   {
    "duration": 14,
    "start_time": "2021-11-17T17:12:51.235Z"
   },
   {
    "duration": 38,
    "start_time": "2021-11-17T17:12:51.251Z"
   },
   {
    "duration": 9,
    "start_time": "2021-11-17T17:12:51.291Z"
   },
   {
    "duration": 6,
    "start_time": "2021-11-17T17:12:51.302Z"
   },
   {
    "duration": 677,
    "start_time": "2021-11-17T17:12:51.310Z"
   },
   {
    "duration": 557,
    "start_time": "2021-11-17T17:12:51.989Z"
   },
   {
    "duration": 9,
    "start_time": "2021-11-17T17:12:52.548Z"
   },
   {
    "duration": 31,
    "start_time": "2021-11-17T17:12:52.560Z"
   },
   {
    "duration": 646,
    "start_time": "2021-11-17T17:12:52.593Z"
   },
   {
    "duration": 5,
    "start_time": "2021-11-17T17:12:53.241Z"
   },
   {
    "duration": 33,
    "start_time": "2021-11-17T17:12:53.249Z"
   },
   {
    "duration": 7,
    "start_time": "2021-11-17T17:12:53.285Z"
   },
   {
    "duration": 552,
    "start_time": "2021-11-17T17:12:53.294Z"
   },
   {
    "duration": 12,
    "start_time": "2021-11-17T17:12:53.848Z"
   },
   {
    "duration": 30,
    "start_time": "2021-11-17T17:12:53.863Z"
   },
   {
    "duration": 513,
    "start_time": "2021-11-17T17:12:53.895Z"
   },
   {
    "duration": 195,
    "start_time": "2021-11-17T17:12:54.410Z"
   },
   {
    "duration": 14,
    "start_time": "2021-11-17T17:12:54.607Z"
   },
   {
    "duration": 9,
    "start_time": "2021-11-17T17:12:54.623Z"
   },
   {
    "duration": 360,
    "start_time": "2021-11-17T17:12:54.635Z"
   },
   {
    "duration": 445,
    "start_time": "2021-11-17T17:12:54.998Z"
   },
   {
    "duration": 6,
    "start_time": "2021-11-17T17:12:55.445Z"
   },
   {
    "duration": 680,
    "start_time": "2021-11-17T17:12:55.454Z"
   },
   {
    "duration": 729,
    "start_time": "2021-11-17T17:12:56.137Z"
   },
   {
    "duration": 16,
    "start_time": "2021-11-17T17:12:56.869Z"
   },
   {
    "duration": 24,
    "start_time": "2021-11-17T17:12:56.888Z"
   },
   {
    "duration": 94,
    "start_time": "2021-11-17T17:12:56.915Z"
   },
   {
    "duration": 109,
    "start_time": "2021-11-17T17:12:57.012Z"
   },
   {
    "duration": 27,
    "start_time": "2021-11-17T17:12:57.123Z"
   },
   {
    "duration": 113,
    "start_time": "2021-11-17T17:12:57.153Z"
   },
   {
    "duration": 144,
    "start_time": "2021-11-17T17:12:57.268Z"
   },
   {
    "duration": 78,
    "start_time": "2021-11-17T17:12:57.415Z"
   },
   {
    "duration": 214,
    "start_time": "2021-11-17T17:12:57.496Z"
   },
   {
    "duration": 8,
    "start_time": "2021-11-17T17:12:57.713Z"
   },
   {
    "duration": 213,
    "start_time": "2021-11-17T17:12:57.724Z"
   },
   {
    "duration": 18,
    "start_time": "2021-11-17T17:12:57.940Z"
   },
   {
    "duration": 36,
    "start_time": "2021-11-17T17:12:57.960Z"
   },
   {
    "duration": 7,
    "start_time": "2021-11-17T17:12:57.998Z"
   },
   {
    "duration": 7,
    "start_time": "2021-11-17T17:12:58.007Z"
   },
   {
    "duration": 12,
    "start_time": "2021-11-17T17:12:58.016Z"
   },
   {
    "duration": 53,
    "start_time": "2021-11-17T17:12:58.030Z"
   },
   {
    "duration": 8,
    "start_time": "2021-11-17T17:12:58.086Z"
   },
   {
    "duration": 16,
    "start_time": "2021-11-17T17:12:58.096Z"
   },
   {
    "duration": 19,
    "start_time": "2021-11-17T17:12:58.115Z"
   },
   {
    "duration": 395,
    "start_time": "2021-11-17T17:12:58.136Z"
   },
   {
    "duration": 529,
    "start_time": "2021-11-17T17:12:58.534Z"
   },
   {
    "duration": 500,
    "start_time": "2021-11-17T19:56:21.133Z"
   },
   {
    "duration": 1131,
    "start_time": "2022-02-09T09:27:52.222Z"
   },
   {
    "duration": 128,
    "start_time": "2022-02-09T09:27:53.355Z"
   },
   {
    "duration": 10,
    "start_time": "2022-02-09T09:27:53.485Z"
   },
   {
    "duration": 5,
    "start_time": "2022-02-09T09:27:53.497Z"
   },
   {
    "duration": 8,
    "start_time": "2022-02-09T09:27:53.504Z"
   },
   {
    "duration": 8,
    "start_time": "2022-02-09T09:27:53.514Z"
   },
   {
    "duration": 5,
    "start_time": "2022-02-09T09:27:53.524Z"
   },
   {
    "duration": 10,
    "start_time": "2022-02-09T09:27:53.531Z"
   },
   {
    "duration": 335,
    "start_time": "2022-02-09T09:27:53.543Z"
   },
   {
    "duration": 217,
    "start_time": "2022-02-09T09:27:53.880Z"
   },
   {
    "duration": 8,
    "start_time": "2022-02-09T09:27:54.099Z"
   },
   {
    "duration": 7,
    "start_time": "2022-02-09T09:27:54.109Z"
   },
   {
    "duration": 6,
    "start_time": "2022-02-09T09:27:54.118Z"
   },
   {
    "duration": 6,
    "start_time": "2022-02-09T09:27:54.126Z"
   },
   {
    "duration": 6,
    "start_time": "2022-02-09T09:27:54.133Z"
   },
   {
    "duration": 4,
    "start_time": "2022-02-09T09:27:54.141Z"
   },
   {
    "duration": 9,
    "start_time": "2022-02-09T09:27:54.147Z"
   },
   {
    "duration": 17,
    "start_time": "2022-02-09T09:27:54.157Z"
   },
   {
    "duration": 19,
    "start_time": "2022-02-09T09:27:54.175Z"
   },
   {
    "duration": 6,
    "start_time": "2022-02-09T09:27:54.195Z"
   },
   {
    "duration": 14,
    "start_time": "2022-02-09T09:27:54.203Z"
   },
   {
    "duration": 11,
    "start_time": "2022-02-09T09:27:54.219Z"
   },
   {
    "duration": 7,
    "start_time": "2022-02-09T09:27:54.233Z"
   },
   {
    "duration": 30,
    "start_time": "2022-02-09T09:27:54.242Z"
   },
   {
    "duration": 10,
    "start_time": "2022-02-09T09:27:54.274Z"
   },
   {
    "duration": 217,
    "start_time": "2022-02-09T09:27:54.285Z"
   },
   {
    "duration": 7,
    "start_time": "2022-02-09T09:27:54.503Z"
   },
   {
    "duration": 148,
    "start_time": "2022-02-09T09:27:54.512Z"
   },
   {
    "duration": 12,
    "start_time": "2022-02-09T09:27:54.662Z"
   },
   {
    "duration": 5,
    "start_time": "2022-02-09T09:27:54.676Z"
   },
   {
    "duration": 4,
    "start_time": "2022-02-09T09:27:54.682Z"
   },
   {
    "duration": 9,
    "start_time": "2022-02-09T09:27:54.688Z"
   },
   {
    "duration": 5,
    "start_time": "2022-02-09T09:27:54.699Z"
   },
   {
    "duration": 4,
    "start_time": "2022-02-09T09:27:54.706Z"
   },
   {
    "duration": 10,
    "start_time": "2022-02-09T09:27:54.712Z"
   },
   {
    "duration": 348,
    "start_time": "2022-02-09T09:27:54.724Z"
   },
   {
    "duration": 319,
    "start_time": "2022-02-09T09:27:55.074Z"
   },
   {
    "duration": 5,
    "start_time": "2022-02-09T09:27:55.395Z"
   },
   {
    "duration": 11,
    "start_time": "2022-02-09T09:27:55.402Z"
   },
   {
    "duration": 703,
    "start_time": "2022-02-09T09:27:55.414Z"
   },
   {
    "duration": 4,
    "start_time": "2022-02-09T09:27:56.119Z"
   },
   {
    "duration": 12,
    "start_time": "2022-02-09T09:27:56.125Z"
   },
   {
    "duration": 5,
    "start_time": "2022-02-09T09:27:56.139Z"
   },
   {
    "duration": 317,
    "start_time": "2022-02-09T09:27:56.146Z"
   },
   {
    "duration": 11,
    "start_time": "2022-02-09T09:27:56.464Z"
   },
   {
    "duration": 9,
    "start_time": "2022-02-09T09:27:56.477Z"
   },
   {
    "duration": 288,
    "start_time": "2022-02-09T09:27:56.487Z"
   },
   {
    "duration": 123,
    "start_time": "2022-02-09T09:27:56.777Z"
   },
   {
    "duration": 9,
    "start_time": "2022-02-09T09:27:56.902Z"
   },
   {
    "duration": 14,
    "start_time": "2022-02-09T09:27:56.912Z"
   },
   {
    "duration": 206,
    "start_time": "2022-02-09T09:27:56.928Z"
   },
   {
    "duration": 304,
    "start_time": "2022-02-09T09:27:57.136Z"
   },
   {
    "duration": 5,
    "start_time": "2022-02-09T09:27:57.442Z"
   },
   {
    "duration": 389,
    "start_time": "2022-02-09T09:27:57.448Z"
   },
   {
    "duration": 575,
    "start_time": "2022-02-09T09:27:57.839Z"
   },
   {
    "duration": 5,
    "start_time": "2022-02-09T09:27:58.416Z"
   },
   {
    "duration": 23,
    "start_time": "2022-02-09T09:27:58.423Z"
   },
   {
    "duration": 76,
    "start_time": "2022-02-09T09:27:58.448Z"
   },
   {
    "duration": 71,
    "start_time": "2022-02-09T09:27:58.525Z"
   },
   {
    "duration": 32,
    "start_time": "2022-02-09T09:27:58.598Z"
   },
   {
    "duration": 79,
    "start_time": "2022-02-09T09:27:58.632Z"
   },
   {
    "duration": 95,
    "start_time": "2022-02-09T09:27:58.713Z"
   },
   {
    "duration": 29,
    "start_time": "2022-02-09T09:27:58.810Z"
   },
   {
    "duration": 137,
    "start_time": "2022-02-09T09:27:58.841Z"
   },
   {
    "duration": 6,
    "start_time": "2022-02-09T09:27:58.980Z"
   },
   {
    "duration": 113,
    "start_time": "2022-02-09T09:27:58.988Z"
   },
   {
    "duration": 11,
    "start_time": "2022-02-09T09:27:59.102Z"
   },
   {
    "duration": 9,
    "start_time": "2022-02-09T09:27:59.117Z"
   },
   {
    "duration": 4,
    "start_time": "2022-02-09T09:27:59.128Z"
   },
   {
    "duration": 5,
    "start_time": "2022-02-09T09:27:59.133Z"
   },
   {
    "duration": 33,
    "start_time": "2022-02-09T09:27:59.140Z"
   },
   {
    "duration": 7,
    "start_time": "2022-02-09T09:27:59.175Z"
   },
   {
    "duration": 5,
    "start_time": "2022-02-09T09:27:59.183Z"
   },
   {
    "duration": 12,
    "start_time": "2022-02-09T09:27:59.190Z"
   },
   {
    "duration": 12,
    "start_time": "2022-02-09T09:27:59.204Z"
   },
   {
    "duration": 231,
    "start_time": "2022-02-09T09:27:59.218Z"
   },
   {
    "duration": 386,
    "start_time": "2022-02-09T09:27:59.451Z"
   },
   {
    "duration": 217,
    "start_time": "2022-02-09T09:28:50.554Z"
   },
   {
    "duration": 526,
    "start_time": "2022-02-09T09:29:34.894Z"
   },
   {
    "duration": 275,
    "start_time": "2022-02-09T09:29:59.121Z"
   },
   {
    "duration": 271,
    "start_time": "2022-02-09T09:30:50.023Z"
   },
   {
    "duration": 268,
    "start_time": "2022-02-09T09:31:10.519Z"
   },
   {
    "duration": 257,
    "start_time": "2022-02-09T09:31:42.902Z"
   },
   {
    "duration": 4,
    "start_time": "2022-02-09T09:32:06.918Z"
   },
   {
    "duration": 357,
    "start_time": "2022-02-09T09:32:16.737Z"
   },
   {
    "duration": 297,
    "start_time": "2022-02-09T09:33:22.216Z"
   },
   {
    "duration": 227,
    "start_time": "2022-02-09T09:33:29.353Z"
   },
   {
    "duration": 240,
    "start_time": "2022-02-09T09:33:45.356Z"
   },
   {
    "duration": 237,
    "start_time": "2022-02-09T09:33:54.846Z"
   },
   {
    "duration": 334,
    "start_time": "2022-02-09T09:34:26.060Z"
   },
   {
    "duration": 12,
    "start_time": "2022-02-09T09:35:36.799Z"
   },
   {
    "duration": 241,
    "start_time": "2022-02-09T09:39:25.598Z"
   },
   {
    "duration": 327,
    "start_time": "2022-02-09T09:40:26.177Z"
   },
   {
    "duration": 250,
    "start_time": "2022-02-09T09:41:48.079Z"
   },
   {
    "duration": 315,
    "start_time": "2022-02-09T09:42:15.236Z"
   },
   {
    "duration": 304,
    "start_time": "2022-02-09T09:42:23.911Z"
   },
   {
    "duration": 273,
    "start_time": "2022-02-09T09:42:30.322Z"
   },
   {
    "duration": 321,
    "start_time": "2022-02-09T09:42:48.830Z"
   },
   {
    "duration": 236,
    "start_time": "2022-02-09T09:43:10.279Z"
   },
   {
    "duration": 343,
    "start_time": "2022-02-09T09:43:45.166Z"
   },
   {
    "duration": 239,
    "start_time": "2022-02-09T09:44:24.835Z"
   },
   {
    "duration": 211,
    "start_time": "2022-02-09T09:44:47.970Z"
   },
   {
    "duration": 8,
    "start_time": "2022-02-09T09:45:13.190Z"
   },
   {
    "duration": 8,
    "start_time": "2022-02-09T09:45:22.222Z"
   },
   {
    "duration": 282,
    "start_time": "2022-02-09T09:45:53.085Z"
   },
   {
    "duration": 352,
    "start_time": "2022-02-09T09:46:40.478Z"
   },
   {
    "duration": 323,
    "start_time": "2022-02-09T09:47:07.267Z"
   },
   {
    "duration": 370,
    "start_time": "2022-02-09T09:47:19.601Z"
   },
   {
    "duration": 3,
    "start_time": "2022-02-09T09:49:30.492Z"
   },
   {
    "duration": 58,
    "start_time": "2022-02-09T09:49:30.498Z"
   },
   {
    "duration": 8,
    "start_time": "2022-02-09T09:49:30.557Z"
   },
   {
    "duration": 15,
    "start_time": "2022-02-09T09:49:30.567Z"
   },
   {
    "duration": 18,
    "start_time": "2022-02-09T09:49:30.584Z"
   },
   {
    "duration": 25,
    "start_time": "2022-02-09T09:49:30.603Z"
   },
   {
    "duration": 15,
    "start_time": "2022-02-09T09:49:30.629Z"
   },
   {
    "duration": 25,
    "start_time": "2022-02-09T09:49:30.646Z"
   },
   {
    "duration": 14,
    "start_time": "2022-02-09T09:49:30.673Z"
   },
   {
    "duration": 252,
    "start_time": "2022-02-09T09:49:30.689Z"
   },
   {
    "duration": 125,
    "start_time": "2022-02-09T09:49:30.943Z"
   },
   {
    "duration": 8,
    "start_time": "2022-02-09T09:49:31.070Z"
   },
   {
    "duration": 8,
    "start_time": "2022-02-09T09:49:31.080Z"
   },
   {
    "duration": 9,
    "start_time": "2022-02-09T09:49:31.089Z"
   },
   {
    "duration": 7,
    "start_time": "2022-02-09T09:49:31.099Z"
   },
   {
    "duration": 7,
    "start_time": "2022-02-09T09:49:31.108Z"
   },
   {
    "duration": 6,
    "start_time": "2022-02-09T09:49:31.116Z"
   },
   {
    "duration": 8,
    "start_time": "2022-02-09T09:49:31.123Z"
   },
   {
    "duration": 42,
    "start_time": "2022-02-09T09:49:31.132Z"
   },
   {
    "duration": 95,
    "start_time": "2022-02-09T09:49:31.176Z"
   },
   {
    "duration": 7,
    "start_time": "2022-02-09T09:49:31.273Z"
   },
   {
    "duration": 20,
    "start_time": "2022-02-09T09:49:31.284Z"
   },
   {
    "duration": 10,
    "start_time": "2022-02-09T09:49:31.307Z"
   },
   {
    "duration": 18,
    "start_time": "2022-02-09T09:49:31.319Z"
   },
   {
    "duration": 13,
    "start_time": "2022-02-09T09:49:31.339Z"
   },
   {
    "duration": 14,
    "start_time": "2022-02-09T09:49:31.354Z"
   },
   {
    "duration": 200,
    "start_time": "2022-02-09T09:49:31.370Z"
   },
   {
    "duration": 7,
    "start_time": "2022-02-09T09:49:31.571Z"
   },
   {
    "duration": 154,
    "start_time": "2022-02-09T09:49:31.580Z"
   },
   {
    "duration": 11,
    "start_time": "2022-02-09T09:49:31.736Z"
   },
   {
    "duration": 6,
    "start_time": "2022-02-09T09:49:31.749Z"
   },
   {
    "duration": 2,
    "start_time": "2022-02-09T09:49:31.771Z"
   },
   {
    "duration": 9,
    "start_time": "2022-02-09T09:49:31.775Z"
   },
   {
    "duration": 8,
    "start_time": "2022-02-09T09:49:31.786Z"
   },
   {
    "duration": 271,
    "start_time": "2022-02-09T09:49:31.795Z"
   },
   {
    "duration": 246,
    "start_time": "2022-02-09T09:49:32.071Z"
   },
   {
    "duration": 6,
    "start_time": "2022-02-09T09:49:32.318Z"
   },
   {
    "duration": 9,
    "start_time": "2022-02-09T09:49:32.326Z"
   },
   {
    "duration": 467,
    "start_time": "2022-02-09T09:49:32.336Z"
   },
   {
    "duration": 4,
    "start_time": "2022-02-09T09:49:32.805Z"
   },
   {
    "duration": 12,
    "start_time": "2022-02-09T09:49:32.811Z"
   },
   {
    "duration": 7,
    "start_time": "2022-02-09T09:49:32.825Z"
   },
   {
    "duration": 359,
    "start_time": "2022-02-09T09:49:32.834Z"
   },
   {
    "duration": 9,
    "start_time": "2022-02-09T09:49:33.196Z"
   },
   {
    "duration": 9,
    "start_time": "2022-02-09T09:49:33.207Z"
   },
   {
    "duration": 230,
    "start_time": "2022-02-09T09:49:33.217Z"
   },
   {
    "duration": 91,
    "start_time": "2022-02-09T09:49:33.449Z"
   },
   {
    "duration": 6,
    "start_time": "2022-02-09T09:49:33.541Z"
   },
   {
    "duration": 4,
    "start_time": "2022-02-09T09:49:33.549Z"
   },
   {
    "duration": 190,
    "start_time": "2022-02-09T09:49:33.555Z"
   },
   {
    "duration": 367,
    "start_time": "2022-02-09T09:49:33.746Z"
   },
   {
    "duration": 4,
    "start_time": "2022-02-09T09:49:34.115Z"
   },
   {
    "duration": 344,
    "start_time": "2022-02-09T09:49:34.121Z"
   },
   {
    "duration": 417,
    "start_time": "2022-02-09T09:49:34.467Z"
   },
   {
    "duration": 5,
    "start_time": "2022-02-09T09:49:34.886Z"
   },
   {
    "duration": 14,
    "start_time": "2022-02-09T09:49:34.893Z"
   },
   {
    "duration": 66,
    "start_time": "2022-02-09T09:49:34.908Z"
   },
   {
    "duration": 66,
    "start_time": "2022-02-09T09:49:34.975Z"
   },
   {
    "duration": 32,
    "start_time": "2022-02-09T09:49:35.043Z"
   },
   {
    "duration": 63,
    "start_time": "2022-02-09T09:49:35.080Z"
   },
   {
    "duration": 81,
    "start_time": "2022-02-09T09:49:35.145Z"
   },
   {
    "duration": 47,
    "start_time": "2022-02-09T09:49:35.228Z"
   },
   {
    "duration": 115,
    "start_time": "2022-02-09T09:49:35.277Z"
   },
   {
    "duration": 6,
    "start_time": "2022-02-09T09:49:35.394Z"
   },
   {
    "duration": 116,
    "start_time": "2022-02-09T09:49:35.401Z"
   },
   {
    "duration": 11,
    "start_time": "2022-02-09T09:49:35.518Z"
   },
   {
    "duration": 40,
    "start_time": "2022-02-09T09:49:35.531Z"
   },
   {
    "duration": 5,
    "start_time": "2022-02-09T09:49:35.573Z"
   },
   {
    "duration": 29,
    "start_time": "2022-02-09T09:49:35.579Z"
   },
   {
    "duration": 27,
    "start_time": "2022-02-09T09:49:35.609Z"
   },
   {
    "duration": 10,
    "start_time": "2022-02-09T09:49:35.637Z"
   },
   {
    "duration": 12,
    "start_time": "2022-02-09T09:49:35.649Z"
   },
   {
    "duration": 10,
    "start_time": "2022-02-09T09:49:35.663Z"
   },
   {
    "duration": 14,
    "start_time": "2022-02-09T09:49:35.675Z"
   },
   {
    "duration": 220,
    "start_time": "2022-02-09T09:49:35.691Z"
   },
   {
    "duration": 435,
    "start_time": "2022-02-09T09:49:35.912Z"
   }
  ],
  "kernelspec": {
   "display_name": "Python 3",
   "language": "python",
   "name": "python3"
  },
  "language_info": {
   "codemirror_mode": {
    "name": "ipython",
    "version": 3
   },
   "file_extension": ".py",
   "mimetype": "text/x-python",
   "name": "python",
   "nbconvert_exporter": "python",
   "pygments_lexer": "ipython3",
   "version": "3.7.8"
  },
  "toc": {
   "base_numbering": 1,
   "nav_menu": {},
   "number_sections": true,
   "sideBar": true,
   "skip_h1_title": true,
   "title_cell": "Table of Contents",
   "title_sidebar": "Contents",
   "toc_cell": false,
   "toc_position": {},
   "toc_section_display": true,
   "toc_window_display": false
  }
 },
 "nbformat": 4,
 "nbformat_minor": 2
}
